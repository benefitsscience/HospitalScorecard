{
 "cells": [
  {
   "cell_type": "code",
   "execution_count": 1,
   "id": "initial_id",
   "metadata": {
    "collapsed": true,
    "ExecuteTime": {
     "end_time": "2024-06-12T20:56:43.667866500Z",
     "start_time": "2024-06-12T20:56:38.819544400Z"
    }
   },
   "outputs": [
    {
     "name": "stderr",
     "output_type": "stream",
     "text": [
      "C:\\Users\\geoff.joe\\AppData\\Local\\Temp\\ipykernel_23268\\2405525532.py:1: DeprecationWarning: \n",
      "Pyarrow will become a required dependency of pandas in the next major release of pandas (pandas 3.0),\n",
      "(to allow more performant data types, such as the Arrow string type, and better interoperability with other libraries)\n",
      "but was not found to be installed on your system.\n",
      "If this would cause problems for you,\n",
      "please provide us feedback at https://github.com/pandas-dev/pandas/issues/54466\n",
      "        \n",
      "  import pandas as pd\n"
     ]
    }
   ],
   "source": [
    "import pandas as pd\n",
    "from trino.dbapi import connect \n",
    "import numpy as np\n",
    "from dateutil.relativedelta import relativedelta\n",
    "from scipy.stats import gmean"
   ]
  },
  {
   "cell_type": "code",
   "execution_count": 2,
   "outputs": [],
   "source": [
    "def read_from_hive(sql_script):\n",
    "    conn = connect(\n",
    "            host='presto.bstis.com',\n",
    "            port=8080,\n",
    "            user='hadoop',\n",
    "            catalog='hive',\n",
    "            #schema='default'\n",
    "            )\n",
    "    cur = conn.cursor()\n",
    "    cur.execute(sql_script)\n",
    "    rows = cur.fetchall()\n",
    "    columns = [desc[0] for desc in cur.description]\n",
    "    df = pd.DataFrame(rows,columns=columns)\n",
    "    return df"
   ],
   "metadata": {
    "collapsed": false,
    "ExecuteTime": {
     "end_time": "2024-06-12T20:56:43.688848400Z",
     "start_time": "2024-06-12T20:56:43.670876800Z"
    }
   },
   "id": "95399699fd778418"
  },
  {
   "cell_type": "code",
   "execution_count": 3,
   "outputs": [
    {
     "name": "stderr",
     "output_type": "stream",
     "text": [
      "C:\\Users\\geoff.joe\\AppData\\Local\\Temp\\ipykernel_23268\\3400115548.py:1: DtypeWarning: Columns (9,11) have mixed types. Specify dtype option on import or set low_memory=False.\n",
      "  Top20 = pd.read_csv('Outputs/Top20Systems.csv', dtype={'billingprovidertaxid': str})\n"
     ]
    }
   ],
   "source": [
    "Top20 = pd.read_csv('Outputs/Top20Systems.csv', dtype={'billingprovidertaxid': str})\n",
    "ZipMSA = pd.read_csv('Data Sources/ZipMSA.txt', sep='\\t', dtype={'zipcode': str})"
   ],
   "metadata": {
    "collapsed": false,
    "ExecuteTime": {
     "end_time": "2024-06-12T20:56:51.527734100Z",
     "start_time": "2024-06-12T20:56:43.680848800Z"
    }
   },
   "id": "832b25d801c69bc3"
  },
  {
   "cell_type": "code",
   "execution_count": 4,
   "outputs": [],
   "source": [
    "tins_list = Top20['billingprovidertaxid'].unique()\n",
    "tins_list = ', '.join(f\"'{tin}'\" for tin in tins_list)"
   ],
   "metadata": {
    "collapsed": false,
    "ExecuteTime": {
     "end_time": "2024-06-12T20:56:51.726789700Z",
     "start_time": "2024-06-12T20:56:51.519223900Z"
    }
   },
   "id": "cef6fff07d18e97"
  },
  {
   "cell_type": "markdown",
   "source": [
    "# Pull Claims Data"
   ],
   "metadata": {
    "collapsed": false
   },
   "id": "5808f96a6b3868bd"
  },
  {
   "cell_type": "code",
   "execution_count": 5,
   "outputs": [],
   "source": [
    "\n",
    "    sSQL = f'''\n",
    "        SELECT billingprovidername,\n",
    "           billingprovidertaxid,\n",
    "           billingprovidernpi,\n",
    "           billingproviderid,\n",
    "           billingproviderzip,\n",
    "--           tenantid,\n",
    "--           personid,\n",
    "--           claimid,\n",
    "           tpaclaimid,\n",
    "           dosstart,\n",
    "           dosend,\n",
    "           innetworkflag,\n",
    "           proceduretype,\n",
    "           procedurecode,\n",
    "           drg_code,\n",
    "           drg_code_description,\n",
    "           servicecategory_details,\n",
    "           locationtype,\n",
    "           facility_indicator,\n",
    "           sum(amtbilled) as amtbilled,\n",
    "           sum(amtcovered) as amtcovered,\n",
    "           sum(amtallowed) as amtallowed\n",
    "        FROM hive.bcbstx_nonev_prod.claims \n",
    "        WHERE  dosplanyear = '2023'\n",
    "        AND   locationtype = '21'\n",
    "        AND innetworkflag = 1\n",
    "        and drg_code <> ''\n",
    "        and facility_indicator = 'Facility'\n",
    "        and billingprovidertaxid in ({tins_list})\n",
    "        group by 1,2,3,4,5,6,7,8,9,10,11,12,13,14,15,16\n",
    "    '''.format(tins_list=tins_list)\n",
    "\n",
    "    df_claims = read_from_hive(sSQL)\n",
    "    df_claims.to_csv(f'Data Sources/Claims_nonev_ip.gz', index=False, compression='gzip')\n",
    "\n",
    "        \n",
    "    "
   ],
   "metadata": {
    "collapsed": false,
    "ExecuteTime": {
     "end_time": "2024-06-12T17:38:01.490873700Z",
     "start_time": "2024-06-12T17:36:12.021664900Z"
    }
   },
   "id": "338a568d7f81689b"
  },
  {
   "cell_type": "code",
   "execution_count": 6,
   "outputs": [],
   "source": [
    "    sSQL = f'''\n",
    "        SELECT billingprovidername,\n",
    "           billingprovidertaxid,\n",
    "           billingprovidernpi,\n",
    "           billingproviderid,\n",
    "           billingproviderzip,\n",
    "--           tenantid,\n",
    "--           personid,\n",
    "--           claimid,\n",
    "           tpaclaimid,\n",
    "           dosstart,\n",
    "           dosend,\n",
    "           innetworkflag,\n",
    "           proceduretype,\n",
    "           procedurecode,\n",
    "           drg_code,\n",
    "           drg_code_description,\n",
    "           servicecategory_details,\n",
    "           locationtype,\n",
    "           facility_indicator,\n",
    "           sum(amtbilled) as amtbilled,\n",
    "           sum(amtcovered) as amtcovered,\n",
    "           sum(amtallowed) as amtallowed\n",
    "        FROM hive.allbcbstxev.claims \n",
    "        WHERE  dosplanyear = '2023'\n",
    "        AND   locationtype = '21'\n",
    "        AND innetworkflag = 1\n",
    "        and drg_code <> ''\n",
    "        and facility_indicator = 'Facility'\n",
    "        and billingprovidertaxid in ({tins_list})\n",
    "        group by 1,2,3,4,5,6,7,8,9,10,11,12,13,14,15,16\n",
    "    '''.format(tins_list=tins_list)\n",
    "\n",
    "    df_claims = read_from_hive(sSQL)\n",
    "    df_claims.to_csv(f'Data Sources/Claims_ev_ip.gz', index=False, compression='gzip')"
   ],
   "metadata": {
    "collapsed": false,
    "ExecuteTime": {
     "end_time": "2024-06-11T20:24:29.255868Z",
     "start_time": "2024-06-11T20:01:31.360547400Z"
    }
   },
   "id": "de454c3da98fd24b"
  },
  {
   "cell_type": "markdown",
   "source": [
    "# Inpatient Facility"
   ],
   "metadata": {
    "collapsed": false
   },
   "id": "79eb074a841a34e7"
  },
  {
   "cell_type": "code",
   "execution_count": 5,
   "outputs": [],
   "source": [
    "df_claims_nonev = pd.read_csv('Data Sources/Claims_nonev_ip.gz', compression='gzip', low_memory=False, dtype={'billingproviderzip': str,\n",
    "                                     'billingprovidertaxid': str,\n",
    "                                     'billingprovidernpi': str,\n",
    "                                     'locationtype': str,\n",
    "                                     'innetworkflag': str,\n",
    "                                     'tpaclaimid': str,\n",
    "                                     'drg_code':str,\n",
    "                                     'drg_code_description':str})\n",
    "\n",
    "df_claims_ev = pd.read_csv('Data Sources/Claims_ev_ip.gz', compression='gzip', low_memory=False, dtype={'billingproviderzip': str,\n",
    "                                     'billingprovidertaxid': str,\n",
    "                                     'billingprovidernpi': str,\n",
    "                                     'locationtype': str,\n",
    "                                     'innetworkflag': str,\n",
    "                                     'tpaclaimid': str,\n",
    "                                     'drg_code':str,\n",
    "                                     'drg_code_description':str})\n",
    "\n",
    "df_claims = pd.concat([df_claims_nonev, df_claims_ev])\n",
    "# df_claims = df_claims[(df_claims['billingprovidertaxid'] == '741100555') & (df_claims['billingprovidernpi'] == '1477643690') & (df_claims['facility_indicator'] == 'Facility') & (df_claims['drg_code'] == '790')]\n",
    "# claims = df_claims['tpaclaimid'].nunique()\n",
    "# claims"
   ],
   "metadata": {
    "collapsed": false,
    "ExecuteTime": {
     "end_time": "2024-06-12T20:56:53.338032200Z",
     "start_time": "2024-06-12T20:56:51.707320700Z"
    }
   },
   "id": "2016dd8d839053b2"
  },
  {
   "cell_type": "code",
   "execution_count": 6,
   "outputs": [
    {
     "name": "stderr",
     "output_type": "stream",
     "text": [
      "C:\\Users\\geoff.joe\\AppData\\Local\\Temp\\ipykernel_23268\\4087447607.py:4: SettingWithCopyWarning: \n",
      "A value is trying to be set on a copy of a slice from a DataFrame.\n",
      "Try using .loc[row_indexer,col_indexer] = value instead\n",
      "\n",
      "See the caveats in the documentation: https://pandas.pydata.org/pandas-docs/stable/user_guide/indexing.html#returning-a-view-versus-a-copy\n",
      "  df_claims_ip.billingprovidertaxid = df_claims_ip.billingprovidertaxid.fillna(0).apply( lambda x : 0 if x == '00000PROV' else x )\n",
      "C:\\Users\\geoff.joe\\AppData\\Local\\Temp\\ipykernel_23268\\4087447607.py:5: SettingWithCopyWarning: \n",
      "A value is trying to be set on a copy of a slice from a DataFrame.\n",
      "Try using .loc[row_indexer,col_indexer] = value instead\n",
      "\n",
      "See the caveats in the documentation: https://pandas.pydata.org/pandas-docs/stable/user_guide/indexing.html#returning-a-view-versus-a-copy\n",
      "  df_claims_ip.billingprovidertaxid = df_claims_ip.billingprovidertaxid.fillna(0).apply( lambda x : 0 if x == '' else int(x) )\n"
     ]
    },
    {
     "data": {
      "text/plain": "                                     billingprovidername billingprovidertaxid  \\\n0                              TEXAS CHILDREN'S HOSPITAL            741100555   \n1       UNIVERSITY OF TEXAS M. D. ANDERSON CANCER CENTER            746001118   \n2                         MEMORIAL HERMANN HEALTH SYSTEM            741152597   \n3                                 THE METHODIST HOSPITAL            741180155   \n4       UNIVERSITY OF TEXAS M. D. ANDERSON CANCER CENTER            746001118   \n...                                                  ...                  ...   \n31649                             CR EMERGENCY ROOM, LLC            262978009   \n31650  CHI ST. LUKE'S HEALTH BAYLOR COLLEGE OF MEDICI...            741161938   \n31651  CHI ST. LUKE'S HEALTH BAYLOR COLLEGE OF MEDICI...            741161938   \n31652  METHODIST HEALTHCARE SYSTEM OF SAN ANTONIO, LT...            742730328   \n31653                           METHODIST HEALTH CENTERS            760545192   \n\n      billingprovidernpi billingproviderid servicecategory_details  \\\n0             1477643690     000H0HH022201    Inpatient - Hospital   \n1             1174582050     000H0HH015701    Inpatient - Hospital   \n2             1982666111     000H0HH019601    Inpatient - Hospital   \n3             1548387418     000H0HH006601    Inpatient - Hospital   \n4             1174582050     000H0HH015701    Inpatient - Hospital   \n...                  ...               ...                     ...   \n31649         1619308319     000H0HH113D01    Inpatient - Hospital   \n31650         1184622847     000H0HH032601    Inpatient - Hospital   \n31651         1184622847     000H0HH032601    Inpatient - Hospital   \n31652         1124074273     000H0HH067901    Inpatient - Hospital   \n31653         1871619254     000H0HH098601    Inpatient - Hospital   \n\n      facility_indicator                             cbsa_name drg_code  \\\n0               Facility  Houston-The Woodlands-Sugar Land, TX      790   \n1               Facility  Houston-The Woodlands-Sugar Land, TX      834   \n2               Facility  Houston-The Woodlands-Sugar Land, TX      003   \n3               Facility  Houston-The Woodlands-Sugar Land, TX      005   \n4               Facility  Houston-The Woodlands-Sugar Land, TX      840   \n...                  ...                                   ...      ...   \n31649           Facility       Dallas-Fort Worth-Arlington, TX      638   \n31650           Facility  Houston-The Woodlands-Sugar Land, TX      261   \n31651           Facility  Houston-The Woodlands-Sugar Land, TX      514   \n31652           Facility         San Antonio-New Braunfels, TX      694   \n31653           Facility  Houston-The Woodlands-Sugar Land, TX      947   \n\n       claimcount   amtcovered   amtallowed                               IDN  \\\n0              87  42877027.02  26851271.69          Texas Childrens Hospital   \n1             147  24762488.70  16089005.14       University of Texas Systems   \n2              25  35270137.79  14991509.10  Memorial Hermann Hospital System   \n3              23  34844839.56  13869745.92                Methodist Hospital   \n4             160  21751463.39  13640137.30       University of Texas Systems   \n...           ...          ...          ...                               ...   \n31649           1         0.76         4.93     Baylor Scott and White Health   \n31650           1         0.50         4.86               CHI St Lukes Health   \n31651           1         1.75         4.57               CHI St Lukes Health   \n31652           1         3.37         3.56                    HCA Healthcare   \n31653           1         0.00         0.90                Methodist Hospital   \n\n       rank  AvgLengthOfStay        weight    cumsum  IDNWeight  \n0         9        14.617114  6.491317e-03  0.006491   0.044824  \n1         4        13.457594  3.889530e-03  0.010381   0.050218  \n2         6        23.558717  3.624210e-03  0.014005   0.090547  \n3         5        21.677489  3.353022e-03  0.017358   0.092114  \n4         4         8.717614  3.297514e-03  0.020656   0.050218  \n...     ...              ...           ...       ...        ...  \n31649     2         3.711052  1.191832e-09  1.000000   0.112514  \n31650    14         5.051969  1.174909e-09  1.000000   0.024967  \n31651    14         3.303407  1.104801e-09  1.000000   0.024967  \n31652     1         2.500851  8.606329e-10  1.000000   0.215576  \n31653     5         7.099910  2.175757e-10  1.000000   0.092114  \n\n[31654 rows x 17 columns]",
      "text/html": "<div>\n<style scoped>\n    .dataframe tbody tr th:only-of-type {\n        vertical-align: middle;\n    }\n\n    .dataframe tbody tr th {\n        vertical-align: top;\n    }\n\n    .dataframe thead th {\n        text-align: right;\n    }\n</style>\n<table border=\"1\" class=\"dataframe\">\n  <thead>\n    <tr style=\"text-align: right;\">\n      <th></th>\n      <th>billingprovidername</th>\n      <th>billingprovidertaxid</th>\n      <th>billingprovidernpi</th>\n      <th>billingproviderid</th>\n      <th>servicecategory_details</th>\n      <th>facility_indicator</th>\n      <th>cbsa_name</th>\n      <th>drg_code</th>\n      <th>claimcount</th>\n      <th>amtcovered</th>\n      <th>amtallowed</th>\n      <th>IDN</th>\n      <th>rank</th>\n      <th>AvgLengthOfStay</th>\n      <th>weight</th>\n      <th>cumsum</th>\n      <th>IDNWeight</th>\n    </tr>\n  </thead>\n  <tbody>\n    <tr>\n      <th>0</th>\n      <td>TEXAS CHILDREN'S HOSPITAL</td>\n      <td>741100555</td>\n      <td>1477643690</td>\n      <td>000H0HH022201</td>\n      <td>Inpatient - Hospital</td>\n      <td>Facility</td>\n      <td>Houston-The Woodlands-Sugar Land, TX</td>\n      <td>790</td>\n      <td>87</td>\n      <td>42877027.02</td>\n      <td>26851271.69</td>\n      <td>Texas Childrens Hospital</td>\n      <td>9</td>\n      <td>14.617114</td>\n      <td>6.491317e-03</td>\n      <td>0.006491</td>\n      <td>0.044824</td>\n    </tr>\n    <tr>\n      <th>1</th>\n      <td>UNIVERSITY OF TEXAS M. D. ANDERSON CANCER CENTER</td>\n      <td>746001118</td>\n      <td>1174582050</td>\n      <td>000H0HH015701</td>\n      <td>Inpatient - Hospital</td>\n      <td>Facility</td>\n      <td>Houston-The Woodlands-Sugar Land, TX</td>\n      <td>834</td>\n      <td>147</td>\n      <td>24762488.70</td>\n      <td>16089005.14</td>\n      <td>University of Texas Systems</td>\n      <td>4</td>\n      <td>13.457594</td>\n      <td>3.889530e-03</td>\n      <td>0.010381</td>\n      <td>0.050218</td>\n    </tr>\n    <tr>\n      <th>2</th>\n      <td>MEMORIAL HERMANN HEALTH SYSTEM</td>\n      <td>741152597</td>\n      <td>1982666111</td>\n      <td>000H0HH019601</td>\n      <td>Inpatient - Hospital</td>\n      <td>Facility</td>\n      <td>Houston-The Woodlands-Sugar Land, TX</td>\n      <td>003</td>\n      <td>25</td>\n      <td>35270137.79</td>\n      <td>14991509.10</td>\n      <td>Memorial Hermann Hospital System</td>\n      <td>6</td>\n      <td>23.558717</td>\n      <td>3.624210e-03</td>\n      <td>0.014005</td>\n      <td>0.090547</td>\n    </tr>\n    <tr>\n      <th>3</th>\n      <td>THE METHODIST HOSPITAL</td>\n      <td>741180155</td>\n      <td>1548387418</td>\n      <td>000H0HH006601</td>\n      <td>Inpatient - Hospital</td>\n      <td>Facility</td>\n      <td>Houston-The Woodlands-Sugar Land, TX</td>\n      <td>005</td>\n      <td>23</td>\n      <td>34844839.56</td>\n      <td>13869745.92</td>\n      <td>Methodist Hospital</td>\n      <td>5</td>\n      <td>21.677489</td>\n      <td>3.353022e-03</td>\n      <td>0.017358</td>\n      <td>0.092114</td>\n    </tr>\n    <tr>\n      <th>4</th>\n      <td>UNIVERSITY OF TEXAS M. D. ANDERSON CANCER CENTER</td>\n      <td>746001118</td>\n      <td>1174582050</td>\n      <td>000H0HH015701</td>\n      <td>Inpatient - Hospital</td>\n      <td>Facility</td>\n      <td>Houston-The Woodlands-Sugar Land, TX</td>\n      <td>840</td>\n      <td>160</td>\n      <td>21751463.39</td>\n      <td>13640137.30</td>\n      <td>University of Texas Systems</td>\n      <td>4</td>\n      <td>8.717614</td>\n      <td>3.297514e-03</td>\n      <td>0.020656</td>\n      <td>0.050218</td>\n    </tr>\n    <tr>\n      <th>...</th>\n      <td>...</td>\n      <td>...</td>\n      <td>...</td>\n      <td>...</td>\n      <td>...</td>\n      <td>...</td>\n      <td>...</td>\n      <td>...</td>\n      <td>...</td>\n      <td>...</td>\n      <td>...</td>\n      <td>...</td>\n      <td>...</td>\n      <td>...</td>\n      <td>...</td>\n      <td>...</td>\n      <td>...</td>\n    </tr>\n    <tr>\n      <th>31649</th>\n      <td>CR EMERGENCY ROOM, LLC</td>\n      <td>262978009</td>\n      <td>1619308319</td>\n      <td>000H0HH113D01</td>\n      <td>Inpatient - Hospital</td>\n      <td>Facility</td>\n      <td>Dallas-Fort Worth-Arlington, TX</td>\n      <td>638</td>\n      <td>1</td>\n      <td>0.76</td>\n      <td>4.93</td>\n      <td>Baylor Scott and White Health</td>\n      <td>2</td>\n      <td>3.711052</td>\n      <td>1.191832e-09</td>\n      <td>1.000000</td>\n      <td>0.112514</td>\n    </tr>\n    <tr>\n      <th>31650</th>\n      <td>CHI ST. LUKE'S HEALTH BAYLOR COLLEGE OF MEDICI...</td>\n      <td>741161938</td>\n      <td>1184622847</td>\n      <td>000H0HH032601</td>\n      <td>Inpatient - Hospital</td>\n      <td>Facility</td>\n      <td>Houston-The Woodlands-Sugar Land, TX</td>\n      <td>261</td>\n      <td>1</td>\n      <td>0.50</td>\n      <td>4.86</td>\n      <td>CHI St Lukes Health</td>\n      <td>14</td>\n      <td>5.051969</td>\n      <td>1.174909e-09</td>\n      <td>1.000000</td>\n      <td>0.024967</td>\n    </tr>\n    <tr>\n      <th>31651</th>\n      <td>CHI ST. LUKE'S HEALTH BAYLOR COLLEGE OF MEDICI...</td>\n      <td>741161938</td>\n      <td>1184622847</td>\n      <td>000H0HH032601</td>\n      <td>Inpatient - Hospital</td>\n      <td>Facility</td>\n      <td>Houston-The Woodlands-Sugar Land, TX</td>\n      <td>514</td>\n      <td>1</td>\n      <td>1.75</td>\n      <td>4.57</td>\n      <td>CHI St Lukes Health</td>\n      <td>14</td>\n      <td>3.303407</td>\n      <td>1.104801e-09</td>\n      <td>1.000000</td>\n      <td>0.024967</td>\n    </tr>\n    <tr>\n      <th>31652</th>\n      <td>METHODIST HEALTHCARE SYSTEM OF SAN ANTONIO, LT...</td>\n      <td>742730328</td>\n      <td>1124074273</td>\n      <td>000H0HH067901</td>\n      <td>Inpatient - Hospital</td>\n      <td>Facility</td>\n      <td>San Antonio-New Braunfels, TX</td>\n      <td>694</td>\n      <td>1</td>\n      <td>3.37</td>\n      <td>3.56</td>\n      <td>HCA Healthcare</td>\n      <td>1</td>\n      <td>2.500851</td>\n      <td>8.606329e-10</td>\n      <td>1.000000</td>\n      <td>0.215576</td>\n    </tr>\n    <tr>\n      <th>31653</th>\n      <td>METHODIST HEALTH CENTERS</td>\n      <td>760545192</td>\n      <td>1871619254</td>\n      <td>000H0HH098601</td>\n      <td>Inpatient - Hospital</td>\n      <td>Facility</td>\n      <td>Houston-The Woodlands-Sugar Land, TX</td>\n      <td>947</td>\n      <td>1</td>\n      <td>0.00</td>\n      <td>0.90</td>\n      <td>Methodist Hospital</td>\n      <td>5</td>\n      <td>7.099910</td>\n      <td>2.175757e-10</td>\n      <td>1.000000</td>\n      <td>0.092114</td>\n    </tr>\n  </tbody>\n</table>\n<p>31654 rows × 17 columns</p>\n</div>"
     },
     "execution_count": 6,
     "metadata": {},
     "output_type": "execute_result"
    }
   ],
   "source": [
    "df_claims = df_claims.merge(ZipMSA[['zipcode', 'state', 'cbsa_name']], left_on='billingproviderzip', right_on='zipcode', how='left')\n",
    "\n",
    "df_claims_ip = df_claims[df_claims.state == 'TX']\n",
    "df_claims_ip.billingprovidertaxid = df_claims_ip.billingprovidertaxid.fillna(0).apply( lambda x : 0 if x == '00000PROV' else x )\n",
    "df_claims_ip.billingprovidertaxid = df_claims_ip.billingprovidertaxid.fillna(0).apply( lambda x : 0 if x == '' else int(x) )\n",
    "\n",
    "# Filter and convert data type\n",
    "df_claims_ip = df_claims_ip[(df_claims_ip.billingprovidertaxid != 0) & (df_claims_ip.billingprovidertaxid != 111111111) & (df_claims_ip.billingprovidertaxid != 999999999)]\n",
    "df_claims_ip = df_claims_ip.astype({'billingprovidertaxid': str})\n",
    "\n",
    "\n",
    "# Calculate length of stay\n",
    "LOS = df_claims_ip.copy()\n",
    "LOS['dosstart'] = pd.to_datetime(LOS['dosstart'])\n",
    "LOS['dosend'] = pd.to_datetime(LOS['dosend'])\n",
    "LOS['AvgLengthOfStay'] = (LOS['dosend'] - LOS['dosstart']).dt.days + 1\n",
    "LOS = LOS.dropna(subset=['AvgLengthOfStay'])\n",
    "LOS['AvgLengthOfStay'] = LOS.groupby('drg_code')['AvgLengthOfStay'].transform(lambda x: gmean(x))\n",
    "LOS = LOS.drop_duplicates(subset=['drg_code'])\n",
    "LOS = LOS.groupby(['drg_code']).agg({'AvgLengthOfStay':'mean'}).reset_index()\n",
    "\n",
    "df_covered = df_claims_ip.groupby(['tpaclaimid']).agg({'amtcovered': 'sum'})\n",
    "df_covered = df_covered[df_covered.amtcovered > 0]\n",
    "df_claims_ip = df_claims_ip[df_claims_ip.tpaclaimid.isin(df_covered.index)]\n",
    "\n",
    "# Group and aggregate\n",
    "df_claims_ip = df_claims_ip.groupby(['billingprovidername', 'billingprovidertaxid','billingprovidernpi', 'billingproviderid', 'servicecategory_details', 'facility_indicator', 'cbsa_name', 'drg_code']).agg({'tpaclaimid': 'nunique', 'amtcovered':'sum', 'amtallowed': 'sum'}).reset_index()\n",
    "\n",
    "df_claims_ip = df_claims_ip.rename(columns={'tpaclaimid': 'claimcount'})\n",
    "\n",
    "\n",
    "# Sort, merge and query\n",
    "df_claims_ip = df_claims_ip.sort_values('amtallowed', ascending = False)\n",
    "df_claims_ip = df_claims_ip.merge(Top20[['IDN','rank','billingprovidertaxid']].drop_duplicates(), on='billingprovidertaxid', how='left')\n",
    "# # df_claims_ip = df_claims_ip.query(\"`Contract/Corp Entity Name`.notnull() and `Facility Type` == 'Acute Care Gen'\")\n",
    "df_claims_ip = df_claims_ip[df_claims_ip['amtallowed'] > 0]\n",
    "df_claims_ip = df_claims_ip.merge(LOS, on='drg_code', how='left')\n",
    "\n",
    "df_claims_ip['weight'] = df_claims_ip['amtallowed'] / df_claims_ip['amtallowed'].sum()\n",
    "df_claims_ip['cumsum'] = df_claims_ip['weight'].cumsum()\n",
    "df_claims_ip['IDNWeight'] = df_claims_ip.groupby('IDN')['weight'].transform('sum')\n",
    "\n",
    "# df_claims_ip = df_claims_ip[(df_claims_ip['billingprovidertaxid'] == '741100555') & (df_claims_ip['billingprovidernpi'] == '1477643690') & (df_claims_ip['facility_indicator'] == 'Facility') & (df_claims_ip['drg_code'] == '790')]\n",
    "# df_claims_ip = df_claims_ip[df_claims_ip['rank'] == 1]\n",
    "df_claims_ip\n"
   ],
   "metadata": {
    "collapsed": false,
    "ExecuteTime": {
     "end_time": "2024-06-12T20:57:13.089224100Z",
     "start_time": "2024-06-12T20:57:07.052345500Z"
    }
   },
   "id": "9595ad5185f9d561"
  },
  {
   "cell_type": "code",
   "execution_count": 7,
   "outputs": [],
   "source": [
    "del df_claims, df_claims_nonev, df_claims_ev, LOS"
   ],
   "metadata": {
    "collapsed": false,
    "ExecuteTime": {
     "end_time": "2024-06-12T20:57:13.211039500Z",
     "start_time": "2024-06-12T20:57:13.049219700Z"
    }
   },
   "id": "d233c362e66dbb64"
  },
  {
   "cell_type": "code",
   "execution_count": 8,
   "outputs": [],
   "source": [
    "tins_list = df_claims_ip['billingprovidertaxid'].unique()\n",
    "tins_list = ', '.join(f\"'{tin}'\" for tin in tins_list)\n",
    "\n",
    "npi_list = df_claims_ip['billingprovidernpi'].unique()\n",
    "npi_list = ', '.join(f\"'{npi}'\" for npi in npi_list)"
   ],
   "metadata": {
    "collapsed": false,
    "ExecuteTime": {
     "end_time": "2024-06-12T20:57:13.257612700Z",
     "start_time": "2024-06-12T20:57:13.113220300Z"
    }
   },
   "id": "c11f5184a125abcb"
  },
  {
   "cell_type": "markdown",
   "source": [
    "### MRF Search Stage Rates"
   ],
   "metadata": {
    "collapsed": false
   },
   "id": "2360351e702c694e"
  },
  {
   "cell_type": "code",
   "execution_count": 14,
   "outputs": [],
   "source": [
    "# sSQL = '''\n",
    "# SELECT *\n",
    "# FROM \t\t\n",
    "# hive.mrf.mrf_search_stage\t\n",
    "# WHERE \t\t\n",
    "# plan_group_alias in ('bcbs_tx_ppo','uhc_choice_plus', 'aetna_open_access_managed', 'cigna_national_oap')\n",
    "# and taxid in ({tins})\n",
    "# and npi in ({npi})\n",
    "# and billing_code_type = 'MS-DRG'\n",
    "# '''.format(tins=tins_list, npi=npi_list)\n",
    "# \n",
    "# \n",
    "# mrf_search_stage = read_from_hive(sSQL)\n",
    "# \n",
    "# del sSQL\n",
    "# \n",
    "# mrf_search_stage.to_csv('search_stage_ip.gz',index=False, compression='gzip')"
   ],
   "metadata": {
    "collapsed": false,
    "ExecuteTime": {
     "end_time": "2024-06-12T18:11:07.454169200Z",
     "start_time": "2024-06-12T18:01:08.818168300Z"
    }
   },
   "id": "9cbe82c1f5d0a888"
  },
  {
   "cell_type": "markdown",
   "source": [
    "### INN Provider Rates"
   ],
   "metadata": {
    "collapsed": false
   },
   "id": "e9b886f6767dfe5e"
  },
  {
   "cell_type": "code",
   "execution_count": 15,
   "outputs": [
    {
     "ename": "KeyboardInterrupt",
     "evalue": "",
     "output_type": "error",
     "traceback": [
      "\u001B[1;31m---------------------------------------------------------------------------\u001B[0m",
      "\u001B[1;31mKeyboardInterrupt\u001B[0m                         Traceback (most recent call last)",
      "Cell \u001B[1;32mIn[15], line 42\u001B[0m\n\u001B[0;32m      1\u001B[0m sSQL \u001B[38;5;241m=\u001B[39m \u001B[38;5;124m'''\u001B[39m\n\u001B[0;32m      2\u001B[0m \u001B[38;5;124mSELECT\u001B[39m\n\u001B[0;32m      3\u001B[0m \u001B[38;5;124m    npi,\u001B[39m\n\u001B[1;32m   (...)\u001B[0m\n\u001B[0;32m     39\u001B[0m \u001B[38;5;124morder by 1, 2, 3\u001B[39m\n\u001B[0;32m     40\u001B[0m \u001B[38;5;124m'''\u001B[39m\u001B[38;5;241m.\u001B[39mformat(tins\u001B[38;5;241m=\u001B[39mtins_list, npi\u001B[38;5;241m=\u001B[39mnpi_list)\n\u001B[1;32m---> 42\u001B[0m df_in_network \u001B[38;5;241m=\u001B[39m \u001B[43mread_from_hive\u001B[49m\u001B[43m(\u001B[49m\u001B[43msSQL\u001B[49m\u001B[43m)\u001B[49m \n\u001B[0;32m     43\u001B[0m \u001B[38;5;28;01mdel\u001B[39;00m sSQL\n\u001B[0;32m     45\u001B[0m df_in_network\u001B[38;5;241m.\u001B[39mto_csv(\u001B[38;5;124m'\u001B[39m\u001B[38;5;124min_network_rates_ip.gz\u001B[39m\u001B[38;5;124m'\u001B[39m,index\u001B[38;5;241m=\u001B[39m\u001B[38;5;28;01mFalse\u001B[39;00m, compression\u001B[38;5;241m=\u001B[39m\u001B[38;5;124m'\u001B[39m\u001B[38;5;124mgzip\u001B[39m\u001B[38;5;124m'\u001B[39m)\n",
      "Cell \u001B[1;32mIn[2], line 10\u001B[0m, in \u001B[0;36mread_from_hive\u001B[1;34m(sql_script)\u001B[0m\n\u001B[0;32m      2\u001B[0m conn \u001B[38;5;241m=\u001B[39m connect(\n\u001B[0;32m      3\u001B[0m         host\u001B[38;5;241m=\u001B[39m\u001B[38;5;124m'\u001B[39m\u001B[38;5;124mpresto.bstis.com\u001B[39m\u001B[38;5;124m'\u001B[39m,\n\u001B[0;32m      4\u001B[0m         port\u001B[38;5;241m=\u001B[39m\u001B[38;5;241m8080\u001B[39m,\n\u001B[1;32m   (...)\u001B[0m\n\u001B[0;32m      7\u001B[0m         \u001B[38;5;66;03m#schema='default'\u001B[39;00m\n\u001B[0;32m      8\u001B[0m         )\n\u001B[0;32m      9\u001B[0m cur \u001B[38;5;241m=\u001B[39m conn\u001B[38;5;241m.\u001B[39mcursor()\n\u001B[1;32m---> 10\u001B[0m \u001B[43mcur\u001B[49m\u001B[38;5;241;43m.\u001B[39;49m\u001B[43mexecute\u001B[49m\u001B[43m(\u001B[49m\u001B[43msql_script\u001B[49m\u001B[43m)\u001B[49m\n\u001B[0;32m     11\u001B[0m rows \u001B[38;5;241m=\u001B[39m cur\u001B[38;5;241m.\u001B[39mfetchall()\n\u001B[0;32m     12\u001B[0m columns \u001B[38;5;241m=\u001B[39m [desc[\u001B[38;5;241m0\u001B[39m] \u001B[38;5;28;01mfor\u001B[39;00m desc \u001B[38;5;129;01min\u001B[39;00m cur\u001B[38;5;241m.\u001B[39mdescription]\n",
      "File \u001B[1;32m~\\PycharmProjects\\BCBSTX War Room\\venv\\lib\\site-packages\\trino\\dbapi.py:592\u001B[0m, in \u001B[0;36mCursor.execute\u001B[1;34m(self, operation, params)\u001B[0m\n\u001B[0;32m    589\u001B[0m \u001B[38;5;28;01melse\u001B[39;00m:\n\u001B[0;32m    590\u001B[0m     \u001B[38;5;28mself\u001B[39m\u001B[38;5;241m.\u001B[39m_query \u001B[38;5;241m=\u001B[39m trino\u001B[38;5;241m.\u001B[39mclient\u001B[38;5;241m.\u001B[39mTrinoQuery(\u001B[38;5;28mself\u001B[39m\u001B[38;5;241m.\u001B[39m_request, query\u001B[38;5;241m=\u001B[39moperation,\n\u001B[0;32m    591\u001B[0m                                           legacy_primitive_types\u001B[38;5;241m=\u001B[39m\u001B[38;5;28mself\u001B[39m\u001B[38;5;241m.\u001B[39m_legacy_primitive_types)\n\u001B[1;32m--> 592\u001B[0m     \u001B[38;5;28mself\u001B[39m\u001B[38;5;241m.\u001B[39m_iterator \u001B[38;5;241m=\u001B[39m \u001B[38;5;28miter\u001B[39m(\u001B[38;5;28;43mself\u001B[39;49m\u001B[38;5;241;43m.\u001B[39;49m\u001B[43m_query\u001B[49m\u001B[38;5;241;43m.\u001B[39;49m\u001B[43mexecute\u001B[49m\u001B[43m(\u001B[49m\u001B[43m)\u001B[49m)\n\u001B[0;32m    593\u001B[0m \u001B[38;5;28;01mreturn\u001B[39;00m \u001B[38;5;28mself\u001B[39m\n",
      "File \u001B[1;32m~\\PycharmProjects\\BCBSTX War Room\\venv\\lib\\site-packages\\trino\\client.py:810\u001B[0m, in \u001B[0;36mTrinoQuery.execute\u001B[1;34m(self, additional_http_headers)\u001B[0m\n\u001B[0;32m    808\u001B[0m \u001B[38;5;66;03m# Execute should block until at least one row is received or query is finished or cancelled\u001B[39;00m\n\u001B[0;32m    809\u001B[0m \u001B[38;5;28;01mwhile\u001B[39;00m \u001B[38;5;129;01mnot\u001B[39;00m \u001B[38;5;28mself\u001B[39m\u001B[38;5;241m.\u001B[39mfinished \u001B[38;5;129;01mand\u001B[39;00m \u001B[38;5;129;01mnot\u001B[39;00m \u001B[38;5;28mself\u001B[39m\u001B[38;5;241m.\u001B[39mcancelled \u001B[38;5;129;01mand\u001B[39;00m \u001B[38;5;28mlen\u001B[39m(\u001B[38;5;28mself\u001B[39m\u001B[38;5;241m.\u001B[39m_result\u001B[38;5;241m.\u001B[39mrows) \u001B[38;5;241m==\u001B[39m \u001B[38;5;241m0\u001B[39m:\n\u001B[1;32m--> 810\u001B[0m     \u001B[38;5;28mself\u001B[39m\u001B[38;5;241m.\u001B[39m_result\u001B[38;5;241m.\u001B[39mrows \u001B[38;5;241m+\u001B[39m\u001B[38;5;241m=\u001B[39m \u001B[38;5;28;43mself\u001B[39;49m\u001B[38;5;241;43m.\u001B[39;49m\u001B[43mfetch\u001B[49m\u001B[43m(\u001B[49m\u001B[43m)\u001B[49m\n\u001B[0;32m    811\u001B[0m \u001B[38;5;28;01mreturn\u001B[39;00m \u001B[38;5;28mself\u001B[39m\u001B[38;5;241m.\u001B[39m_result\n",
      "File \u001B[1;32m~\\PycharmProjects\\BCBSTX War Room\\venv\\lib\\site-packages\\trino\\client.py:827\u001B[0m, in \u001B[0;36mTrinoQuery.fetch\u001B[1;34m(self)\u001B[0m\n\u001B[0;32m    825\u001B[0m \u001B[38;5;250m\u001B[39m\u001B[38;5;124;03m\"\"\"Continue fetching data for the current query_id\"\"\"\u001B[39;00m\n\u001B[0;32m    826\u001B[0m \u001B[38;5;28;01mtry\u001B[39;00m:\n\u001B[1;32m--> 827\u001B[0m     response \u001B[38;5;241m=\u001B[39m \u001B[38;5;28;43mself\u001B[39;49m\u001B[38;5;241;43m.\u001B[39;49m\u001B[43m_request\u001B[49m\u001B[38;5;241;43m.\u001B[39;49m\u001B[43mget\u001B[49m\u001B[43m(\u001B[49m\u001B[38;5;28;43mself\u001B[39;49m\u001B[38;5;241;43m.\u001B[39;49m\u001B[43m_request\u001B[49m\u001B[38;5;241;43m.\u001B[39;49m\u001B[43mnext_uri\u001B[49m\u001B[43m)\u001B[49m\n\u001B[0;32m    828\u001B[0m \u001B[38;5;28;01mexcept\u001B[39;00m requests\u001B[38;5;241m.\u001B[39mexceptions\u001B[38;5;241m.\u001B[39mRequestException \u001B[38;5;28;01mas\u001B[39;00m e:\n\u001B[0;32m    829\u001B[0m     \u001B[38;5;28;01mraise\u001B[39;00m trino\u001B[38;5;241m.\u001B[39mexceptions\u001B[38;5;241m.\u001B[39mTrinoConnectionError(\u001B[38;5;124m\"\u001B[39m\u001B[38;5;124mfailed to fetch: \u001B[39m\u001B[38;5;132;01m{}\u001B[39;00m\u001B[38;5;124m\"\u001B[39m\u001B[38;5;241m.\u001B[39mformat(e))\n",
      "File \u001B[1;32m~\\PycharmProjects\\BCBSTX War Room\\venv\\lib\\site-packages\\trino\\client.py:565\u001B[0m, in \u001B[0;36mTrinoRequest.get\u001B[1;34m(self, url)\u001B[0m\n\u001B[0;32m    564\u001B[0m \u001B[38;5;28;01mdef\u001B[39;00m \u001B[38;5;21mget\u001B[39m(\u001B[38;5;28mself\u001B[39m, url: \u001B[38;5;28mstr\u001B[39m):\n\u001B[1;32m--> 565\u001B[0m     \u001B[38;5;28;01mreturn\u001B[39;00m \u001B[38;5;28;43mself\u001B[39;49m\u001B[38;5;241;43m.\u001B[39;49m\u001B[43m_get\u001B[49m\u001B[43m(\u001B[49m\n\u001B[0;32m    566\u001B[0m \u001B[43m        \u001B[49m\u001B[43murl\u001B[49m\u001B[43m,\u001B[49m\n\u001B[0;32m    567\u001B[0m \u001B[43m        \u001B[49m\u001B[43mheaders\u001B[49m\u001B[38;5;241;43m=\u001B[39;49m\u001B[38;5;28;43mself\u001B[39;49m\u001B[38;5;241;43m.\u001B[39;49m\u001B[43mhttp_headers\u001B[49m\u001B[43m,\u001B[49m\n\u001B[0;32m    568\u001B[0m \u001B[43m        \u001B[49m\u001B[43mtimeout\u001B[49m\u001B[38;5;241;43m=\u001B[39;49m\u001B[38;5;28;43mself\u001B[39;49m\u001B[38;5;241;43m.\u001B[39;49m\u001B[43m_request_timeout\u001B[49m\u001B[43m,\u001B[49m\n\u001B[0;32m    569\u001B[0m \u001B[43m        \u001B[49m\u001B[43mproxies\u001B[49m\u001B[38;5;241;43m=\u001B[39;49m\u001B[43mPROXIES\u001B[49m\u001B[43m,\u001B[49m\n\u001B[0;32m    570\u001B[0m \u001B[43m    \u001B[49m\u001B[43m)\u001B[49m\n",
      "File \u001B[1;32m~\\PycharmProjects\\BCBSTX War Room\\venv\\lib\\site-packages\\trino\\client.py:881\u001B[0m, in \u001B[0;36m_retry_with.<locals>.wrapper.<locals>.decorated\u001B[1;34m(*args, **kwargs)\u001B[0m\n\u001B[0;32m    879\u001B[0m \u001B[38;5;28;01mfor\u001B[39;00m attempt \u001B[38;5;129;01min\u001B[39;00m \u001B[38;5;28mrange\u001B[39m(\u001B[38;5;241m1\u001B[39m, max_attempts \u001B[38;5;241m+\u001B[39m \u001B[38;5;241m1\u001B[39m):\n\u001B[0;32m    880\u001B[0m     \u001B[38;5;28;01mtry\u001B[39;00m:\n\u001B[1;32m--> 881\u001B[0m         result \u001B[38;5;241m=\u001B[39m func(\u001B[38;5;241m*\u001B[39margs, \u001B[38;5;241m*\u001B[39m\u001B[38;5;241m*\u001B[39mkwargs)\n\u001B[0;32m    882\u001B[0m         \u001B[38;5;28;01mif\u001B[39;00m \u001B[38;5;28many\u001B[39m(guard(result) \u001B[38;5;28;01mfor\u001B[39;00m guard \u001B[38;5;129;01min\u001B[39;00m conditions):\n\u001B[0;32m    883\u001B[0m             handle_retry\u001B[38;5;241m.\u001B[39mretry(func, args, kwargs, \u001B[38;5;28;01mNone\u001B[39;00m, attempt)\n",
      "File \u001B[1;32m~\\PycharmProjects\\BCBSTX War Room\\venv\\lib\\site-packages\\requests\\sessions.py:602\u001B[0m, in \u001B[0;36mSession.get\u001B[1;34m(self, url, **kwargs)\u001B[0m\n\u001B[0;32m    594\u001B[0m \u001B[38;5;250m\u001B[39m\u001B[38;5;124mr\u001B[39m\u001B[38;5;124;03m\"\"\"Sends a GET request. Returns :class:`Response` object.\u001B[39;00m\n\u001B[0;32m    595\u001B[0m \n\u001B[0;32m    596\u001B[0m \u001B[38;5;124;03m:param url: URL for the new :class:`Request` object.\u001B[39;00m\n\u001B[0;32m    597\u001B[0m \u001B[38;5;124;03m:param \\*\\*kwargs: Optional arguments that ``request`` takes.\u001B[39;00m\n\u001B[0;32m    598\u001B[0m \u001B[38;5;124;03m:rtype: requests.Response\u001B[39;00m\n\u001B[0;32m    599\u001B[0m \u001B[38;5;124;03m\"\"\"\u001B[39;00m\n\u001B[0;32m    601\u001B[0m kwargs\u001B[38;5;241m.\u001B[39msetdefault(\u001B[38;5;124m\"\u001B[39m\u001B[38;5;124mallow_redirects\u001B[39m\u001B[38;5;124m\"\u001B[39m, \u001B[38;5;28;01mTrue\u001B[39;00m)\n\u001B[1;32m--> 602\u001B[0m \u001B[38;5;28;01mreturn\u001B[39;00m \u001B[38;5;28mself\u001B[39m\u001B[38;5;241m.\u001B[39mrequest(\u001B[38;5;124m\"\u001B[39m\u001B[38;5;124mGET\u001B[39m\u001B[38;5;124m\"\u001B[39m, url, \u001B[38;5;241m*\u001B[39m\u001B[38;5;241m*\u001B[39mkwargs)\n",
      "File \u001B[1;32m~\\PycharmProjects\\BCBSTX War Room\\venv\\lib\\site-packages\\requests\\sessions.py:589\u001B[0m, in \u001B[0;36mSession.request\u001B[1;34m(self, method, url, params, data, headers, cookies, files, auth, timeout, allow_redirects, proxies, hooks, stream, verify, cert, json)\u001B[0m\n\u001B[0;32m    584\u001B[0m send_kwargs \u001B[38;5;241m=\u001B[39m {\n\u001B[0;32m    585\u001B[0m     \u001B[38;5;124m\"\u001B[39m\u001B[38;5;124mtimeout\u001B[39m\u001B[38;5;124m\"\u001B[39m: timeout,\n\u001B[0;32m    586\u001B[0m     \u001B[38;5;124m\"\u001B[39m\u001B[38;5;124mallow_redirects\u001B[39m\u001B[38;5;124m\"\u001B[39m: allow_redirects,\n\u001B[0;32m    587\u001B[0m }\n\u001B[0;32m    588\u001B[0m send_kwargs\u001B[38;5;241m.\u001B[39mupdate(settings)\n\u001B[1;32m--> 589\u001B[0m resp \u001B[38;5;241m=\u001B[39m \u001B[38;5;28mself\u001B[39m\u001B[38;5;241m.\u001B[39msend(prep, \u001B[38;5;241m*\u001B[39m\u001B[38;5;241m*\u001B[39msend_kwargs)\n\u001B[0;32m    591\u001B[0m \u001B[38;5;28;01mreturn\u001B[39;00m resp\n",
      "File \u001B[1;32m~\\PycharmProjects\\BCBSTX War Room\\venv\\lib\\site-packages\\requests\\sessions.py:703\u001B[0m, in \u001B[0;36mSession.send\u001B[1;34m(self, request, **kwargs)\u001B[0m\n\u001B[0;32m    700\u001B[0m start \u001B[38;5;241m=\u001B[39m preferred_clock()\n\u001B[0;32m    702\u001B[0m \u001B[38;5;66;03m# Send the request\u001B[39;00m\n\u001B[1;32m--> 703\u001B[0m r \u001B[38;5;241m=\u001B[39m adapter\u001B[38;5;241m.\u001B[39msend(request, \u001B[38;5;241m*\u001B[39m\u001B[38;5;241m*\u001B[39mkwargs)\n\u001B[0;32m    705\u001B[0m \u001B[38;5;66;03m# Total elapsed time of the request (approximately)\u001B[39;00m\n\u001B[0;32m    706\u001B[0m elapsed \u001B[38;5;241m=\u001B[39m preferred_clock() \u001B[38;5;241m-\u001B[39m start\n",
      "File \u001B[1;32m~\\PycharmProjects\\BCBSTX War Room\\venv\\lib\\site-packages\\requests\\adapters.py:486\u001B[0m, in \u001B[0;36mHTTPAdapter.send\u001B[1;34m(self, request, stream, timeout, verify, cert, proxies)\u001B[0m\n\u001B[0;32m    483\u001B[0m     timeout \u001B[38;5;241m=\u001B[39m TimeoutSauce(connect\u001B[38;5;241m=\u001B[39mtimeout, read\u001B[38;5;241m=\u001B[39mtimeout)\n\u001B[0;32m    485\u001B[0m \u001B[38;5;28;01mtry\u001B[39;00m:\n\u001B[1;32m--> 486\u001B[0m     resp \u001B[38;5;241m=\u001B[39m \u001B[43mconn\u001B[49m\u001B[38;5;241;43m.\u001B[39;49m\u001B[43murlopen\u001B[49m\u001B[43m(\u001B[49m\n\u001B[0;32m    487\u001B[0m \u001B[43m        \u001B[49m\u001B[43mmethod\u001B[49m\u001B[38;5;241;43m=\u001B[39;49m\u001B[43mrequest\u001B[49m\u001B[38;5;241;43m.\u001B[39;49m\u001B[43mmethod\u001B[49m\u001B[43m,\u001B[49m\n\u001B[0;32m    488\u001B[0m \u001B[43m        \u001B[49m\u001B[43murl\u001B[49m\u001B[38;5;241;43m=\u001B[39;49m\u001B[43murl\u001B[49m\u001B[43m,\u001B[49m\n\u001B[0;32m    489\u001B[0m \u001B[43m        \u001B[49m\u001B[43mbody\u001B[49m\u001B[38;5;241;43m=\u001B[39;49m\u001B[43mrequest\u001B[49m\u001B[38;5;241;43m.\u001B[39;49m\u001B[43mbody\u001B[49m\u001B[43m,\u001B[49m\n\u001B[0;32m    490\u001B[0m \u001B[43m        \u001B[49m\u001B[43mheaders\u001B[49m\u001B[38;5;241;43m=\u001B[39;49m\u001B[43mrequest\u001B[49m\u001B[38;5;241;43m.\u001B[39;49m\u001B[43mheaders\u001B[49m\u001B[43m,\u001B[49m\n\u001B[0;32m    491\u001B[0m \u001B[43m        \u001B[49m\u001B[43mredirect\u001B[49m\u001B[38;5;241;43m=\u001B[39;49m\u001B[38;5;28;43;01mFalse\u001B[39;49;00m\u001B[43m,\u001B[49m\n\u001B[0;32m    492\u001B[0m \u001B[43m        \u001B[49m\u001B[43massert_same_host\u001B[49m\u001B[38;5;241;43m=\u001B[39;49m\u001B[38;5;28;43;01mFalse\u001B[39;49;00m\u001B[43m,\u001B[49m\n\u001B[0;32m    493\u001B[0m \u001B[43m        \u001B[49m\u001B[43mpreload_content\u001B[49m\u001B[38;5;241;43m=\u001B[39;49m\u001B[38;5;28;43;01mFalse\u001B[39;49;00m\u001B[43m,\u001B[49m\n\u001B[0;32m    494\u001B[0m \u001B[43m        \u001B[49m\u001B[43mdecode_content\u001B[49m\u001B[38;5;241;43m=\u001B[39;49m\u001B[38;5;28;43;01mFalse\u001B[39;49;00m\u001B[43m,\u001B[49m\n\u001B[0;32m    495\u001B[0m \u001B[43m        \u001B[49m\u001B[43mretries\u001B[49m\u001B[38;5;241;43m=\u001B[39;49m\u001B[38;5;28;43mself\u001B[39;49m\u001B[38;5;241;43m.\u001B[39;49m\u001B[43mmax_retries\u001B[49m\u001B[43m,\u001B[49m\n\u001B[0;32m    496\u001B[0m \u001B[43m        \u001B[49m\u001B[43mtimeout\u001B[49m\u001B[38;5;241;43m=\u001B[39;49m\u001B[43mtimeout\u001B[49m\u001B[43m,\u001B[49m\n\u001B[0;32m    497\u001B[0m \u001B[43m        \u001B[49m\u001B[43mchunked\u001B[49m\u001B[38;5;241;43m=\u001B[39;49m\u001B[43mchunked\u001B[49m\u001B[43m,\u001B[49m\n\u001B[0;32m    498\u001B[0m \u001B[43m    \u001B[49m\u001B[43m)\u001B[49m\n\u001B[0;32m    500\u001B[0m \u001B[38;5;28;01mexcept\u001B[39;00m (ProtocolError, \u001B[38;5;167;01mOSError\u001B[39;00m) \u001B[38;5;28;01mas\u001B[39;00m err:\n\u001B[0;32m    501\u001B[0m     \u001B[38;5;28;01mraise\u001B[39;00m \u001B[38;5;167;01mConnectionError\u001B[39;00m(err, request\u001B[38;5;241m=\u001B[39mrequest)\n",
      "File \u001B[1;32m~\\PycharmProjects\\BCBSTX War Room\\venv\\lib\\site-packages\\urllib3\\connectionpool.py:793\u001B[0m, in \u001B[0;36mHTTPConnectionPool.urlopen\u001B[1;34m(self, method, url, body, headers, retries, redirect, assert_same_host, timeout, pool_timeout, release_conn, chunked, body_pos, preload_content, decode_content, **response_kw)\u001B[0m\n\u001B[0;32m    790\u001B[0m response_conn \u001B[38;5;241m=\u001B[39m conn \u001B[38;5;28;01mif\u001B[39;00m \u001B[38;5;129;01mnot\u001B[39;00m release_conn \u001B[38;5;28;01melse\u001B[39;00m \u001B[38;5;28;01mNone\u001B[39;00m\n\u001B[0;32m    792\u001B[0m \u001B[38;5;66;03m# Make the request on the HTTPConnection object\u001B[39;00m\n\u001B[1;32m--> 793\u001B[0m response \u001B[38;5;241m=\u001B[39m \u001B[38;5;28mself\u001B[39m\u001B[38;5;241m.\u001B[39m_make_request(\n\u001B[0;32m    794\u001B[0m     conn,\n\u001B[0;32m    795\u001B[0m     method,\n\u001B[0;32m    796\u001B[0m     url,\n\u001B[0;32m    797\u001B[0m     timeout\u001B[38;5;241m=\u001B[39mtimeout_obj,\n\u001B[0;32m    798\u001B[0m     body\u001B[38;5;241m=\u001B[39mbody,\n\u001B[0;32m    799\u001B[0m     headers\u001B[38;5;241m=\u001B[39mheaders,\n\u001B[0;32m    800\u001B[0m     chunked\u001B[38;5;241m=\u001B[39mchunked,\n\u001B[0;32m    801\u001B[0m     retries\u001B[38;5;241m=\u001B[39mretries,\n\u001B[0;32m    802\u001B[0m     response_conn\u001B[38;5;241m=\u001B[39mresponse_conn,\n\u001B[0;32m    803\u001B[0m     preload_content\u001B[38;5;241m=\u001B[39mpreload_content,\n\u001B[0;32m    804\u001B[0m     decode_content\u001B[38;5;241m=\u001B[39mdecode_content,\n\u001B[0;32m    805\u001B[0m     \u001B[38;5;241m*\u001B[39m\u001B[38;5;241m*\u001B[39mresponse_kw,\n\u001B[0;32m    806\u001B[0m )\n\u001B[0;32m    808\u001B[0m \u001B[38;5;66;03m# Everything went great!\u001B[39;00m\n\u001B[0;32m    809\u001B[0m clean_exit \u001B[38;5;241m=\u001B[39m \u001B[38;5;28;01mTrue\u001B[39;00m\n",
      "File \u001B[1;32m~\\PycharmProjects\\BCBSTX War Room\\venv\\lib\\site-packages\\urllib3\\connectionpool.py:537\u001B[0m, in \u001B[0;36mHTTPConnectionPool._make_request\u001B[1;34m(self, conn, method, url, body, headers, retries, timeout, chunked, response_conn, preload_content, decode_content, enforce_content_length)\u001B[0m\n\u001B[0;32m    535\u001B[0m \u001B[38;5;66;03m# Receive the response from the server\u001B[39;00m\n\u001B[0;32m    536\u001B[0m \u001B[38;5;28;01mtry\u001B[39;00m:\n\u001B[1;32m--> 537\u001B[0m     response \u001B[38;5;241m=\u001B[39m \u001B[43mconn\u001B[49m\u001B[38;5;241;43m.\u001B[39;49m\u001B[43mgetresponse\u001B[49m\u001B[43m(\u001B[49m\u001B[43m)\u001B[49m\n\u001B[0;32m    538\u001B[0m \u001B[38;5;28;01mexcept\u001B[39;00m (BaseSSLError, \u001B[38;5;167;01mOSError\u001B[39;00m) \u001B[38;5;28;01mas\u001B[39;00m e:\n\u001B[0;32m    539\u001B[0m     \u001B[38;5;28mself\u001B[39m\u001B[38;5;241m.\u001B[39m_raise_timeout(err\u001B[38;5;241m=\u001B[39me, url\u001B[38;5;241m=\u001B[39murl, timeout_value\u001B[38;5;241m=\u001B[39mread_timeout)\n",
      "File \u001B[1;32m~\\PycharmProjects\\BCBSTX War Room\\venv\\lib\\site-packages\\urllib3\\connection.py:466\u001B[0m, in \u001B[0;36mHTTPConnection.getresponse\u001B[1;34m(self)\u001B[0m\n\u001B[0;32m    463\u001B[0m \u001B[38;5;28;01mfrom\u001B[39;00m \u001B[38;5;21;01m.\u001B[39;00m\u001B[38;5;21;01mresponse\u001B[39;00m \u001B[38;5;28;01mimport\u001B[39;00m HTTPResponse\n\u001B[0;32m    465\u001B[0m \u001B[38;5;66;03m# Get the response from http.client.HTTPConnection\u001B[39;00m\n\u001B[1;32m--> 466\u001B[0m httplib_response \u001B[38;5;241m=\u001B[39m \u001B[38;5;28;43msuper\u001B[39;49m\u001B[43m(\u001B[49m\u001B[43m)\u001B[49m\u001B[38;5;241;43m.\u001B[39;49m\u001B[43mgetresponse\u001B[49m\u001B[43m(\u001B[49m\u001B[43m)\u001B[49m\n\u001B[0;32m    468\u001B[0m \u001B[38;5;28;01mtry\u001B[39;00m:\n\u001B[0;32m    469\u001B[0m     assert_header_parsing(httplib_response\u001B[38;5;241m.\u001B[39mmsg)\n",
      "File \u001B[1;32mC:\\Program Files\\Python 3.9\\lib\\http\\client.py:1377\u001B[0m, in \u001B[0;36mHTTPConnection.getresponse\u001B[1;34m(self)\u001B[0m\n\u001B[0;32m   1375\u001B[0m \u001B[38;5;28;01mtry\u001B[39;00m:\n\u001B[0;32m   1376\u001B[0m     \u001B[38;5;28;01mtry\u001B[39;00m:\n\u001B[1;32m-> 1377\u001B[0m         \u001B[43mresponse\u001B[49m\u001B[38;5;241;43m.\u001B[39;49m\u001B[43mbegin\u001B[49m\u001B[43m(\u001B[49m\u001B[43m)\u001B[49m\n\u001B[0;32m   1378\u001B[0m     \u001B[38;5;28;01mexcept\u001B[39;00m \u001B[38;5;167;01mConnectionError\u001B[39;00m:\n\u001B[0;32m   1379\u001B[0m         \u001B[38;5;28mself\u001B[39m\u001B[38;5;241m.\u001B[39mclose()\n",
      "File \u001B[1;32mC:\\Program Files\\Python 3.9\\lib\\http\\client.py:320\u001B[0m, in \u001B[0;36mHTTPResponse.begin\u001B[1;34m(self)\u001B[0m\n\u001B[0;32m    318\u001B[0m \u001B[38;5;66;03m# read until we get a non-100 response\u001B[39;00m\n\u001B[0;32m    319\u001B[0m \u001B[38;5;28;01mwhile\u001B[39;00m \u001B[38;5;28;01mTrue\u001B[39;00m:\n\u001B[1;32m--> 320\u001B[0m     version, status, reason \u001B[38;5;241m=\u001B[39m \u001B[38;5;28;43mself\u001B[39;49m\u001B[38;5;241;43m.\u001B[39;49m\u001B[43m_read_status\u001B[49m\u001B[43m(\u001B[49m\u001B[43m)\u001B[49m\n\u001B[0;32m    321\u001B[0m     \u001B[38;5;28;01mif\u001B[39;00m status \u001B[38;5;241m!=\u001B[39m CONTINUE:\n\u001B[0;32m    322\u001B[0m         \u001B[38;5;28;01mbreak\u001B[39;00m\n",
      "File \u001B[1;32mC:\\Program Files\\Python 3.9\\lib\\http\\client.py:281\u001B[0m, in \u001B[0;36mHTTPResponse._read_status\u001B[1;34m(self)\u001B[0m\n\u001B[0;32m    280\u001B[0m \u001B[38;5;28;01mdef\u001B[39;00m \u001B[38;5;21m_read_status\u001B[39m(\u001B[38;5;28mself\u001B[39m):\n\u001B[1;32m--> 281\u001B[0m     line \u001B[38;5;241m=\u001B[39m \u001B[38;5;28mstr\u001B[39m(\u001B[38;5;28;43mself\u001B[39;49m\u001B[38;5;241;43m.\u001B[39;49m\u001B[43mfp\u001B[49m\u001B[38;5;241;43m.\u001B[39;49m\u001B[43mreadline\u001B[49m\u001B[43m(\u001B[49m\u001B[43m_MAXLINE\u001B[49m\u001B[43m \u001B[49m\u001B[38;5;241;43m+\u001B[39;49m\u001B[43m \u001B[49m\u001B[38;5;241;43m1\u001B[39;49m\u001B[43m)\u001B[49m, \u001B[38;5;124m\"\u001B[39m\u001B[38;5;124miso-8859-1\u001B[39m\u001B[38;5;124m\"\u001B[39m)\n\u001B[0;32m    282\u001B[0m     \u001B[38;5;28;01mif\u001B[39;00m \u001B[38;5;28mlen\u001B[39m(line) \u001B[38;5;241m>\u001B[39m _MAXLINE:\n\u001B[0;32m    283\u001B[0m         \u001B[38;5;28;01mraise\u001B[39;00m LineTooLong(\u001B[38;5;124m\"\u001B[39m\u001B[38;5;124mstatus line\u001B[39m\u001B[38;5;124m\"\u001B[39m)\n",
      "File \u001B[1;32mC:\\Program Files\\Python 3.9\\lib\\socket.py:704\u001B[0m, in \u001B[0;36mSocketIO.readinto\u001B[1;34m(self, b)\u001B[0m\n\u001B[0;32m    702\u001B[0m \u001B[38;5;28;01mwhile\u001B[39;00m \u001B[38;5;28;01mTrue\u001B[39;00m:\n\u001B[0;32m    703\u001B[0m     \u001B[38;5;28;01mtry\u001B[39;00m:\n\u001B[1;32m--> 704\u001B[0m         \u001B[38;5;28;01mreturn\u001B[39;00m \u001B[38;5;28;43mself\u001B[39;49m\u001B[38;5;241;43m.\u001B[39;49m\u001B[43m_sock\u001B[49m\u001B[38;5;241;43m.\u001B[39;49m\u001B[43mrecv_into\u001B[49m\u001B[43m(\u001B[49m\u001B[43mb\u001B[49m\u001B[43m)\u001B[49m\n\u001B[0;32m    705\u001B[0m     \u001B[38;5;28;01mexcept\u001B[39;00m timeout:\n\u001B[0;32m    706\u001B[0m         \u001B[38;5;28mself\u001B[39m\u001B[38;5;241m.\u001B[39m_timeout_occurred \u001B[38;5;241m=\u001B[39m \u001B[38;5;28;01mTrue\u001B[39;00m\n",
      "\u001B[1;31mKeyboardInterrupt\u001B[0m: "
     ]
    }
   ],
   "source": [
    "# sSQL = '''\n",
    "# SELECT\n",
    "#     npi,\n",
    "#     tin_value as taxid, \n",
    "#     r.plan_group_alias,\t\n",
    "#     ltrim(billing_code,'0') as billing_code,\n",
    "#     billing_code_type,\n",
    "#     negotiated_type,\n",
    "# \tnegotiated_rate as negotiated_rate_cal   \t\t\t\t\n",
    "# \n",
    "# FROM \t\t\t\t\n",
    "# \tmrf.mrf_in_network_rates r \t\t\t\n",
    "# JOIN\t\t\t\t\n",
    "# \t(\t\t\t\n",
    "# \t\tSELECT\t\t\n",
    "# \t\t\t tin_value,\n",
    "# \t\t\t npi,\t\n",
    "# \t\t\t group_id,\t\n",
    "# \t\t\t plan_group_alias\t\n",
    "# \t\t FROM \t\t\n",
    "# \t\t\t mrf.mrf_provider_references\t\n",
    "# \t\t WHERE \t\t\n",
    "# \t\t\t plan_group_alias in ('bcbs_tx_ppo', 'uhc_choice_plus','aetna_open_access_managed', 'cigna_national_oap')\t -- uhc_option_ppo\n",
    "# \t\t\t and tin_value in ({tins})\n",
    "# \t\t\t and npi in ({npi})\n",
    "# \t\t GROUP BY\t\t\n",
    "# \t\t\t 1,2,3,4\t\n",
    "# \t) n\t\t\t\n",
    "# ON \t\t\t\t\n",
    "# \tn.group_id = r.provider_reference\t\t\t\n",
    "# \t and n.plan_group_alias = r.plan_group_alias\t\t\t\n",
    "# WHERE\t\t\t\t\n",
    "# \t r.plan_group_alias in ('bcbs_tx_ppo', 'uhc_choice_plus','aetna_open_access_managed', 'cigna_national_oap')\t\t\n",
    "#    --  and negotiated_type in ('percentage','per diem')\n",
    "#      and billing_code_type in ('MS-DRG')\n",
    "# \t and negotiated_rate <> 0\n",
    "#      and billing_class = 'institutional'\n",
    "# --Group by 1,2,3,4,5,6\n",
    "# order by 1, 2, 3\n",
    "# '''.format(tins=tins_list, npi=npi_list)\n",
    "# \n",
    "# df_in_network = read_from_hive(sSQL) \n",
    "# del sSQL\n",
    "# \n",
    "# df_in_network.to_csv('in_network_rates_ip.gz',index=False, compression='gzip')"
   ],
   "metadata": {
    "collapsed": false,
    "ExecuteTime": {
     "end_time": "2024-06-12T18:12:22.245656Z",
     "start_time": "2024-06-12T18:12:15.980170200Z"
    }
   },
   "id": "656b5d0b84d449e1"
  },
  {
   "cell_type": "markdown",
   "source": [
    "### Outlier Data"
   ],
   "metadata": {
    "collapsed": false
   },
   "id": "abdf5bd9db71ba77"
  },
  {
   "cell_type": "code",
   "execution_count": 46,
   "outputs": [],
   "source": [
    "# sSQL = '''\n",
    "# SELECT *\n",
    "# FROM \t\t\n",
    "# hive.mrf.outlier_result\n",
    "# WHERE \t\t\n",
    "# providerstate = 'TX'\n",
    "# and billing_class = 'institutional'\n",
    "# and billing_code_type = 'MS-DRG'\n",
    "# and outlier_algorithm <> 'mrf_step_benchmark'\n",
    "# and billing_code <> '807'\n",
    "# '''\n",
    "# \n",
    "# \n",
    "# outlier_rates = read_from_hive(sSQL)\n",
    "# \n",
    "# del sSQL\n",
    "# \n",
    "# outlier_rates.to_csv('outlier_drg_rates.gz',index=False, compression='gzip')"
   ],
   "metadata": {
    "collapsed": false,
    "ExecuteTime": {
     "end_time": "2024-06-11T21:39:05.028665100Z",
     "start_time": "2024-06-11T21:39:03.079025400Z"
    }
   },
   "id": "2b0c310855fd7a4c"
  },
  {
   "cell_type": "code",
   "execution_count": 9,
   "outputs": [
    {
     "data": {
      "text/plain": "               npi      taxid    plan_group_alias  billing_code  \\\n0       1003344334  813935393  cigna_national_oap             1   \n1       1003344334  813935393  cigna_national_oap             1   \n2       1003344334  813935393     uhc_choice_plus             1   \n3       1003344334  813935393  cigna_national_oap             1   \n4       1003344334  813935393     uhc_choice_plus             1   \n...            ...        ...                 ...           ...   \n478201  1992707228  752559845  cigna_national_oap           987   \n478202  1992707228  752559845         bcbs_tx_ppo           988   \n478203  1992707228  752559845  cigna_national_oap           988   \n478204  1992707228  752559845         bcbs_tx_ppo           989   \n478205  1992707228  752559845  cigna_national_oap           989   \n\n       billing_code_type negotiated_type  negotiated_rate_cal  \\\n0                 MS-DRG    fee schedule            463142.17   \n1                 MS-DRG    fee schedule            734886.93   \n2                 MS-DRG      negotiated            658739.87   \n3                 MS-DRG    fee schedule            690797.51   \n4                 MS-DRG      negotiated            823445.16   \n...                  ...             ...                  ...   \n478201            MS-DRG    fee schedule             36110.43   \n478202            MS-DRG      negotiated             19294.44   \n478203            MS-DRG    fee schedule             18147.72   \n478204            MS-DRG      negotiated             12810.53   \n478205            MS-DRG    fee schedule             11552.73   \n\n                  source  \n0       mrf_search_stage  \n1       mrf_search_stage  \n2       mrf_search_stage  \n3       mrf_search_stage  \n4       mrf_search_stage  \n...                  ...  \n478201  mrf_search_stage  \n478202  mrf_search_stage  \n478203  mrf_search_stage  \n478204  mrf_search_stage  \n478205  mrf_search_stage  \n\n[455497 rows x 8 columns]",
      "text/html": "<div>\n<style scoped>\n    .dataframe tbody tr th:only-of-type {\n        vertical-align: middle;\n    }\n\n    .dataframe tbody tr th {\n        vertical-align: top;\n    }\n\n    .dataframe thead th {\n        text-align: right;\n    }\n</style>\n<table border=\"1\" class=\"dataframe\">\n  <thead>\n    <tr style=\"text-align: right;\">\n      <th></th>\n      <th>npi</th>\n      <th>taxid</th>\n      <th>plan_group_alias</th>\n      <th>billing_code</th>\n      <th>billing_code_type</th>\n      <th>negotiated_type</th>\n      <th>negotiated_rate_cal</th>\n      <th>source</th>\n    </tr>\n  </thead>\n  <tbody>\n    <tr>\n      <th>0</th>\n      <td>1003344334</td>\n      <td>813935393</td>\n      <td>cigna_national_oap</td>\n      <td>1</td>\n      <td>MS-DRG</td>\n      <td>fee schedule</td>\n      <td>463142.17</td>\n      <td>mrf_search_stage</td>\n    </tr>\n    <tr>\n      <th>1</th>\n      <td>1003344334</td>\n      <td>813935393</td>\n      <td>cigna_national_oap</td>\n      <td>1</td>\n      <td>MS-DRG</td>\n      <td>fee schedule</td>\n      <td>734886.93</td>\n      <td>mrf_search_stage</td>\n    </tr>\n    <tr>\n      <th>2</th>\n      <td>1003344334</td>\n      <td>813935393</td>\n      <td>uhc_choice_plus</td>\n      <td>1</td>\n      <td>MS-DRG</td>\n      <td>negotiated</td>\n      <td>658739.87</td>\n      <td>mrf_search_stage</td>\n    </tr>\n    <tr>\n      <th>3</th>\n      <td>1003344334</td>\n      <td>813935393</td>\n      <td>cigna_national_oap</td>\n      <td>1</td>\n      <td>MS-DRG</td>\n      <td>fee schedule</td>\n      <td>690797.51</td>\n      <td>mrf_search_stage</td>\n    </tr>\n    <tr>\n      <th>4</th>\n      <td>1003344334</td>\n      <td>813935393</td>\n      <td>uhc_choice_plus</td>\n      <td>1</td>\n      <td>MS-DRG</td>\n      <td>negotiated</td>\n      <td>823445.16</td>\n      <td>mrf_search_stage</td>\n    </tr>\n    <tr>\n      <th>...</th>\n      <td>...</td>\n      <td>...</td>\n      <td>...</td>\n      <td>...</td>\n      <td>...</td>\n      <td>...</td>\n      <td>...</td>\n      <td>...</td>\n    </tr>\n    <tr>\n      <th>478201</th>\n      <td>1992707228</td>\n      <td>752559845</td>\n      <td>cigna_national_oap</td>\n      <td>987</td>\n      <td>MS-DRG</td>\n      <td>fee schedule</td>\n      <td>36110.43</td>\n      <td>mrf_search_stage</td>\n    </tr>\n    <tr>\n      <th>478202</th>\n      <td>1992707228</td>\n      <td>752559845</td>\n      <td>bcbs_tx_ppo</td>\n      <td>988</td>\n      <td>MS-DRG</td>\n      <td>negotiated</td>\n      <td>19294.44</td>\n      <td>mrf_search_stage</td>\n    </tr>\n    <tr>\n      <th>478203</th>\n      <td>1992707228</td>\n      <td>752559845</td>\n      <td>cigna_national_oap</td>\n      <td>988</td>\n      <td>MS-DRG</td>\n      <td>fee schedule</td>\n      <td>18147.72</td>\n      <td>mrf_search_stage</td>\n    </tr>\n    <tr>\n      <th>478204</th>\n      <td>1992707228</td>\n      <td>752559845</td>\n      <td>bcbs_tx_ppo</td>\n      <td>989</td>\n      <td>MS-DRG</td>\n      <td>negotiated</td>\n      <td>12810.53</td>\n      <td>mrf_search_stage</td>\n    </tr>\n    <tr>\n      <th>478205</th>\n      <td>1992707228</td>\n      <td>752559845</td>\n      <td>cigna_national_oap</td>\n      <td>989</td>\n      <td>MS-DRG</td>\n      <td>fee schedule</td>\n      <td>11552.73</td>\n      <td>mrf_search_stage</td>\n    </tr>\n  </tbody>\n</table>\n<p>455497 rows × 8 columns</p>\n</div>"
     },
     "execution_count": 9,
     "metadata": {},
     "output_type": "execute_result"
    }
   ],
   "source": [
    "mrf_search_stage = pd.read_csv('search_stage_ip.gz', compression='gzip', low_memory=False, dtype={'taxid': str, 'npi': str})\n",
    "mrf_search_stage = mrf_search_stage[['npi','taxid', 'plan_group_alias', 'billing_code', 'billing_code_type','negotiated_type', 'negotiated_rate']]\n",
    "mrf_search_stage.sort_values(by=['npi','taxid','billing_code','billing_code_type'], inplace=True)\n",
    "\n",
    "# # Define a custom sort order\n",
    "# sort_order = {'negotiated': 1, 'fee schedule': 2, 'percentage': 3, 'per diem': 4}\n",
    "# \n",
    "# # Create a new column 'sort_order' based on the 'negotiated_type' column\n",
    "# mrf_search_stage['sort_order'] = mrf_search_stage['negotiated_type'].map(sort_order)\n",
    "# \n",
    "# # Find duplicates\n",
    "# duplicates = mrf_search_stage.duplicated(subset=['npi', 'taxid', 'plan_group_alias', 'billing_code', 'billing_code_type'], keep='first')\n",
    "# \n",
    "# # Keep only non-duplicates\n",
    "# mrf_search_stage = mrf_search_stage[~duplicates]\n",
    "# \n",
    "# # Drop the 'sort_order' column as it's no longer needed\n",
    "# mrf_search_stage = mrf_search_stage.drop(columns='sort_order')\n",
    "\n",
    "outlier_rates = pd.read_csv('outlier_drg_rates.gz', compression='gzip', low_memory=False)\n",
    "\n",
    "outlier_rates = outlier_rates[['billing_code_type', 'billing_code', 'negotiated_type', 'rec_lb_outlier', 'rec_ub_outlier']]\n",
    "mrf_search_stage = mrf_search_stage.merge(outlier_rates, on=['billing_code', 'billing_code_type', 'negotiated_type'], how='left')\n",
    "mrf_search_stage.rename(columns={'negotiated_rate':'negotiated_rate_cal'}, inplace=True)\n",
    "\n",
    "def remove_outliers(row, column):\n",
    "    if row['rec_ub_outlier'] < row[column]:\n",
    "        return 0\n",
    "    elif row['rec_lb_outlier'] > row[column]:\n",
    "        return 0\n",
    "    else:\n",
    "        return row[column]\n",
    "\n",
    "columns_to_update = ['negotiated_rate_cal']\n",
    "\n",
    "for column in columns_to_update:\n",
    "    mrf_search_stage[column] = mrf_search_stage.apply(remove_outliers, args=(column,), axis=1)\n",
    "\n",
    "mrf_search_stage = mrf_search_stage[mrf_search_stage['negotiated_rate_cal'] != 0]\n",
    "mrf_search_stage.drop(columns=['rec_lb_outlier', 'rec_ub_outlier'], inplace=True)\n",
    "mrf_search_stage.replace('percentage','negotiated', inplace=True)\n",
    "\n",
    "mrf_search_stage['source'] = 'mrf_search_stage'\n",
    "# mrf_search_stage = mrf_search_stage[mrf_search_stage['taxid'] == '742730328']\n",
    "# mrf_search_stage = mrf_search_stage[mrf_search_stage['npi'] == '1124074273']\n",
    "# mrf_search_stage"
   ],
   "metadata": {
    "collapsed": false,
    "ExecuteTime": {
     "end_time": "2024-06-12T20:57:40.471200600Z",
     "start_time": "2024-06-12T20:57:30.197303300Z"
    }
   },
   "id": "e69e27a316878daf"
  },
  {
   "cell_type": "code",
   "execution_count": 10,
   "outputs": [
    {
     "data": {
      "text/plain": "               npi      taxid plan_group_alias  billing_code  \\\n0       1003215401  756001354      bcbs_tx_ppo             1   \n1       1003215401  756001354      bcbs_tx_ppo             1   \n2       1003215401  756001354      bcbs_tx_ppo             1   \n3       1003215401  756001354      bcbs_tx_ppo             1   \n4       1003215401  756001354      bcbs_tx_ppo             1   \n...            ...        ...              ...           ...   \n685057  1992747125  741152597  uhc_choice_plus           988   \n685058  1992747125  741152597      bcbs_tx_ppo           989   \n685059  1992747125  741152597      bcbs_tx_ppo           989   \n685060  1992747125  741152597  uhc_choice_plus           989   \n685061  1992747125  741152597  uhc_choice_plus           989   \n\n       billing_code_type negotiated_type  negotiated_rate_cal  \\\n0                 MS-DRG      percentage                35.00   \n1                 MS-DRG      percentage                35.00   \n2                 MS-DRG      percentage                35.00   \n3                 MS-DRG      percentage                35.00   \n4                 MS-DRG        per diem               925.00   \n...                  ...             ...                  ...   \n685057            MS-DRG      negotiated             36344.65   \n685058            MS-DRG      negotiated             21787.73   \n685059            MS-DRG        per diem              1833.00   \n685060            MS-DRG      negotiated             23136.79   \n685061            MS-DRG      negotiated             16966.11   \n\n                      source  \n0       mrf_in_network_rates  \n1       mrf_in_network_rates  \n2       mrf_in_network_rates  \n3       mrf_in_network_rates  \n4       mrf_in_network_rates  \n...                      ...  \n685057  mrf_in_network_rates  \n685058  mrf_in_network_rates  \n685059  mrf_in_network_rates  \n685060  mrf_in_network_rates  \n685061  mrf_in_network_rates  \n\n[660746 rows x 8 columns]",
      "text/html": "<div>\n<style scoped>\n    .dataframe tbody tr th:only-of-type {\n        vertical-align: middle;\n    }\n\n    .dataframe tbody tr th {\n        vertical-align: top;\n    }\n\n    .dataframe thead th {\n        text-align: right;\n    }\n</style>\n<table border=\"1\" class=\"dataframe\">\n  <thead>\n    <tr style=\"text-align: right;\">\n      <th></th>\n      <th>npi</th>\n      <th>taxid</th>\n      <th>plan_group_alias</th>\n      <th>billing_code</th>\n      <th>billing_code_type</th>\n      <th>negotiated_type</th>\n      <th>negotiated_rate_cal</th>\n      <th>source</th>\n    </tr>\n  </thead>\n  <tbody>\n    <tr>\n      <th>0</th>\n      <td>1003215401</td>\n      <td>756001354</td>\n      <td>bcbs_tx_ppo</td>\n      <td>1</td>\n      <td>MS-DRG</td>\n      <td>percentage</td>\n      <td>35.00</td>\n      <td>mrf_in_network_rates</td>\n    </tr>\n    <tr>\n      <th>1</th>\n      <td>1003215401</td>\n      <td>756001354</td>\n      <td>bcbs_tx_ppo</td>\n      <td>1</td>\n      <td>MS-DRG</td>\n      <td>percentage</td>\n      <td>35.00</td>\n      <td>mrf_in_network_rates</td>\n    </tr>\n    <tr>\n      <th>2</th>\n      <td>1003215401</td>\n      <td>756001354</td>\n      <td>bcbs_tx_ppo</td>\n      <td>1</td>\n      <td>MS-DRG</td>\n      <td>percentage</td>\n      <td>35.00</td>\n      <td>mrf_in_network_rates</td>\n    </tr>\n    <tr>\n      <th>3</th>\n      <td>1003215401</td>\n      <td>756001354</td>\n      <td>bcbs_tx_ppo</td>\n      <td>1</td>\n      <td>MS-DRG</td>\n      <td>percentage</td>\n      <td>35.00</td>\n      <td>mrf_in_network_rates</td>\n    </tr>\n    <tr>\n      <th>4</th>\n      <td>1003215401</td>\n      <td>756001354</td>\n      <td>bcbs_tx_ppo</td>\n      <td>1</td>\n      <td>MS-DRG</td>\n      <td>per diem</td>\n      <td>925.00</td>\n      <td>mrf_in_network_rates</td>\n    </tr>\n    <tr>\n      <th>...</th>\n      <td>...</td>\n      <td>...</td>\n      <td>...</td>\n      <td>...</td>\n      <td>...</td>\n      <td>...</td>\n      <td>...</td>\n      <td>...</td>\n    </tr>\n    <tr>\n      <th>685057</th>\n      <td>1992747125</td>\n      <td>741152597</td>\n      <td>uhc_choice_plus</td>\n      <td>988</td>\n      <td>MS-DRG</td>\n      <td>negotiated</td>\n      <td>36344.65</td>\n      <td>mrf_in_network_rates</td>\n    </tr>\n    <tr>\n      <th>685058</th>\n      <td>1992747125</td>\n      <td>741152597</td>\n      <td>bcbs_tx_ppo</td>\n      <td>989</td>\n      <td>MS-DRG</td>\n      <td>negotiated</td>\n      <td>21787.73</td>\n      <td>mrf_in_network_rates</td>\n    </tr>\n    <tr>\n      <th>685059</th>\n      <td>1992747125</td>\n      <td>741152597</td>\n      <td>bcbs_tx_ppo</td>\n      <td>989</td>\n      <td>MS-DRG</td>\n      <td>per diem</td>\n      <td>1833.00</td>\n      <td>mrf_in_network_rates</td>\n    </tr>\n    <tr>\n      <th>685060</th>\n      <td>1992747125</td>\n      <td>741152597</td>\n      <td>uhc_choice_plus</td>\n      <td>989</td>\n      <td>MS-DRG</td>\n      <td>negotiated</td>\n      <td>23136.79</td>\n      <td>mrf_in_network_rates</td>\n    </tr>\n    <tr>\n      <th>685061</th>\n      <td>1992747125</td>\n      <td>741152597</td>\n      <td>uhc_choice_plus</td>\n      <td>989</td>\n      <td>MS-DRG</td>\n      <td>negotiated</td>\n      <td>16966.11</td>\n      <td>mrf_in_network_rates</td>\n    </tr>\n  </tbody>\n</table>\n<p>660746 rows × 8 columns</p>\n</div>"
     },
     "execution_count": 10,
     "metadata": {},
     "output_type": "execute_result"
    }
   ],
   "source": [
    "inn_rates = pd.read_csv('in_network_rates_ip.gz', compression='gzip', low_memory=False, dtype={'taxid': str, 'npi': str})\n",
    "inn_rates.sort_values(by=['npi','taxid','billing_code','billing_code_type'], inplace=True)\n",
    "\n",
    "# Define a custom sort order\n",
    "sort_order = {'negotiated': 1, 'fee schedule': 2, 'percentage': 3, 'per diem': 4}\n",
    "\n",
    "# # Create a new column 'sort_order' based on the 'negotiated_type' column\n",
    "# inn_rates['sort_order'] = inn_rates['negotiated_type'].map(sort_order)\n",
    "# \n",
    "# # Find duplicates\n",
    "# duplicates = inn_rates.duplicated(subset=['npi', 'taxid', 'plan_group_alias', 'billing_code', 'billing_code_type'], keep='first')\n",
    "# \n",
    "# # Keep only non-duplicates\n",
    "# inn_rates = inn_rates[~duplicates]\n",
    "# \n",
    "# # Drop the 'sort_order' column as it's no longer needed\n",
    "# inn_rates = inn_rates.drop(columns='sort_order')\n",
    "\n",
    "inn_rates = inn_rates.merge(outlier_rates, on=['billing_code', 'billing_code_type', 'negotiated_type'], how='left')\n",
    "\n",
    "def remove_outliers(row, column):\n",
    "    if row['rec_ub_outlier'] < row[column] and  row['negotiated_type'] != 'per diem' and row['negotiated_type'] != 'percentage':\n",
    "        return 0\n",
    "    elif row['rec_lb_outlier'] > row[column] and  row['negotiated_type'] != 'per diem' and row['negotiated_type'] != 'percentage':\n",
    "        return 0\n",
    "    else:\n",
    "        return row[column]\n",
    "\n",
    "columns_to_update = ['negotiated_rate_cal']\n",
    "\n",
    "for column in columns_to_update:\n",
    "    inn_rates[column] = inn_rates.apply(remove_outliers, args=(column,), axis=1)\n",
    "\n",
    "inn_rates = inn_rates[inn_rates['negotiated_rate_cal'] != 0]\n",
    "inn_rates.drop(columns=['rec_lb_outlier', 'rec_ub_outlier'], inplace=True)\n",
    "\n",
    "inn_rates['source'] = 'mrf_in_network_rates'\n",
    "\n",
    "# inn_rates = inn_rates[inn_rates['taxid'] == '753175630']\n",
    "# inn_rates = inn_rates[inn_rates['npi'] == '1285798918']\n",
    "inn_rates"
   ],
   "metadata": {
    "collapsed": false,
    "ExecuteTime": {
     "end_time": "2024-06-12T20:57:52.274141500Z",
     "start_time": "2024-06-12T20:57:40.476202900Z"
    }
   },
   "id": "e7a26f5ab4becd16"
  },
  {
   "cell_type": "code",
   "execution_count": 11,
   "outputs": [
    {
     "data": {
      "text/plain": "             npi      taxid plan_group_alias billing_code billing_code_type  \\\n0     1447355771  741109643      bcbs_tx_ppo            1               DRG   \n1     1447355771  741109643      bcbs_tx_ppo            1               DRG   \n2     1447355771  741109643  uhc_choice_plus            1               DRG   \n3     1447355771  741109643      bcbs_tx_ppo            2               DRG   \n4     1447355771  741109643      bcbs_tx_ppo            2               DRG   \n...          ...        ...              ...          ...               ...   \n1250  1821004151  741109665  uhc_choice_plus          833               DRG   \n1251  1821004151  741109665  uhc_choice_plus          787               DRG   \n1252  1821004151  741109665  uhc_choice_plus        99211               CPT   \n1253  1821004151  741109665  uhc_choice_plus        93303               CPT   \n1254  1821004151  741109665  uhc_choice_plus        83525               CPT   \n\n     negotiated_type  negotiated_rate_cal         source  \n0         negotiated            220590.00  ProviderFiles  \n1         percentage                67.00  ProviderFiles  \n2         negotiated            147468.00  ProviderFiles  \n3         negotiated            220590.00  ProviderFiles  \n4         percentage                67.00  ProviderFiles  \n...              ...                  ...            ...  \n1250      negotiated              7429.17  ProviderFiles  \n1251      negotiated             14990.81  ProviderFiles  \n1252      negotiated                59.19  ProviderFiles  \n1253      negotiated              1373.79  ProviderFiles  \n1254      negotiated                91.50  ProviderFiles  \n\n[2319 rows x 8 columns]",
      "text/html": "<div>\n<style scoped>\n    .dataframe tbody tr th:only-of-type {\n        vertical-align: middle;\n    }\n\n    .dataframe tbody tr th {\n        vertical-align: top;\n    }\n\n    .dataframe thead th {\n        text-align: right;\n    }\n</style>\n<table border=\"1\" class=\"dataframe\">\n  <thead>\n    <tr style=\"text-align: right;\">\n      <th></th>\n      <th>npi</th>\n      <th>taxid</th>\n      <th>plan_group_alias</th>\n      <th>billing_code</th>\n      <th>billing_code_type</th>\n      <th>negotiated_type</th>\n      <th>negotiated_rate_cal</th>\n      <th>source</th>\n    </tr>\n  </thead>\n  <tbody>\n    <tr>\n      <th>0</th>\n      <td>1447355771</td>\n      <td>741109643</td>\n      <td>bcbs_tx_ppo</td>\n      <td>1</td>\n      <td>DRG</td>\n      <td>negotiated</td>\n      <td>220590.00</td>\n      <td>ProviderFiles</td>\n    </tr>\n    <tr>\n      <th>1</th>\n      <td>1447355771</td>\n      <td>741109643</td>\n      <td>bcbs_tx_ppo</td>\n      <td>1</td>\n      <td>DRG</td>\n      <td>percentage</td>\n      <td>67.00</td>\n      <td>ProviderFiles</td>\n    </tr>\n    <tr>\n      <th>2</th>\n      <td>1447355771</td>\n      <td>741109643</td>\n      <td>uhc_choice_plus</td>\n      <td>1</td>\n      <td>DRG</td>\n      <td>negotiated</td>\n      <td>147468.00</td>\n      <td>ProviderFiles</td>\n    </tr>\n    <tr>\n      <th>3</th>\n      <td>1447355771</td>\n      <td>741109643</td>\n      <td>bcbs_tx_ppo</td>\n      <td>2</td>\n      <td>DRG</td>\n      <td>negotiated</td>\n      <td>220590.00</td>\n      <td>ProviderFiles</td>\n    </tr>\n    <tr>\n      <th>4</th>\n      <td>1447355771</td>\n      <td>741109643</td>\n      <td>bcbs_tx_ppo</td>\n      <td>2</td>\n      <td>DRG</td>\n      <td>percentage</td>\n      <td>67.00</td>\n      <td>ProviderFiles</td>\n    </tr>\n    <tr>\n      <th>...</th>\n      <td>...</td>\n      <td>...</td>\n      <td>...</td>\n      <td>...</td>\n      <td>...</td>\n      <td>...</td>\n      <td>...</td>\n      <td>...</td>\n    </tr>\n    <tr>\n      <th>1250</th>\n      <td>1821004151</td>\n      <td>741109665</td>\n      <td>uhc_choice_plus</td>\n      <td>833</td>\n      <td>DRG</td>\n      <td>negotiated</td>\n      <td>7429.17</td>\n      <td>ProviderFiles</td>\n    </tr>\n    <tr>\n      <th>1251</th>\n      <td>1821004151</td>\n      <td>741109665</td>\n      <td>uhc_choice_plus</td>\n      <td>787</td>\n      <td>DRG</td>\n      <td>negotiated</td>\n      <td>14990.81</td>\n      <td>ProviderFiles</td>\n    </tr>\n    <tr>\n      <th>1252</th>\n      <td>1821004151</td>\n      <td>741109665</td>\n      <td>uhc_choice_plus</td>\n      <td>99211</td>\n      <td>CPT</td>\n      <td>negotiated</td>\n      <td>59.19</td>\n      <td>ProviderFiles</td>\n    </tr>\n    <tr>\n      <th>1253</th>\n      <td>1821004151</td>\n      <td>741109665</td>\n      <td>uhc_choice_plus</td>\n      <td>93303</td>\n      <td>CPT</td>\n      <td>negotiated</td>\n      <td>1373.79</td>\n      <td>ProviderFiles</td>\n    </tr>\n    <tr>\n      <th>1254</th>\n      <td>1821004151</td>\n      <td>741109665</td>\n      <td>uhc_choice_plus</td>\n      <td>83525</td>\n      <td>CPT</td>\n      <td>negotiated</td>\n      <td>91.50</td>\n      <td>ProviderFiles</td>\n    </tr>\n  </tbody>\n</table>\n<p>2319 rows × 8 columns</p>\n</div>"
     },
     "execution_count": 11,
     "metadata": {},
     "output_type": "execute_result"
    }
   ],
   "source": [
    "# MCDallas = pd.read_csv('ProviderFiles/62-1682198_medical-city-dallas_standardcharges.csv', dtype={'taxid': str, 'npi': str})\n",
    "# MCDallas = MCDallas[MCDallas['billing_code_type'] == 'DRG']\n",
    "# CHCACL = pd.read_csv('ProviderFiles/621801360_hca-houston-clear-lake_standardcharges.csv', dtype={'taxid': str, 'npi': str})\n",
    "# CHCACL = CHCACL[CHCACL['billing_code_type'] == 'DRG']\n",
    "DellChildrens = pd.read_csv('ProviderFiles/dellchildrens_ip.csv', dtype={'taxid': str, 'npi': str})\n",
    "Dell = pd.read_csv('ProviderFiles/dell_ip.csv', dtype={'taxid': str, 'npi': str})\n",
    "SetonAustin = pd.read_csv('ProviderFiles/setonaustin_ip.csv', dtype={'taxid': str, 'npi': str})\n",
    "CHRISTUSChildrens = pd.read_csv('ProviderFiles/CHRISTUSChi.csv', dtype={'taxid': str, 'npi': str})\n",
    "# Hendrick = pd.read_csv('ProviderFiles/hendrick_ip.csv', dtype={'taxid': str, 'npi': str})\n",
    "# MethodistHosp = pd.read_csv('ProviderFiles/MethodistHosp_IP.csv', dtype={'taxid': str, 'npi': str})\n",
    "\n",
    "df_provider = pd.concat([DellChildrens, Dell, SetonAustin, CHRISTUSChildrens])\n",
    "\n",
    "# # Define a custom sort order\n",
    "# sort_order = {'negotiated': 1, 'fee schedule': 2, 'percentage': 3, 'per diem': 4}\n",
    "# \n",
    "# # Create a new column 'sort_order' based on the 'negotiated_type' column\n",
    "# df_provider['sort_order'] = df_provider['negotiated_type'].map(sort_order)\n",
    "# \n",
    "# # Find duplicates\n",
    "# duplicates = df_provider.duplicated(subset=['npi', 'taxid', 'plan_group_alias', 'billing_code', 'billing_code_type'], keep='first')\n",
    "# \n",
    "# # Keep only non-duplicates\n",
    "# df_provider = df_provider[~duplicates]\n",
    "# \n",
    "# # Drop the 'sort_order' column as it's no longer needed\n",
    "# df_provider = df_provider.drop(columns='sort_order')\n",
    "\n",
    "# df_provider = df_provider.merge(outlier_rates, on=['billing_code', 'billing_code_type', 'negotiated_type'], how='left')\n",
    "# \n",
    "# def remove_outliers(row, column):\n",
    "#     if row['pct_80_claim_rate'] < row[column]:\n",
    "#         return 0\n",
    "#     elif row['pct_20_claim_rate'] > row[column]:\n",
    "#         return 0\n",
    "#     else:\n",
    "#         return row[column]\n",
    "# \n",
    "# columns_to_update = ['negotiated_rate_cal']\n",
    "# \n",
    "# for column in columns_to_update:\n",
    "#     df_provider[column] = df_provider.apply(remove_outliers, args=(column,), axis=1)\n",
    "\n",
    "# df_provider = df_provider[df_provider['negotiated_rate_cal'] != 0]\n",
    "# df_provider.drop(columns=['pct_20_claim_rate', 'pct_80_claim_rate'], inplace=True)\n",
    "\n",
    "df_provider['source'] = 'ProviderFiles'\n",
    "df_provider"
   ],
   "metadata": {
    "collapsed": false,
    "ExecuteTime": {
     "end_time": "2024-06-12T20:57:52.399175300Z",
     "start_time": "2024-06-12T20:57:52.268627700Z"
    }
   },
   "id": "b68b3f5450552924"
  },
  {
   "cell_type": "code",
   "execution_count": 12,
   "outputs": [
    {
     "data": {
      "text/plain": "               npi      taxid plan_group_alias billing_code billing_code_type  \\\n0       1003215401  756001354      bcbs_tx_ppo            1            MS-DRG   \n4       1003215401  756001354      bcbs_tx_ppo            1            MS-DRG   \n5       1003215401  756001354  uhc_choice_plus            1            MS-DRG   \n7       1003215401  756001354      bcbs_tx_ppo            2            MS-DRG   \n12      1003215401  756001354  uhc_choice_plus            2            MS-DRG   \n...            ...        ...              ...          ...               ...   \n685055  1992747125  741152597      bcbs_tx_ppo          988            MS-DRG   \n685056  1992747125  741152597  uhc_choice_plus          988            MS-DRG   \n685058  1992747125  741152597      bcbs_tx_ppo          989            MS-DRG   \n685059  1992747125  741152597      bcbs_tx_ppo          989            MS-DRG   \n685060  1992747125  741152597  uhc_choice_plus          989            MS-DRG   \n\n       negotiated_type  negotiated_rate_cal                source  \\\n0           percentage                35.00  mrf_in_network_rates   \n4             per diem               925.00  mrf_in_network_rates   \n5           negotiated            306708.05  mrf_in_network_rates   \n7           percentage                35.00  mrf_in_network_rates   \n12          negotiated            146816.37  mrf_in_network_rates   \n...                ...                  ...                   ...   \n685055        per diem              1833.00  mrf_in_network_rates   \n685056      negotiated             26651.39  mrf_in_network_rates   \n685058      negotiated             21787.73  mrf_in_network_rates   \n685059        per diem              1833.00  mrf_in_network_rates   \n685060      negotiated             23136.79  mrf_in_network_rates   \n\n        source_sort_order  \n0                       2  \n4                       2  \n5                       2  \n7                       2  \n12                      2  \n...                   ...  \n685055                  2  \n685056                  2  \n685058                  2  \n685059                  2  \n685060                  2  \n\n[587469 rows x 9 columns]",
      "text/html": "<div>\n<style scoped>\n    .dataframe tbody tr th:only-of-type {\n        vertical-align: middle;\n    }\n\n    .dataframe tbody tr th {\n        vertical-align: top;\n    }\n\n    .dataframe thead th {\n        text-align: right;\n    }\n</style>\n<table border=\"1\" class=\"dataframe\">\n  <thead>\n    <tr style=\"text-align: right;\">\n      <th></th>\n      <th>npi</th>\n      <th>taxid</th>\n      <th>plan_group_alias</th>\n      <th>billing_code</th>\n      <th>billing_code_type</th>\n      <th>negotiated_type</th>\n      <th>negotiated_rate_cal</th>\n      <th>source</th>\n      <th>source_sort_order</th>\n    </tr>\n  </thead>\n  <tbody>\n    <tr>\n      <th>0</th>\n      <td>1003215401</td>\n      <td>756001354</td>\n      <td>bcbs_tx_ppo</td>\n      <td>1</td>\n      <td>MS-DRG</td>\n      <td>percentage</td>\n      <td>35.00</td>\n      <td>mrf_in_network_rates</td>\n      <td>2</td>\n    </tr>\n    <tr>\n      <th>4</th>\n      <td>1003215401</td>\n      <td>756001354</td>\n      <td>bcbs_tx_ppo</td>\n      <td>1</td>\n      <td>MS-DRG</td>\n      <td>per diem</td>\n      <td>925.00</td>\n      <td>mrf_in_network_rates</td>\n      <td>2</td>\n    </tr>\n    <tr>\n      <th>5</th>\n      <td>1003215401</td>\n      <td>756001354</td>\n      <td>uhc_choice_plus</td>\n      <td>1</td>\n      <td>MS-DRG</td>\n      <td>negotiated</td>\n      <td>306708.05</td>\n      <td>mrf_in_network_rates</td>\n      <td>2</td>\n    </tr>\n    <tr>\n      <th>7</th>\n      <td>1003215401</td>\n      <td>756001354</td>\n      <td>bcbs_tx_ppo</td>\n      <td>2</td>\n      <td>MS-DRG</td>\n      <td>percentage</td>\n      <td>35.00</td>\n      <td>mrf_in_network_rates</td>\n      <td>2</td>\n    </tr>\n    <tr>\n      <th>12</th>\n      <td>1003215401</td>\n      <td>756001354</td>\n      <td>uhc_choice_plus</td>\n      <td>2</td>\n      <td>MS-DRG</td>\n      <td>negotiated</td>\n      <td>146816.37</td>\n      <td>mrf_in_network_rates</td>\n      <td>2</td>\n    </tr>\n    <tr>\n      <th>...</th>\n      <td>...</td>\n      <td>...</td>\n      <td>...</td>\n      <td>...</td>\n      <td>...</td>\n      <td>...</td>\n      <td>...</td>\n      <td>...</td>\n      <td>...</td>\n    </tr>\n    <tr>\n      <th>685055</th>\n      <td>1992747125</td>\n      <td>741152597</td>\n      <td>bcbs_tx_ppo</td>\n      <td>988</td>\n      <td>MS-DRG</td>\n      <td>per diem</td>\n      <td>1833.00</td>\n      <td>mrf_in_network_rates</td>\n      <td>2</td>\n    </tr>\n    <tr>\n      <th>685056</th>\n      <td>1992747125</td>\n      <td>741152597</td>\n      <td>uhc_choice_plus</td>\n      <td>988</td>\n      <td>MS-DRG</td>\n      <td>negotiated</td>\n      <td>26651.39</td>\n      <td>mrf_in_network_rates</td>\n      <td>2</td>\n    </tr>\n    <tr>\n      <th>685058</th>\n      <td>1992747125</td>\n      <td>741152597</td>\n      <td>bcbs_tx_ppo</td>\n      <td>989</td>\n      <td>MS-DRG</td>\n      <td>negotiated</td>\n      <td>21787.73</td>\n      <td>mrf_in_network_rates</td>\n      <td>2</td>\n    </tr>\n    <tr>\n      <th>685059</th>\n      <td>1992747125</td>\n      <td>741152597</td>\n      <td>bcbs_tx_ppo</td>\n      <td>989</td>\n      <td>MS-DRG</td>\n      <td>per diem</td>\n      <td>1833.00</td>\n      <td>mrf_in_network_rates</td>\n      <td>2</td>\n    </tr>\n    <tr>\n      <th>685060</th>\n      <td>1992747125</td>\n      <td>741152597</td>\n      <td>uhc_choice_plus</td>\n      <td>989</td>\n      <td>MS-DRG</td>\n      <td>negotiated</td>\n      <td>23136.79</td>\n      <td>mrf_in_network_rates</td>\n      <td>2</td>\n    </tr>\n  </tbody>\n</table>\n<p>587469 rows × 9 columns</p>\n</div>"
     },
     "execution_count": 12,
     "metadata": {},
     "output_type": "execute_result"
    }
   ],
   "source": [
    "df_rates = pd.concat([mrf_search_stage,inn_rates])\n",
    "df_rates = df_rates.query(\"not (taxid.isin(['203749695', '260194016', '274434451', '412101361', '741161944', '741166904', '751008430', '751037591', '751777119', '751837454', '752586857', '752834135', '820551704']) and plan_group_alias == 'uhc_choice_plus')\")\n",
    "df_rates = pd.concat([df_rates, df_provider])\n",
    "\n",
    "\n",
    "# Define a custom sort order for 'source' column\n",
    "# Adjust this dictionary according to your specific needs\n",
    "source_order = {'mrf_search_stage': 1, 'mrf_in_network_rates': 2, 'ProviderFiles': 3}\n",
    "\n",
    "# Create new columns 'negotiated_type_sort_order' and 'source_sort_order' \n",
    "# based on the 'negotiated_type' and 'source' columns\n",
    "df_rates['source_sort_order'] = df_rates['source'].map(source_order)\n",
    "\n",
    "# Sort the DataFrame based on 'negotiated_type_sort_order' and 'source_sort_order'\n",
    "df_rates.sort_values(['source_sort_order'], inplace=True)\n",
    "\n",
    "# Drop duplicates based on 'npi', 'tin_value', 'plan', 'code', 'code_type', 'negotiated_type'\n",
    "df_rates.drop_duplicates(subset=['npi', 'taxid', 'plan_group_alias', 'billing_code', 'billing_code_type', 'negotiated_type'], keep='first', inplace=True)\n",
    "\n",
    "df_rates.sort_values(by=['npi','taxid','billing_code','billing_code_type'], inplace=True)\n",
    "df_rates"
   ],
   "metadata": {
    "collapsed": false,
    "ExecuteTime": {
     "end_time": "2024-06-12T20:57:54.187033300Z",
     "start_time": "2024-06-12T20:57:52.316142900Z"
    }
   },
   "id": "619cefa7ecc0fae6"
  },
  {
   "cell_type": "code",
   "execution_count": 13,
   "outputs": [
    {
     "data": {
      "text/plain": "               npi      taxid billing_code billing_code_type negotiated_type  \\\n0       1003215401  756001354            1            MS-DRG      negotiated   \n1       1003215401  756001354            1            MS-DRG        per diem   \n2       1003215401  756001354            1            MS-DRG      percentage   \n3       1003215401  756001354            2            MS-DRG      negotiated   \n4       1003215401  756001354            2            MS-DRG        per diem   \n...            ...        ...          ...               ...             ...   \n473930  1992747125  741152597          987            MS-DRG        per diem   \n473931  1992747125  741152597          988            MS-DRG      negotiated   \n473932  1992747125  741152597          988            MS-DRG        per diem   \n473933  1992747125  741152597          989            MS-DRG      negotiated   \n473934  1992747125  741152597          989            MS-DRG        per diem   \n\n        aetna_open_access_managed  bcbs_tx_ppo  cigna_national_oap  \\\n0                             NaN          NaN                 NaN   \n1                             NaN       925.00                 NaN   \n2                             NaN        35.00                 NaN   \n3                             NaN          NaN                 NaN   \n4                             NaN       925.00                 NaN   \n...                           ...          ...                 ...   \n473930                        NaN      1833.00                 NaN   \n473931                        NaN     33088.80                 NaN   \n473932                        NaN      1833.00                 NaN   \n473933                        NaN     21787.73                 NaN   \n473934                        NaN      1833.00                 NaN   \n\n        uhc_choice_plus  \n0             306708.05  \n1                   NaN  \n2                   NaN  \n3             146816.37  \n4                   NaN  \n...                 ...  \n473930              NaN  \n473931         26651.39  \n473932              NaN  \n473933         23136.79  \n473934              NaN  \n\n[473935 rows x 9 columns]",
      "text/html": "<div>\n<style scoped>\n    .dataframe tbody tr th:only-of-type {\n        vertical-align: middle;\n    }\n\n    .dataframe tbody tr th {\n        vertical-align: top;\n    }\n\n    .dataframe thead th {\n        text-align: right;\n    }\n</style>\n<table border=\"1\" class=\"dataframe\">\n  <thead>\n    <tr style=\"text-align: right;\">\n      <th></th>\n      <th>npi</th>\n      <th>taxid</th>\n      <th>billing_code</th>\n      <th>billing_code_type</th>\n      <th>negotiated_type</th>\n      <th>aetna_open_access_managed</th>\n      <th>bcbs_tx_ppo</th>\n      <th>cigna_national_oap</th>\n      <th>uhc_choice_plus</th>\n    </tr>\n  </thead>\n  <tbody>\n    <tr>\n      <th>0</th>\n      <td>1003215401</td>\n      <td>756001354</td>\n      <td>1</td>\n      <td>MS-DRG</td>\n      <td>negotiated</td>\n      <td>NaN</td>\n      <td>NaN</td>\n      <td>NaN</td>\n      <td>306708.05</td>\n    </tr>\n    <tr>\n      <th>1</th>\n      <td>1003215401</td>\n      <td>756001354</td>\n      <td>1</td>\n      <td>MS-DRG</td>\n      <td>per diem</td>\n      <td>NaN</td>\n      <td>925.00</td>\n      <td>NaN</td>\n      <td>NaN</td>\n    </tr>\n    <tr>\n      <th>2</th>\n      <td>1003215401</td>\n      <td>756001354</td>\n      <td>1</td>\n      <td>MS-DRG</td>\n      <td>percentage</td>\n      <td>NaN</td>\n      <td>35.00</td>\n      <td>NaN</td>\n      <td>NaN</td>\n    </tr>\n    <tr>\n      <th>3</th>\n      <td>1003215401</td>\n      <td>756001354</td>\n      <td>2</td>\n      <td>MS-DRG</td>\n      <td>negotiated</td>\n      <td>NaN</td>\n      <td>NaN</td>\n      <td>NaN</td>\n      <td>146816.37</td>\n    </tr>\n    <tr>\n      <th>4</th>\n      <td>1003215401</td>\n      <td>756001354</td>\n      <td>2</td>\n      <td>MS-DRG</td>\n      <td>per diem</td>\n      <td>NaN</td>\n      <td>925.00</td>\n      <td>NaN</td>\n      <td>NaN</td>\n    </tr>\n    <tr>\n      <th>...</th>\n      <td>...</td>\n      <td>...</td>\n      <td>...</td>\n      <td>...</td>\n      <td>...</td>\n      <td>...</td>\n      <td>...</td>\n      <td>...</td>\n      <td>...</td>\n    </tr>\n    <tr>\n      <th>473930</th>\n      <td>1992747125</td>\n      <td>741152597</td>\n      <td>987</td>\n      <td>MS-DRG</td>\n      <td>per diem</td>\n      <td>NaN</td>\n      <td>1833.00</td>\n      <td>NaN</td>\n      <td>NaN</td>\n    </tr>\n    <tr>\n      <th>473931</th>\n      <td>1992747125</td>\n      <td>741152597</td>\n      <td>988</td>\n      <td>MS-DRG</td>\n      <td>negotiated</td>\n      <td>NaN</td>\n      <td>33088.80</td>\n      <td>NaN</td>\n      <td>26651.39</td>\n    </tr>\n    <tr>\n      <th>473932</th>\n      <td>1992747125</td>\n      <td>741152597</td>\n      <td>988</td>\n      <td>MS-DRG</td>\n      <td>per diem</td>\n      <td>NaN</td>\n      <td>1833.00</td>\n      <td>NaN</td>\n      <td>NaN</td>\n    </tr>\n    <tr>\n      <th>473933</th>\n      <td>1992747125</td>\n      <td>741152597</td>\n      <td>989</td>\n      <td>MS-DRG</td>\n      <td>negotiated</td>\n      <td>NaN</td>\n      <td>21787.73</td>\n      <td>NaN</td>\n      <td>23136.79</td>\n    </tr>\n    <tr>\n      <th>473934</th>\n      <td>1992747125</td>\n      <td>741152597</td>\n      <td>989</td>\n      <td>MS-DRG</td>\n      <td>per diem</td>\n      <td>NaN</td>\n      <td>1833.00</td>\n      <td>NaN</td>\n      <td>NaN</td>\n    </tr>\n  </tbody>\n</table>\n<p>473935 rows × 9 columns</p>\n</div>"
     },
     "execution_count": 13,
     "metadata": {},
     "output_type": "execute_result"
    }
   ],
   "source": [
    "match_0 = df_rates.pivot(index=['npi', 'taxid', 'billing_code', 'billing_code_type', 'negotiated_type'],\n",
    "                columns=['plan_group_alias'],\n",
    "                values=['negotiated_rate_cal']).reset_index()\n",
    "\n",
    "match_0.columns =  [item[0] if item[1] == '' else item[1] for item in match_0.columns]\n",
    "# del df_temp \n",
    "match_0\n"
   ],
   "metadata": {
    "collapsed": false,
    "ExecuteTime": {
     "end_time": "2024-06-12T20:57:55.108750700Z",
     "start_time": "2024-06-12T20:57:54.193031600Z"
    }
   },
   "id": "6f5d7a044c5c6975"
  },
  {
   "cell_type": "code",
   "execution_count": 14,
   "outputs": [],
   "source": [
    "MemorialHermann = pd.read_csv('ProviderFiles/MemorialHermannTXMedCtr_IP.csv', dtype={'taxid': str, 'npi': str, 'aetna_open_access_managed': float, 'bcbs_tx_ppo': float, 'cigna_national_oap': float, 'uhc_choice_plus': float})\n",
    "MemorialHermannSW = pd.read_csv('ProviderFiles/MemorialHermannSW_IP.csv', dtype={'taxid': str, 'npi': str, 'aetna_open_access_managed': float, 'bcbs_tx_ppo': float, 'cigna_national_oap': float, 'uhc_choice_plus': float})\n",
    "MemorialHermannMC = pd.read_csv('ProviderFiles/MemorialHermannMemCity_IP.csv', dtype={'taxid': str, 'npi': str, 'aetna_open_access_managed': float, 'bcbs_tx_ppo': float, 'cigna_national_oap': float, 'uhc_choice_plus': float})\n",
    "Laredo = pd.read_csv('ProviderFiles/laredo_ip.csv', dtype={'taxid': str, 'npi': str, 'aetna_open_access_managed': float, 'bcbs_tx_ppo': float, 'cigna_national_oap': float, 'uhc_choice_plus': float})\n",
    "Longview = pd.read_csv('ProviderFiles/longview_ip.csv', dtype={'taxid': str, 'npi': str, 'aetna_open_access_managed': float, 'bcbs_tx_ppo': float, 'cigna_national_oap': float, 'uhc_choice_plus': float})\n",
    "BSW = pd.read_csv('ProviderFiles/bsw_ip.csv', dtype={'taxid': str, 'npi': str, 'aetna_open_access_managed': float, 'bcbs_tx_ppo': float, 'cigna_national_oap': float, 'uhc_choice_plus': float})\n",
    "\n",
    "match_0 = pd.concat([match_0, MemorialHermann, MemorialHermannSW, MemorialHermannMC, Laredo, Longview, BSW])\n",
    "# match_0.drop_duplicates(columns=['npi','taxid','billing_code','billing_code_type','negotiated_type'], inplace=True)"
   ],
   "metadata": {
    "collapsed": false,
    "ExecuteTime": {
     "end_time": "2024-06-12T20:57:55.395440500Z",
     "start_time": "2024-06-12T20:57:55.121752300Z"
    }
   },
   "id": "e4614df3035d875d"
  },
  {
   "cell_type": "code",
   "execution_count": 16,
   "outputs": [
    {
     "data": {
      "text/plain": "                            billingprovidername billingprovidertaxid  \\\n17221            COOK CHILDREN'S MEDICAL CENTER            752051646   \n17235            COOK CHILDREN'S MEDICAL CENTER            752051646   \n17082            COOK CHILDREN'S MEDICAL CENTER            752051646   \n17098            COOK CHILDREN'S MEDICAL CENTER            752051646   \n17224            COOK CHILDREN'S MEDICAL CENTER            752051646   \n...                                         ...                  ...   \n17299  COOK CHILDREN'S MEDICAL CENTER - PROSPER            852354189   \n17162            COOK CHILDREN'S MEDICAL CENTER            752051646   \n17307                COOK CHILDRENS HOME HEALTH            752896983   \n17309                COOK CHILDRENS HOME HEALTH            752896983   \n17308                COOK CHILDRENS HOME HEALTH            752896983   \n\n      billingprovidernpi billingproviderid                        cbsa_name  \\\n17221         1891765178     000H0HH019401  Dallas-Fort Worth-Arlington, TX   \n17235         1891765178     000H0HH019401  Dallas-Fort Worth-Arlington, TX   \n17082         1891765178     000H0HH019401  Dallas-Fort Worth-Arlington, TX   \n17098         1891765178     000H0HH019401  Dallas-Fort Worth-Arlington, TX   \n17224         1891765178     000H0HH019401  Dallas-Fort Worth-Arlington, TX   \n...                  ...               ...                              ...   \n17299         1215609896     000H0HH333D01  Dallas-Fort Worth-Arlington, TX   \n17162         1891765178     000H0HH019401  Dallas-Fort Worth-Arlington, TX   \n17307         1336119619     000H0HH963101  Dallas-Fort Worth-Arlington, TX   \n17309         1336119619     000H0HH963101  Dallas-Fort Worth-Arlington, TX   \n17308         1336119619     000H0HH963101  Dallas-Fort Worth-Arlington, TX   \n\n       drg_code                                                IDN  rank  \\\n17221       790  Cook Childrens Medical Ctr and Cook Childrens ...    12   \n17235       834  Cook Childrens Medical Ctr and Cook Childrens ...    12   \n17082       189  Cook Childrens Medical Ctr and Cook Childrens ...    12   \n17098       228  Cook Childrens Medical Ctr and Cook Childrens ...    12   \n17224       793  Cook Childrens Medical Ctr and Cook Childrens ...    12   \n...         ...                                                ...   ...   \n17299       395  Cook Childrens Medical Ctr and Cook Childrens ...    12   \n17162       479  Cook Childrens Medical Ctr and Cook Childrens ...    12   \n17307       556  Cook Childrens Medical Ctr and Cook Childrens ...    12   \n17309       951  Cook Childrens Medical Ctr and Cook Childrens ...    12   \n17308       641  Cook Childrens Medical Ctr and Cook Childrens ...    12   \n\n      negotiated_type   amtcovered   amtallowed  aetna_open_access_managed  \\\n17221      percentage  14349711.08  11517358.10                        0.0   \n17235      percentage  11084591.15   9276326.59                        0.0   \n17082      percentage   5994288.35   4918130.77                        0.0   \n17098      percentage   5933511.95   4906096.43                        0.0   \n17224      percentage   4605004.24   3651266.03                        0.0   \n...               ...          ...          ...                        ...   \n17299      percentage     14645.05     12301.84                        0.0   \n17162      percentage    108411.10      2530.65                        0.0   \n17307               0       765.00       650.25                        0.0   \n17309               0       255.00       216.75                        0.0   \n17308               0       255.00       216.75                        0.0   \n\n       bcbs_tx_ppo  cigna_national_oap  uhc_choice_plus  \\\n17221         84.0                 0.0              0.0   \n17235         84.0                 0.0              0.0   \n17082         84.0                 0.0              0.0   \n17098         84.0                 0.0              0.0   \n17224         84.0                 0.0              0.0   \n...            ...                 ...              ...   \n17299         84.0                 0.0              0.0   \n17162         84.0                 0.0              0.0   \n17307          0.0                 0.0              0.0   \n17309          0.0                 0.0              0.0   \n17308          0.0                 0.0              0.0   \n\n       aetna_open_access_managed_derived  bcbs_tx_ppo_derived  \\\n17221                                0.0            388830.88   \n17235                                0.0            846459.69   \n17082                                0.0             55946.69   \n17098                                0.0            553794.45   \n17224                                0.0            133386.33   \n...                                  ...                  ...   \n17299                                0.0             12301.84   \n17162                                0.0             91065.32   \n17307                                0.0                 0.00   \n17309                                0.0                 0.00   \n17308                                0.0                 0.00   \n\n       cigna_national_oap_derived  uhc_choice_plus_derived  \n17221                         0.0                      0.0  \n17235                         0.0                      0.0  \n17082                         0.0                      0.0  \n17098                         0.0                      0.0  \n17224                         0.0                      0.0  \n...                           ...                      ...  \n17299                         0.0                      0.0  \n17162                         0.0                      0.0  \n17307                         0.0                      0.0  \n17309                         0.0                      0.0  \n17308                         0.0                      0.0  \n\n[282 rows x 19 columns]",
      "text/html": "<div>\n<style scoped>\n    .dataframe tbody tr th:only-of-type {\n        vertical-align: middle;\n    }\n\n    .dataframe tbody tr th {\n        vertical-align: top;\n    }\n\n    .dataframe thead th {\n        text-align: right;\n    }\n</style>\n<table border=\"1\" class=\"dataframe\">\n  <thead>\n    <tr style=\"text-align: right;\">\n      <th></th>\n      <th>billingprovidername</th>\n      <th>billingprovidertaxid</th>\n      <th>billingprovidernpi</th>\n      <th>billingproviderid</th>\n      <th>cbsa_name</th>\n      <th>drg_code</th>\n      <th>IDN</th>\n      <th>rank</th>\n      <th>negotiated_type</th>\n      <th>amtcovered</th>\n      <th>amtallowed</th>\n      <th>aetna_open_access_managed</th>\n      <th>bcbs_tx_ppo</th>\n      <th>cigna_national_oap</th>\n      <th>uhc_choice_plus</th>\n      <th>aetna_open_access_managed_derived</th>\n      <th>bcbs_tx_ppo_derived</th>\n      <th>cigna_national_oap_derived</th>\n      <th>uhc_choice_plus_derived</th>\n    </tr>\n  </thead>\n  <tbody>\n    <tr>\n      <th>17221</th>\n      <td>COOK CHILDREN'S MEDICAL CENTER</td>\n      <td>752051646</td>\n      <td>1891765178</td>\n      <td>000H0HH019401</td>\n      <td>Dallas-Fort Worth-Arlington, TX</td>\n      <td>790</td>\n      <td>Cook Childrens Medical Ctr and Cook Childrens ...</td>\n      <td>12</td>\n      <td>percentage</td>\n      <td>14349711.08</td>\n      <td>11517358.10</td>\n      <td>0.0</td>\n      <td>84.0</td>\n      <td>0.0</td>\n      <td>0.0</td>\n      <td>0.0</td>\n      <td>388830.88</td>\n      <td>0.0</td>\n      <td>0.0</td>\n    </tr>\n    <tr>\n      <th>17235</th>\n      <td>COOK CHILDREN'S MEDICAL CENTER</td>\n      <td>752051646</td>\n      <td>1891765178</td>\n      <td>000H0HH019401</td>\n      <td>Dallas-Fort Worth-Arlington, TX</td>\n      <td>834</td>\n      <td>Cook Childrens Medical Ctr and Cook Childrens ...</td>\n      <td>12</td>\n      <td>percentage</td>\n      <td>11084591.15</td>\n      <td>9276326.59</td>\n      <td>0.0</td>\n      <td>84.0</td>\n      <td>0.0</td>\n      <td>0.0</td>\n      <td>0.0</td>\n      <td>846459.69</td>\n      <td>0.0</td>\n      <td>0.0</td>\n    </tr>\n    <tr>\n      <th>17082</th>\n      <td>COOK CHILDREN'S MEDICAL CENTER</td>\n      <td>752051646</td>\n      <td>1891765178</td>\n      <td>000H0HH019401</td>\n      <td>Dallas-Fort Worth-Arlington, TX</td>\n      <td>189</td>\n      <td>Cook Childrens Medical Ctr and Cook Childrens ...</td>\n      <td>12</td>\n      <td>percentage</td>\n      <td>5994288.35</td>\n      <td>4918130.77</td>\n      <td>0.0</td>\n      <td>84.0</td>\n      <td>0.0</td>\n      <td>0.0</td>\n      <td>0.0</td>\n      <td>55946.69</td>\n      <td>0.0</td>\n      <td>0.0</td>\n    </tr>\n    <tr>\n      <th>17098</th>\n      <td>COOK CHILDREN'S MEDICAL CENTER</td>\n      <td>752051646</td>\n      <td>1891765178</td>\n      <td>000H0HH019401</td>\n      <td>Dallas-Fort Worth-Arlington, TX</td>\n      <td>228</td>\n      <td>Cook Childrens Medical Ctr and Cook Childrens ...</td>\n      <td>12</td>\n      <td>percentage</td>\n      <td>5933511.95</td>\n      <td>4906096.43</td>\n      <td>0.0</td>\n      <td>84.0</td>\n      <td>0.0</td>\n      <td>0.0</td>\n      <td>0.0</td>\n      <td>553794.45</td>\n      <td>0.0</td>\n      <td>0.0</td>\n    </tr>\n    <tr>\n      <th>17224</th>\n      <td>COOK CHILDREN'S MEDICAL CENTER</td>\n      <td>752051646</td>\n      <td>1891765178</td>\n      <td>000H0HH019401</td>\n      <td>Dallas-Fort Worth-Arlington, TX</td>\n      <td>793</td>\n      <td>Cook Childrens Medical Ctr and Cook Childrens ...</td>\n      <td>12</td>\n      <td>percentage</td>\n      <td>4605004.24</td>\n      <td>3651266.03</td>\n      <td>0.0</td>\n      <td>84.0</td>\n      <td>0.0</td>\n      <td>0.0</td>\n      <td>0.0</td>\n      <td>133386.33</td>\n      <td>0.0</td>\n      <td>0.0</td>\n    </tr>\n    <tr>\n      <th>...</th>\n      <td>...</td>\n      <td>...</td>\n      <td>...</td>\n      <td>...</td>\n      <td>...</td>\n      <td>...</td>\n      <td>...</td>\n      <td>...</td>\n      <td>...</td>\n      <td>...</td>\n      <td>...</td>\n      <td>...</td>\n      <td>...</td>\n      <td>...</td>\n      <td>...</td>\n      <td>...</td>\n      <td>...</td>\n      <td>...</td>\n      <td>...</td>\n    </tr>\n    <tr>\n      <th>17299</th>\n      <td>COOK CHILDREN'S MEDICAL CENTER - PROSPER</td>\n      <td>852354189</td>\n      <td>1215609896</td>\n      <td>000H0HH333D01</td>\n      <td>Dallas-Fort Worth-Arlington, TX</td>\n      <td>395</td>\n      <td>Cook Childrens Medical Ctr and Cook Childrens ...</td>\n      <td>12</td>\n      <td>percentage</td>\n      <td>14645.05</td>\n      <td>12301.84</td>\n      <td>0.0</td>\n      <td>84.0</td>\n      <td>0.0</td>\n      <td>0.0</td>\n      <td>0.0</td>\n      <td>12301.84</td>\n      <td>0.0</td>\n      <td>0.0</td>\n    </tr>\n    <tr>\n      <th>17162</th>\n      <td>COOK CHILDREN'S MEDICAL CENTER</td>\n      <td>752051646</td>\n      <td>1891765178</td>\n      <td>000H0HH019401</td>\n      <td>Dallas-Fort Worth-Arlington, TX</td>\n      <td>479</td>\n      <td>Cook Childrens Medical Ctr and Cook Childrens ...</td>\n      <td>12</td>\n      <td>percentage</td>\n      <td>108411.10</td>\n      <td>2530.65</td>\n      <td>0.0</td>\n      <td>84.0</td>\n      <td>0.0</td>\n      <td>0.0</td>\n      <td>0.0</td>\n      <td>91065.32</td>\n      <td>0.0</td>\n      <td>0.0</td>\n    </tr>\n    <tr>\n      <th>17307</th>\n      <td>COOK CHILDRENS HOME HEALTH</td>\n      <td>752896983</td>\n      <td>1336119619</td>\n      <td>000H0HH963101</td>\n      <td>Dallas-Fort Worth-Arlington, TX</td>\n      <td>556</td>\n      <td>Cook Childrens Medical Ctr and Cook Childrens ...</td>\n      <td>12</td>\n      <td>0</td>\n      <td>765.00</td>\n      <td>650.25</td>\n      <td>0.0</td>\n      <td>0.0</td>\n      <td>0.0</td>\n      <td>0.0</td>\n      <td>0.0</td>\n      <td>0.00</td>\n      <td>0.0</td>\n      <td>0.0</td>\n    </tr>\n    <tr>\n      <th>17309</th>\n      <td>COOK CHILDRENS HOME HEALTH</td>\n      <td>752896983</td>\n      <td>1336119619</td>\n      <td>000H0HH963101</td>\n      <td>Dallas-Fort Worth-Arlington, TX</td>\n      <td>951</td>\n      <td>Cook Childrens Medical Ctr and Cook Childrens ...</td>\n      <td>12</td>\n      <td>0</td>\n      <td>255.00</td>\n      <td>216.75</td>\n      <td>0.0</td>\n      <td>0.0</td>\n      <td>0.0</td>\n      <td>0.0</td>\n      <td>0.0</td>\n      <td>0.00</td>\n      <td>0.0</td>\n      <td>0.0</td>\n    </tr>\n    <tr>\n      <th>17308</th>\n      <td>COOK CHILDRENS HOME HEALTH</td>\n      <td>752896983</td>\n      <td>1336119619</td>\n      <td>000H0HH963101</td>\n      <td>Dallas-Fort Worth-Arlington, TX</td>\n      <td>641</td>\n      <td>Cook Childrens Medical Ctr and Cook Childrens ...</td>\n      <td>12</td>\n      <td>0</td>\n      <td>255.00</td>\n      <td>216.75</td>\n      <td>0.0</td>\n      <td>0.0</td>\n      <td>0.0</td>\n      <td>0.0</td>\n      <td>0.0</td>\n      <td>0.00</td>\n      <td>0.0</td>\n      <td>0.0</td>\n    </tr>\n  </tbody>\n</table>\n<p>282 rows × 19 columns</p>\n</div>"
     },
     "execution_count": 16,
     "metadata": {},
     "output_type": "execute_result"
    }
   ],
   "source": [
    "df_claims_ip.drg_code = df_claims_ip.drg_code.astype(int)\n",
    "match_0['billing_code'] = pd.to_numeric(match_0['billing_code'], errors='coerce')\n",
    "match_0 = match_0.dropna(subset=['billing_code'])\n",
    "match_0.billing_code = match_0.billing_code.astype(int)\n",
    "match_1 = pd.merge(df_claims_ip, match_0, how='left',\n",
    "                   left_on=[ 'drg_code','billingprovidertaxid', 'billingprovidernpi'],\n",
    "                   right_on=['billing_code','taxid', 'npi'])\n",
    "match_1 = match_1.fillna(0)\n",
    "\n",
    "\n",
    "def calculate_percentage(row, column):\n",
    "    if row['negotiated_type'] == 'percentage' and row[column] != 0:\n",
    "        return round((row[column] / 100) * (row['amtcovered'] / row['claimcount']),2)\n",
    "    else:\n",
    "        return row[column]\n",
    "\n",
    "columns_to_update = ['aetna_open_access_managed', 'bcbs_tx_ppo', 'cigna_national_oap', 'uhc_choice_plus']\n",
    "\n",
    "for column in columns_to_update:\n",
    "    match_1[column + '_derived'] = match_1.apply(calculate_percentage, args=(column,), axis=1)\n",
    "\n",
    "def calculate_perdiem(row, column):\n",
    "    if row['negotiated_type'] == 'per diem' and row[column] != 0:\n",
    "        return round(row[column] * row['AvgLengthOfStay'],2)\n",
    "    else:\n",
    "        return row[column]\n",
    "\n",
    "columns_to_update = ['aetna_open_access_managed_derived', 'bcbs_tx_ppo_derived', 'cigna_national_oap_derived', 'uhc_choice_plus_derived']\n",
    "\n",
    "for column in columns_to_update:\n",
    "    match_1[column] = match_1.apply(calculate_perdiem, args=(column,), axis=1)\n",
    "# \n",
    "# outlier_rates = pd.read_csv('outlier_drg_rates.gz', compression='gzip', low_memory=False)\n",
    "# outlier_rates.billing_code_type = outlier_rates.billing_code_type.replace('MS-DRG','DRG')\n",
    "# outlier_rates = outlier_rates[['billing_code_type', 'billing_code', 'negotiated_type', 'rec_lb_outlier', 'rec_ub_outlier']]\n",
    "# match_1 = match_1.merge(outlier_rates, on=['billing_code', 'billing_code_type', 'negotiated_type'], how='left')\n",
    "# \n",
    "# \n",
    "# def remove_outliers(row, column):\n",
    "#     if row['rec_ub_outlier'] < row[column] :\n",
    "#         return 0\n",
    "#     elif row['rec_lb_outlier'] > row[column] :\n",
    "#         return 0\n",
    "#     else:\n",
    "#         return row[column]\n",
    "# \n",
    "# columns_to_update = ['aetna_open_access_managed_derived', 'bcbs_tx_ppo_derived', 'cigna_national_oap_derived', 'uhc_choice_plus_derived']\n",
    "# \n",
    "# for column in columns_to_update:\n",
    "#     match_1[column] = match_1.apply(remove_outliers, args=(column,), axis=1)\n",
    "# \n",
    "match_1.drop_duplicates(inplace=True)\n",
    "\n",
    "match_1['negotiated_type'] = match_1['negotiated_type'].replace('fee schedule','negotiated')\n",
    "\n",
    "def mean_positive(x):\n",
    "    return x[x > 0].mean()\n",
    "\n",
    "match_1 = match_1.groupby(['billingprovidername', 'billingprovidertaxid','billingprovidernpi', 'billingproviderid', 'cbsa_name', 'drg_code', 'IDN', 'rank', 'negotiated_type']).agg({'amtcovered':mean_positive, 'amtallowed': mean_positive,'aetna_open_access_managed': mean_positive, 'bcbs_tx_ppo': mean_positive, 'cigna_national_oap': mean_positive, 'uhc_choice_plus': mean_positive, 'aetna_open_access_managed_derived': mean_positive, 'bcbs_tx_ppo_derived': mean_positive, 'cigna_national_oap_derived': mean_positive, 'uhc_choice_plus_derived': mean_positive}, ).reset_index().sort_values('amtallowed', ascending = False)\n",
    "match_1 = match_1.fillna(0)\n",
    "\n",
    "match_1 = match_1[match_1['rank'] == 12]\n",
    "\n",
    "# match_1 = match_1[match_1['billingprovidertaxid'] == '741109643']\n",
    "# match_1 = match_1[match_1['billingprovidernpi'] == '1447355771']\n",
    "match_1"
   ],
   "metadata": {
    "collapsed": false,
    "ExecuteTime": {
     "end_time": "2024-06-12T21:00:20.864643700Z",
     "start_time": "2024-06-12T20:59:08.849807Z"
    }
   },
   "id": "4290c2b144e0d2"
  },
  {
   "cell_type": "code",
   "execution_count": 18,
   "outputs": [],
   "source": [
    "rank = df_claims_ip[df_claims_ip['rank'] == 12]\n",
    "allowed = rank['amtallowed'].sum()\n",
    "match_1['share'] = match_1['amtallowed'] / allowed\n",
    "\n",
    "match_1['bcbstx_match'] = match_1['bcbs_tx_ppo_derived'] / match_1['bcbs_tx_ppo_derived'] * match_1['share']\n",
    "match_1['uhc_match'] = match_1['uhc_choice_plus_derived'] / match_1['bcbs_tx_ppo_derived'] * match_1['share']\n",
    "match_1['aetna_match'] = match_1['aetna_open_access_managed_derived'] / match_1['bcbs_tx_ppo_derived'] * match_1['share']\n",
    "match_1['cigna_match'] = match_1['cigna_national_oap_derived'] / match_1['bcbs_tx_ppo_derived'] * match_1['share']\n",
    "\n",
    "match_1 = match_1.fillna(0).replace([np.inf,-np.inf],0)\n",
    "# match_1.to_csv('Data Sources/MatchedRates_ip.gz',index=False, compression='gzip')\n",
    "# match_1"
   ],
   "metadata": {
    "collapsed": false,
    "ExecuteTime": {
     "end_time": "2024-06-12T21:00:20.901642900Z",
     "start_time": "2024-06-12T21:00:20.883635800Z"
    }
   },
   "id": "b94767a22d9cdd26"
  },
  {
   "cell_type": "code",
   "execution_count": 199,
   "outputs": [
    {
     "name": "stdout",
     "output_type": "stream",
     "text": [
      "Any data 1.0\n",
      "BCBS/UHC share 0.5112970910536034\n",
      "BCBS/Aetna share 0.23709125149480464\n",
      "BCBS/Cigna share 0.5755715866323228\n"
     ]
    }
   ],
   "source": [
    "print('Any data',1-match_1.loc[match_1.billingprovidertaxid == 0,'share'].sum())\n",
    "\n",
    "cond_1 =(match_1.bcbs_tx_ppo_derived != 0) & (match_1.uhc_choice_plus_derived != 0)\n",
    "cond_2 = (match_1.bcbs_tx_ppo_derived != 0) & (match_1.aetna_open_access_managed_derived != 0)\n",
    "cond_3 = (match_1.bcbs_tx_ppo_derived != 0) & (match_1.cigna_national_oap_derived != 0)\n",
    "print('BCBS/UHC share',match_1.loc[cond_1,'share'].sum())\n",
    "print('BCBS/Aetna share',match_1.loc[cond_2,'share'].sum())\n",
    "print('BCBS/Cigna share',match_1.loc[cond_3,'share'].sum())\n",
    "\n",
    "del cond_1\n",
    "del cond_2\n",
    "del cond_3\n"
   ],
   "metadata": {
    "collapsed": false,
    "ExecuteTime": {
     "end_time": "2024-06-12T20:22:14.682175200Z",
     "start_time": "2024-06-12T20:22:14.622643900Z"
    }
   },
   "id": "b816c7e878f9a0ae"
  },
  {
   "cell_type": "code",
   "execution_count": 200,
   "outputs": [
    {
     "name": "stdout",
     "output_type": "stream",
     "text": [
      "0.9150747722624398\n",
      "0.851820617874312\n"
     ]
    }
   ],
   "source": [
    " cond_uhc = match_1[(match_1.bcbstx_match != 0) & (match_1.uhc_match != 0)]\n",
    " cond_cigna = match_1[(match_1.bcbstx_match != 0) & (match_1.cigna_match != 0)]\n",
    "# columns = ['billingprovidertaxid','share', 'bcbstx_matched', 'uhc_matched']\n",
    "# grouped = ['billingprovidertaxid']\n",
    "\n",
    "# a = match_1.loc[cond,columns].groupby(grouped).sum()\n",
    "# a1 = dict(zip(a.index,a.share))\n",
    "# a2 = dict(zip(a.index,a.uhc_match))\n",
    "# \n",
    "# weights_prov['UHC_share'] = weights_prov['billingprovidertaxid'].map(a1)\n",
    "# weights_prov['UHC_share'] = weights_prov['UHC_share'].fillna(0)\n",
    "# weights_prov['UHC_weigthed'] = weights_prov['billingprovidertaxid'].map(a2)\n",
    "# weights_prov['avail_share'] = weights_prov['UHC_share'] / weights_prov['share']\n",
    "# weights_prov['matched_share'] = weights_prov['avail_share'] * weights_prov['share']\n",
    "# weights_prov['avail_cum_share'] = weights_prov['UHC_share'].cumsum()\n",
    "# weights_prov['UHC_factor'] = weights_prov['UHC_weigthed'] / weights_prov['UHC_share']\n",
    "# weights_prov['UHC_factorX'] = weights_prov['UHC_factor'] * weights_prov['matched_share']\n",
    "# weights_prov['npi'] = weights_prov['billingprovidertaxid'].astype(int)\n",
    "# weights_prov['sharexfctr'] = weights_prov['matched_share'] * weights_prov['UHC_factor']\n",
    "# \n",
    "# final_prov = weights_prov.loc[:,['billingprovidertaxid','allowed', 'share','avail_share','matched_share','UHC_factor', 'sharexfctr']]\n",
    "# del cond, columns, grouped, a, a1, a2\n",
    "# total = final_prov.sharexfctr.sum() / final_prov.matched_share.sum()\n",
    "# print(total)\n",
    "# final_prov\n",
    "total_uhc = cond_uhc.bcbstx_match.sum() / cond_uhc.uhc_match.sum()\n",
    "total_cigna = cond_cigna.bcbstx_match.sum() / cond_cigna.cigna_match.sum()\n",
    "print(total_uhc)\n",
    "print(total_cigna)"
   ],
   "metadata": {
    "collapsed": false,
    "ExecuteTime": {
     "end_time": "2024-06-12T20:22:14.683175300Z",
     "start_time": "2024-06-12T20:22:14.655177100Z"
    }
   },
   "id": "3c91fab632c25feb"
  },
  {
   "cell_type": "code",
   "execution_count": 13,
   "outputs": [
    {
     "data": {
      "text/plain": "                npi  tin_value         plan  code code_type negotiated_type  \\\n0        1003192311  452750258  bcbs_tx_ppo   557    MS-DRG      negotiated   \n1        1003192311  452750258  bcbs_tx_ppo   207    MS-DRG        per diem   \n2        1003192311  452750258  bcbs_tx_ppo    92    MS-DRG        per diem   \n3        1003192311  452750258  bcbs_tx_ppo   274    MS-DRG        per diem   \n4        1003192311  452750258  bcbs_tx_ppo    30    MS-DRG        per diem   \n...             ...        ...          ...   ...       ...             ...   \n1355198  1992796239  742557820  bcbs_tx_ppo   574    MS-DRG      negotiated   \n1355199  1992796239  742557820  bcbs_tx_ppo   778    MS-DRG        per diem   \n1355200  1992796239  742557820  bcbs_tx_ppo   802    MS-DRG        per diem   \n1355201  1992796239  742557820  bcbs_tx_ppo   776    MS-DRG        per diem   \n1355202  1992796239  742557820  bcbs_tx_ppo   327    MS-DRG        per diem   \n\n         negotiated_rate  \n0                8384.65  \n1                 585.00  \n2                 585.00  \n3                 585.00  \n4                 585.00  \n...                  ...  \n1355198         17141.40  \n1355199          1340.00  \n1355200          1340.00  \n1355201          1340.00  \n1355202          1340.00  \n\n[1355203 rows x 7 columns]",
      "text/html": "<div>\n<style scoped>\n    .dataframe tbody tr th:only-of-type {\n        vertical-align: middle;\n    }\n\n    .dataframe tbody tr th {\n        vertical-align: top;\n    }\n\n    .dataframe thead th {\n        text-align: right;\n    }\n</style>\n<table border=\"1\" class=\"dataframe\">\n  <thead>\n    <tr style=\"text-align: right;\">\n      <th></th>\n      <th>npi</th>\n      <th>tin_value</th>\n      <th>plan</th>\n      <th>code</th>\n      <th>code_type</th>\n      <th>negotiated_type</th>\n      <th>negotiated_rate</th>\n    </tr>\n  </thead>\n  <tbody>\n    <tr>\n      <th>0</th>\n      <td>1003192311</td>\n      <td>452750258</td>\n      <td>bcbs_tx_ppo</td>\n      <td>557</td>\n      <td>MS-DRG</td>\n      <td>negotiated</td>\n      <td>8384.65</td>\n    </tr>\n    <tr>\n      <th>1</th>\n      <td>1003192311</td>\n      <td>452750258</td>\n      <td>bcbs_tx_ppo</td>\n      <td>207</td>\n      <td>MS-DRG</td>\n      <td>per diem</td>\n      <td>585.00</td>\n    </tr>\n    <tr>\n      <th>2</th>\n      <td>1003192311</td>\n      <td>452750258</td>\n      <td>bcbs_tx_ppo</td>\n      <td>92</td>\n      <td>MS-DRG</td>\n      <td>per diem</td>\n      <td>585.00</td>\n    </tr>\n    <tr>\n      <th>3</th>\n      <td>1003192311</td>\n      <td>452750258</td>\n      <td>bcbs_tx_ppo</td>\n      <td>274</td>\n      <td>MS-DRG</td>\n      <td>per diem</td>\n      <td>585.00</td>\n    </tr>\n    <tr>\n      <th>4</th>\n      <td>1003192311</td>\n      <td>452750258</td>\n      <td>bcbs_tx_ppo</td>\n      <td>30</td>\n      <td>MS-DRG</td>\n      <td>per diem</td>\n      <td>585.00</td>\n    </tr>\n    <tr>\n      <th>...</th>\n      <td>...</td>\n      <td>...</td>\n      <td>...</td>\n      <td>...</td>\n      <td>...</td>\n      <td>...</td>\n      <td>...</td>\n    </tr>\n    <tr>\n      <th>1355198</th>\n      <td>1992796239</td>\n      <td>742557820</td>\n      <td>bcbs_tx_ppo</td>\n      <td>574</td>\n      <td>MS-DRG</td>\n      <td>negotiated</td>\n      <td>17141.40</td>\n    </tr>\n    <tr>\n      <th>1355199</th>\n      <td>1992796239</td>\n      <td>742557820</td>\n      <td>bcbs_tx_ppo</td>\n      <td>778</td>\n      <td>MS-DRG</td>\n      <td>per diem</td>\n      <td>1340.00</td>\n    </tr>\n    <tr>\n      <th>1355200</th>\n      <td>1992796239</td>\n      <td>742557820</td>\n      <td>bcbs_tx_ppo</td>\n      <td>802</td>\n      <td>MS-DRG</td>\n      <td>per diem</td>\n      <td>1340.00</td>\n    </tr>\n    <tr>\n      <th>1355201</th>\n      <td>1992796239</td>\n      <td>742557820</td>\n      <td>bcbs_tx_ppo</td>\n      <td>776</td>\n      <td>MS-DRG</td>\n      <td>per diem</td>\n      <td>1340.00</td>\n    </tr>\n    <tr>\n      <th>1355202</th>\n      <td>1992796239</td>\n      <td>742557820</td>\n      <td>bcbs_tx_ppo</td>\n      <td>327</td>\n      <td>MS-DRG</td>\n      <td>per diem</td>\n      <td>1340.00</td>\n    </tr>\n  </tbody>\n</table>\n<p>1355203 rows × 7 columns</p>\n</div>"
     },
     "execution_count": 13,
     "metadata": {},
     "output_type": "execute_result"
    }
   ],
   "source": [
    "df_rates = pd.read_csv('base_rates_ip.gz', compression='gzip', low_memory=False, dtype={'tin_value': str, 'npi': str})\n",
    "\n",
    "if df_rates['billing_code_modifier'].dropna().unique().size > 0 :\n",
    "\n",
    "\n",
    "    # Columns to analyse\n",
    "    df_mod = df_rates.loc[:,['plan', 'code', 'code_type','billing_code_modifier','negotiated_rate']]\n",
    "    df_mod['billing_code_modifier'] = df_mod['billing_code_modifier'].fillna('')\n",
    "    df_mod['negotiated_rate'] = df_mod['negotiated_rate'].fillna(0)\n",
    "\n",
    "    # Groups\n",
    "    mod_groups = df_mod.groupby(['plan', 'code', 'code_type','billing_code_modifier'])\n",
    "\n",
    "    # Calculations\n",
    "    mod_calcs = mod_groups.agg(['mean','std','count'])\n",
    "\n",
    "\n",
    "    # Pivot\n",
    "    mod_piv = mod_calcs.reset_index()\n",
    "    mod_piv.sort_index(axis=1, inplace=True)\n",
    "    mod_piv = mod_piv.pivot_table(index=['plan', 'code', 'code_type'],\n",
    "                                                columns='billing_code_modifier',\n",
    "                                                values=[('negotiated_rate','mean'),('negotiated_rate','std'),('negotiated_rate','count')])\n",
    "\n",
    "    # BASE RATE\n",
    "    is_mod = mod_piv.xs(key='',level=2, axis=1).reset_index().sort_index()\n",
    "    is_valid = mod_piv.reset_index().xs(key='',level=2, axis=1)['negotiated_rate']['count'] > 0\n",
    "    mode_base = is_mod.loc[ is_valid , :].sort_index()\n",
    "    mode_base.sort_index(axis=1, inplace=True)\n",
    "\n",
    "    from scipy import stats\n",
    "\n",
    "    def perform_t_test(row):\n",
    "        mean1, std1, count1 = row[('negotiated_rate_mod','mean')],row[('negotiated_rate_mod','std')],row[('negotiated_rate_mod','count')]\n",
    "        mean2, std2, count2 = row[('negotiated_rate_base','mean')],row[('negotiated_rate_base','std')],row[('negotiated_rate_base','count')]\n",
    "        \n",
    "        if np.sqrt((std1**2/count1)+(std2**2/count2)) == 0:\n",
    "            t_stat = 0\n",
    "        else:\n",
    "            t_stat = (mean1-mean2) / np.sqrt((std1**2/count1)+(std2**2/count2))\n",
    "        \n",
    "        try:\n",
    "            df = ((std1**2/count1 + std2**2/count2)**2) / (((std1**2/count1)**2 / (count1-1)) + ((std2**2/count2)**2 / (count2-1)))\n",
    "        except: \n",
    "            df = 0\n",
    "\n",
    "        # Calculate the p-value\n",
    "        p_value = stats.t.sf(np.abs(t_stat), df) * 2  # Multiply by 2 for a two-tailed test\n",
    "        return p_value\n",
    "\n",
    "\n",
    "    modifiers = ['26','50','NU','RR','TC','UE']\n",
    "    to_exclude = pd.DataFrame()\n",
    "\n",
    "    for modif in modifiers:\n",
    "        is_mod = mod_piv.xs(key=modif, level=2, axis=1).reset_index()\n",
    "        is_valid = mod_piv.reset_index().xs(key=modif ,level=2, axis=1)['negotiated_rate']['count'] > 0\n",
    "        temp = is_mod.loc[ is_valid , :].sort_index()\n",
    "\n",
    "        temp.sort_index(axis=1, inplace=True)\n",
    "        test = pd.merge(temp,mode_base,on=['plan','code','code_type'],how='left',suffixes=('_mod', '_base'))\n",
    "\n",
    "        if 'std' not in test['negotiated_rate_mod'].columns:\n",
    "        \n",
    "            test['p-value'] = 0\n",
    "            to_exclude_temp = test.copy()\n",
    "            to_exclude_temp['billing_code_modifier'] = modif\n",
    "            to_exclude_temp = to_exclude_temp.loc[:,['plan','code','code_type','billing_code_modifier']]\n",
    "            \n",
    "        else:\n",
    "            test['p-value'] = test.apply(perform_t_test, axis=1)\n",
    "            to_exclude_temp = test[test['p-value'] < 0.05].copy()\n",
    "            to_exclude_temp['billing_code_modifier'] = modif\n",
    "            to_exclude_temp = to_exclude_temp.loc[:,['plan','code','code_type','billing_code_modifier']]\n",
    "\n",
    "            to_exclude = pd.concat([to_exclude_temp,to_exclude])\n",
    "\n",
    "    # cond = (df_rates.code == '74177' ) & (df_rates.plan == 'uhc_option_ppo') \n",
    "    # a = df_rates.loc[cond,['plan', 'code', 'code_type','billing_code_modifier','negotiated_rate']]\n",
    "\n",
    "    # # test [ test['negotiated_rate_mod']['count'] < 2 ]\n",
    "    # test [ test['code'] == '74177' ]\n",
    "        \n",
    "    to_exclude.columns = [item[0] for item in to_exclude.columns]\n",
    "    to_exclude['to_drop'] = True\n",
    "\n",
    "    del is_mod, is_valid, temp, test, to_exclude_temp, modif\n",
    "\n",
    "\n",
    "    df_rates_0 = pd.merge(df_rates,to_exclude,\n",
    "                        on=['plan', 'code', 'code_type', 'billing_code_modifier'],\n",
    "                        how='left')\n",
    "\n",
    "    del mod_calcs, mod_groups, mod_piv, modifiers, mode_base, df_mod, to_exclude\n",
    "\n",
    "\n",
    "\n",
    "    df_rates = df_rates_0[df_rates_0.to_drop != True]\n",
    "    # df_rates = df_rates.drop(['to_drop','negotiated_rate_int','additional_information','billing_code_modifier','log_rate','billing_class'],axis=1)\n",
    "    df_rates = df_rates.drop(['to_drop'],axis=1)\n",
    "\n",
    "\n",
    "    del df_rates_0    \n",
    "\n",
    "df_rates = df_rates.drop(['billing_code_modifier'],axis=1)    \n",
    "df_rates['negotiated_type'] = df_rates['negotiated_type'].replace('fee schedule','negotiated')\n",
    "df_rates"
   ],
   "metadata": {
    "collapsed": false,
    "ExecuteTime": {
     "start_time": "2024-05-23T16:02:37.655728200Z"
    }
   },
   "id": "8b84942a378be78"
  },
  {
   "cell_type": "code",
   "execution_count": 14,
   "outputs": [
    {
     "data": {
      "text/plain": "               npi  tin_value         plan  code code_type negotiated_type  \\\n0       1003192311  452750258  bcbs_tx_ppo     1       DRG        per diem   \n1       1003192311  452750258  bcbs_tx_ppo     1       DRG      percentage   \n2       1003192311  452750258  bcbs_tx_ppo     2       DRG        per diem   \n3       1003192311  452750258  bcbs_tx_ppo     2       DRG      percentage   \n4       1003192311  452750258  bcbs_tx_ppo     3       DRG      negotiated   \n...            ...        ...          ...   ...       ...             ...   \n814738  1992796239  742557820  bcbs_tx_ppo   987       DRG        per diem   \n814739  1992796239  742557820  bcbs_tx_ppo   988       DRG      negotiated   \n814740  1992796239  742557820  bcbs_tx_ppo   988       DRG        per diem   \n814741  1992796239  742557820  bcbs_tx_ppo   989       DRG      negotiated   \n814742  1992796239  742557820  bcbs_tx_ppo   989       DRG        per diem   \n\n        count       mean  \n0           2     585.00  \n1           7      50.00  \n2           2     585.00  \n3           7      50.00  \n4           1  108984.93  \n...       ...        ...  \n814738      1    1340.00  \n814739      1   10302.60  \n814740      1    1340.00  \n814741      1    6338.40  \n814742      1    1340.00  \n\n[814743 rows x 8 columns]",
      "text/html": "<div>\n<style scoped>\n    .dataframe tbody tr th:only-of-type {\n        vertical-align: middle;\n    }\n\n    .dataframe tbody tr th {\n        vertical-align: top;\n    }\n\n    .dataframe thead th {\n        text-align: right;\n    }\n</style>\n<table border=\"1\" class=\"dataframe\">\n  <thead>\n    <tr style=\"text-align: right;\">\n      <th></th>\n      <th>npi</th>\n      <th>tin_value</th>\n      <th>plan</th>\n      <th>code</th>\n      <th>code_type</th>\n      <th>negotiated_type</th>\n      <th>count</th>\n      <th>mean</th>\n    </tr>\n  </thead>\n  <tbody>\n    <tr>\n      <th>0</th>\n      <td>1003192311</td>\n      <td>452750258</td>\n      <td>bcbs_tx_ppo</td>\n      <td>1</td>\n      <td>DRG</td>\n      <td>per diem</td>\n      <td>2</td>\n      <td>585.00</td>\n    </tr>\n    <tr>\n      <th>1</th>\n      <td>1003192311</td>\n      <td>452750258</td>\n      <td>bcbs_tx_ppo</td>\n      <td>1</td>\n      <td>DRG</td>\n      <td>percentage</td>\n      <td>7</td>\n      <td>50.00</td>\n    </tr>\n    <tr>\n      <th>2</th>\n      <td>1003192311</td>\n      <td>452750258</td>\n      <td>bcbs_tx_ppo</td>\n      <td>2</td>\n      <td>DRG</td>\n      <td>per diem</td>\n      <td>2</td>\n      <td>585.00</td>\n    </tr>\n    <tr>\n      <th>3</th>\n      <td>1003192311</td>\n      <td>452750258</td>\n      <td>bcbs_tx_ppo</td>\n      <td>2</td>\n      <td>DRG</td>\n      <td>percentage</td>\n      <td>7</td>\n      <td>50.00</td>\n    </tr>\n    <tr>\n      <th>4</th>\n      <td>1003192311</td>\n      <td>452750258</td>\n      <td>bcbs_tx_ppo</td>\n      <td>3</td>\n      <td>DRG</td>\n      <td>negotiated</td>\n      <td>1</td>\n      <td>108984.93</td>\n    </tr>\n    <tr>\n      <th>...</th>\n      <td>...</td>\n      <td>...</td>\n      <td>...</td>\n      <td>...</td>\n      <td>...</td>\n      <td>...</td>\n      <td>...</td>\n      <td>...</td>\n    </tr>\n    <tr>\n      <th>814738</th>\n      <td>1992796239</td>\n      <td>742557820</td>\n      <td>bcbs_tx_ppo</td>\n      <td>987</td>\n      <td>DRG</td>\n      <td>per diem</td>\n      <td>1</td>\n      <td>1340.00</td>\n    </tr>\n    <tr>\n      <th>814739</th>\n      <td>1992796239</td>\n      <td>742557820</td>\n      <td>bcbs_tx_ppo</td>\n      <td>988</td>\n      <td>DRG</td>\n      <td>negotiated</td>\n      <td>1</td>\n      <td>10302.60</td>\n    </tr>\n    <tr>\n      <th>814740</th>\n      <td>1992796239</td>\n      <td>742557820</td>\n      <td>bcbs_tx_ppo</td>\n      <td>988</td>\n      <td>DRG</td>\n      <td>per diem</td>\n      <td>1</td>\n      <td>1340.00</td>\n    </tr>\n    <tr>\n      <th>814741</th>\n      <td>1992796239</td>\n      <td>742557820</td>\n      <td>bcbs_tx_ppo</td>\n      <td>989</td>\n      <td>DRG</td>\n      <td>negotiated</td>\n      <td>1</td>\n      <td>6338.40</td>\n    </tr>\n    <tr>\n      <th>814742</th>\n      <td>1992796239</td>\n      <td>742557820</td>\n      <td>bcbs_tx_ppo</td>\n      <td>989</td>\n      <td>DRG</td>\n      <td>per diem</td>\n      <td>1</td>\n      <td>1340.00</td>\n    </tr>\n  </tbody>\n</table>\n<p>814743 rows × 8 columns</p>\n</div>"
     },
     "execution_count": 14,
     "metadata": {},
     "output_type": "execute_result"
    }
   ],
   "source": [
    "df_temp = df_rates.groupby(['npi','tin_value', 'plan', 'code', 'code_type','negotiated_type']).agg(['mean','count']).reset_index()\n",
    "df_temp.columns = [item[0] if item[1] == '' else item[1] for item in df_temp.columns]\n",
    "\n",
    "df_temp.code_type = df_temp.code_type.replace('MS-DRG','DRG')\n",
    "df_temp = df_temp.loc[:,['npi', 'tin_value', 'plan', 'code', 'code_type', 'negotiated_type', 'mean', 'count']]\n",
    "\n",
    "df_temp['mean'] = pd.to_numeric(df_temp['mean'])\n",
    "\n",
    "df_temp = df_temp.groupby(['npi', 'tin_value','plan','code','code_type', 'negotiated_type']).agg({'count':'sum','mean':'mean'}).reset_index()\n",
    "\n",
    "df_temp\n"
   ],
   "metadata": {
    "collapsed": false,
    "ExecuteTime": {
     "start_time": "2024-05-23T16:05:10.781396200Z"
    }
   },
   "id": "9ea63cfc3b584566"
  },
  {
   "cell_type": "code",
   "execution_count": 15,
   "outputs": [],
   "source": [
    "add_providers_data = True"
   ],
   "metadata": {
    "collapsed": false,
    "ExecuteTime": {
     "start_time": "2024-05-23T16:05:14.918702900Z"
    }
   },
   "id": "858dd0cf3df8fde5"
  },
  {
   "cell_type": "code",
   "execution_count": 16,
   "outputs": [
    {
     "name": "stderr",
     "output_type": "stream",
     "text": [
      "C:\\Users\\geoff.joe\\AppData\\Local\\Temp\\ipykernel_16600\\607752415.py:4: DtypeWarning: Columns (2,3,10) have mixed types. Specify dtype option on import or set low_memory=False.\n",
      "  provider_file = pd.read_csv(r'C:\\Users\\geoff.joe\\PycharmProjects\\Data-Services\\PlanOptix - Analysis\\Texas BCBSvsUHC\\ProviderFiles\\75-1837454_BAYLOR_UNIVERSITY_MEDICAL_CENTER_standardcharges.csv', encoding='latin1')\n"
     ]
    },
    {
     "data": {
      "text/plain": "              npi  tin_value  code code_type negotiated_type  \\\n0      1447250253  751837454     3       DRG        provider   \n1      1447250253  751837454     4       DRG        provider   \n2      1447250253  751837454    11       DRG        provider   \n3      1447250253  751837454    12       DRG        provider   \n4      1447250253  751837454    13       DRG        provider   \n...           ...        ...   ...       ...             ...   \n11723  1447250253  751837454   982       DRG        provider   \n11724  1447250253  751837454   983       DRG        provider   \n11725  1447250253  751837454   987       DRG        provider   \n11726  1447250253  751837454   988       DRG        provider   \n11727  1447250253  751837454   989       DRG        provider   \n\n                     plan      mean  count  \n0         uhc_choice_plus  294693.0      1  \n1         uhc_choice_plus  199961.0      1  \n2         uhc_choice_plus   75216.0      1  \n3         uhc_choice_plus   56930.0      1  \n4         uhc_choice_plus   41186.0      1  \n...                   ...       ...    ...  \n11723  cigna_national_oap   23883.0      1  \n11724  cigna_national_oap   15904.0      1  \n11725  cigna_national_oap   31598.0      1  \n11726  cigna_national_oap   16153.0      1  \n11727  cigna_national_oap   10497.0      1  \n\n[11586 rows x 8 columns]",
      "text/html": "<div>\n<style scoped>\n    .dataframe tbody tr th:only-of-type {\n        vertical-align: middle;\n    }\n\n    .dataframe tbody tr th {\n        vertical-align: top;\n    }\n\n    .dataframe thead th {\n        text-align: right;\n    }\n</style>\n<table border=\"1\" class=\"dataframe\">\n  <thead>\n    <tr style=\"text-align: right;\">\n      <th></th>\n      <th>npi</th>\n      <th>tin_value</th>\n      <th>code</th>\n      <th>code_type</th>\n      <th>negotiated_type</th>\n      <th>plan</th>\n      <th>mean</th>\n      <th>count</th>\n    </tr>\n  </thead>\n  <tbody>\n    <tr>\n      <th>0</th>\n      <td>1447250253</td>\n      <td>751837454</td>\n      <td>3</td>\n      <td>DRG</td>\n      <td>provider</td>\n      <td>uhc_choice_plus</td>\n      <td>294693.0</td>\n      <td>1</td>\n    </tr>\n    <tr>\n      <th>1</th>\n      <td>1447250253</td>\n      <td>751837454</td>\n      <td>4</td>\n      <td>DRG</td>\n      <td>provider</td>\n      <td>uhc_choice_plus</td>\n      <td>199961.0</td>\n      <td>1</td>\n    </tr>\n    <tr>\n      <th>2</th>\n      <td>1447250253</td>\n      <td>751837454</td>\n      <td>11</td>\n      <td>DRG</td>\n      <td>provider</td>\n      <td>uhc_choice_plus</td>\n      <td>75216.0</td>\n      <td>1</td>\n    </tr>\n    <tr>\n      <th>3</th>\n      <td>1447250253</td>\n      <td>751837454</td>\n      <td>12</td>\n      <td>DRG</td>\n      <td>provider</td>\n      <td>uhc_choice_plus</td>\n      <td>56930.0</td>\n      <td>1</td>\n    </tr>\n    <tr>\n      <th>4</th>\n      <td>1447250253</td>\n      <td>751837454</td>\n      <td>13</td>\n      <td>DRG</td>\n      <td>provider</td>\n      <td>uhc_choice_plus</td>\n      <td>41186.0</td>\n      <td>1</td>\n    </tr>\n    <tr>\n      <th>...</th>\n      <td>...</td>\n      <td>...</td>\n      <td>...</td>\n      <td>...</td>\n      <td>...</td>\n      <td>...</td>\n      <td>...</td>\n      <td>...</td>\n    </tr>\n    <tr>\n      <th>11723</th>\n      <td>1447250253</td>\n      <td>751837454</td>\n      <td>982</td>\n      <td>DRG</td>\n      <td>provider</td>\n      <td>cigna_national_oap</td>\n      <td>23883.0</td>\n      <td>1</td>\n    </tr>\n    <tr>\n      <th>11724</th>\n      <td>1447250253</td>\n      <td>751837454</td>\n      <td>983</td>\n      <td>DRG</td>\n      <td>provider</td>\n      <td>cigna_national_oap</td>\n      <td>15904.0</td>\n      <td>1</td>\n    </tr>\n    <tr>\n      <th>11725</th>\n      <td>1447250253</td>\n      <td>751837454</td>\n      <td>987</td>\n      <td>DRG</td>\n      <td>provider</td>\n      <td>cigna_national_oap</td>\n      <td>31598.0</td>\n      <td>1</td>\n    </tr>\n    <tr>\n      <th>11726</th>\n      <td>1447250253</td>\n      <td>751837454</td>\n      <td>988</td>\n      <td>DRG</td>\n      <td>provider</td>\n      <td>cigna_national_oap</td>\n      <td>16153.0</td>\n      <td>1</td>\n    </tr>\n    <tr>\n      <th>11727</th>\n      <td>1447250253</td>\n      <td>751837454</td>\n      <td>989</td>\n      <td>DRG</td>\n      <td>provider</td>\n      <td>cigna_national_oap</td>\n      <td>10497.0</td>\n      <td>1</td>\n    </tr>\n  </tbody>\n</table>\n<p>11586 rows × 8 columns</p>\n</div>"
     },
     "execution_count": 16,
     "metadata": {},
     "output_type": "execute_result"
    }
   ],
   "source": [
    "# Baylor Univ -  TAX ID 751837454\n",
    "if add_providers_data:\n",
    "   \n",
    "    provider_file = pd.read_csv(r'C:\\Users\\geoff.joe\\PycharmProjects\\Data-Services\\PlanOptix - Analysis\\Texas BCBSvsUHC\\ProviderFiles\\75-1837454_BAYLOR_UNIVERSITY_MEDICAL_CENTER_standardcharges.csv', encoding='latin1')\n",
    "\n",
    "    provider_file = provider_file[['Patient Type', 'DRG', 'BCBS PPO', 'Aetna', 'Cigna', 'United']]\n",
    "    # provider_file = provider_file.rename(columns={'code':'code_type'})\n",
    "    # provider_file = provider_file.rename(columns={'id':'code','':''})\n",
    "    provider_file['npi'] = 1447250253\n",
    "    provider_file['tin_value'] = 751837454\n",
    "    \n",
    "    provider_file = provider_file.rename(columns={'United':'uhc_choice_plus','BCBS PPO':'bcbs_tx_ppo', 'Aetna': 'aetna_open_access_managed', 'Cigna': 'cigna_national_oap', 'DRG':'code'})\n",
    "    provider_file['code_type'] = 'DRG'\n",
    "    provider_file['negotiated_type'] = 'provider'\n",
    "    provider_file = provider_file[provider_file['Patient Type'] == 'Inpatient']\n",
    "    provider_file = provider_file.dropna()\n",
    "    bcbstx = provider_file[provider_file['bcbs_tx_ppo'] != '**']\n",
    "    uhc = provider_file[provider_file['uhc_choice_plus'] != '**']\n",
    "    aetna = provider_file[provider_file['aetna_open_access_managed'] != '**']\n",
    "    cigna = provider_file[provider_file['cigna_national_oap'] != '**']\n",
    "    provider_file = pd.concat([bcbstx,uhc,aetna,cigna])\n",
    "\n",
    "\n",
    "    provider_file = provider_file.melt(id_vars=['npi','tin_value','code','code_type', 'negotiated_type'],\n",
    "                                    value_vars=['uhc_choice_plus','bcbs_tx_ppo', 'aetna_open_access_managed', 'cigna_national_oap'],\n",
    "                                    var_name='plan',\n",
    "                                    value_name='mean')\n",
    "\n",
    "    provider_file = provider_file[provider_file['mean'] != '**']\n",
    "\n",
    "    provider_file['count'] = 1\n",
    "    provider_file['count'] = provider_file['count'].astype(int)\n",
    "    provider_file['mean'] = provider_file['mean'].astype(float)\n",
    "    provider_file['code'] = provider_file['code'].astype(int)\n",
    "    # df_temp = df_temp[df_temp.tin_value != 741837454]\n",
    "    # provider_file = provider_file.loc[:,df_temp.columns]\n",
    "    # provider_file.loc[provider_file.code_type == 'DRG', 'code'] = provider_file.loc[provider_file.code_type == 'DRG', 'code'].astype(int).astype(str)    \n",
    "\n",
    "\n",
    "provider_file"
   ],
   "metadata": {
    "collapsed": false,
    "ExecuteTime": {
     "start_time": "2024-05-23T16:05:15.781321300Z"
    }
   },
   "id": "f834d549892f8dd2"
  },
  {
   "cell_type": "code",
   "execution_count": 17,
   "outputs": [],
   "source": [
    "df_temp = pd.concat([df_temp, provider_file])\n",
    "df_temp['mean'] = pd.to_numeric(df_temp['mean'], errors='coerce')\n",
    "df_temp = df_temp.groupby(['npi', 'tin_value','plan','code','code_type', 'negotiated_type']).agg({'count':'sum','mean':'mean'}).reset_index()"
   ],
   "metadata": {
    "collapsed": false,
    "ExecuteTime": {
     "start_time": "2024-05-23T16:05:19.398914900Z"
    }
   },
   "id": "55875789b4410baa"
  },
  {
   "cell_type": "code",
   "execution_count": null,
   "outputs": [],
   "source": [],
   "metadata": {
    "collapsed": false
   },
   "id": "eeb4dbee693099db"
  }
 ],
 "metadata": {
  "kernelspec": {
   "display_name": "Python 3",
   "language": "python",
   "name": "python3"
  },
  "language_info": {
   "codemirror_mode": {
    "name": "ipython",
    "version": 2
   },
   "file_extension": ".py",
   "mimetype": "text/x-python",
   "name": "python",
   "nbconvert_exporter": "python",
   "pygments_lexer": "ipython2",
   "version": "2.7.6"
  }
 },
 "nbformat": 4,
 "nbformat_minor": 5
}
