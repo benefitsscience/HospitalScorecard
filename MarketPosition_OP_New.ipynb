{
 "cells": [
  {
   "cell_type": "code",
   "execution_count": 12,
   "id": "initial_id",
   "metadata": {
    "collapsed": true,
    "ExecuteTime": {
     "end_time": "2024-06-18T22:52:21.370823100Z",
     "start_time": "2024-06-18T22:52:21.339823500Z"
    }
   },
   "outputs": [],
   "source": [
    "import pandas as pd\n",
    "from trino.dbapi import connect \n",
    "import numpy as np\n",
    "from dateutil.relativedelta import relativedelta\n",
    "from scipy.stats import gmean"
   ]
  },
  {
   "cell_type": "code",
   "execution_count": 24,
   "outputs": [],
   "source": [
    "def read_from_hive(sql_script):\n",
    "    conn = connect(\n",
    "            host='presto.bstis.com',\n",
    "            port=8080,\n",
    "            user='hadoop',\n",
    "            catalog='hive',\n",
    "            #schema='default'\n",
    "            )\n",
    "    cur = conn.cursor()\n",
    "    cur.execute(sql_script)\n",
    "    rows = cur.fetchall()\n",
    "    columns = [desc[0] for desc in cur.description]\n",
    "    df = pd.DataFrame(rows,columns=columns)\n",
    "    return df"
   ],
   "metadata": {
    "collapsed": false,
    "ExecuteTime": {
     "end_time": "2024-06-18T22:55:32.147631700Z",
     "start_time": "2024-06-18T22:55:32.103551800Z"
    }
   },
   "id": "95399699fd778418"
  },
  {
   "cell_type": "code",
   "execution_count": 14,
   "outputs": [
    {
     "name": "stderr",
     "output_type": "stream",
     "text": [
      "C:\\Users\\geoff.joe\\AppData\\Local\\Temp\\ipykernel_2512\\3722874349.py:1: DtypeWarning: Columns (9,11) have mixed types. Specify dtype option on import or set low_memory=False.\n",
      "  Top20 = pd.read_csv('Outputs/Top20Systems.csv', dtype={'billingprovidertaxid': str})\n"
     ]
    }
   ],
   "source": [
    "Top20 = pd.read_csv('Outputs/Top20Systems.csv', dtype={'billingprovidertaxid': str})\n",
    "ZipMSA = pd.read_csv('Data Sources/ZipMSA.txt', sep='\\t', dtype={'zipcode': str})\n",
    "\n",
    "# Top20\n"
   ],
   "metadata": {
    "collapsed": false,
    "ExecuteTime": {
     "end_time": "2024-06-18T22:52:34.969119800Z",
     "start_time": "2024-06-18T22:52:24.053724300Z"
    }
   },
   "id": "a0ce6a977caa1ab2"
  },
  {
   "cell_type": "code",
   "execution_count": 15,
   "outputs": [],
   "source": [
    "tins_list = Top20['billingprovidertaxid'].unique()\n",
    "tins_list = ', '.join(f\"'{tin}'\" for tin in tins_list)\n"
   ],
   "metadata": {
    "collapsed": false,
    "ExecuteTime": {
     "end_time": "2024-06-18T22:52:35.296458500Z",
     "start_time": "2024-06-18T22:52:34.947088700Z"
    }
   },
   "id": "b211307a8141de83"
  },
  {
   "cell_type": "markdown",
   "source": [
    "# Pull Claims Data"
   ],
   "metadata": {
    "collapsed": false
   },
   "id": "5808f96a6b3868bd"
  },
  {
   "cell_type": "code",
   "execution_count": 16,
   "outputs": [],
   "source": [
    "\n",
    "#     sSQL = f'''\n",
    "#         SELECT billingprovidername,\n",
    "#            billingprovidertaxid,\n",
    "#            billingprovidernpi,\n",
    "#            billingproviderid,\n",
    "#            billingproviderzip,\n",
    "# --           tenantid,\n",
    "# --           personid,\n",
    "#            tpaclaimid,\n",
    "#            dosstart,\n",
    "#            dosend,\n",
    "#            innetworkflag,\n",
    "#            proceduretype,\n",
    "#            procedurecode,\n",
    "#            procedurename,\n",
    "#            servicecategory_details,\n",
    "#            locationtype,\n",
    "#            facility_indicator,\n",
    "#            COUNT(CASE WHEN amtcovered > 0 THEN claimid END) as poscodecount,\n",
    "#            COUNT(CASE WHEN amtcovered < 0 THEN claimid END) as negcodecount,\n",
    "#            sum(amtbilled) as amtbilled,\n",
    "#            sum(amtcovered) as amtcovered,\n",
    "#            sum(amtallowed) as amtallowed\n",
    "#         FROM hive.bcbstx_nonev_prod.claims \n",
    "#         WHERE   dosplanyear = '2023'\n",
    "#         AND   locationtype = '22'\n",
    "#         AND innetworkflag = 1\n",
    "#         and proceduretype in ('CPT','HCPCS')\n",
    "#         and facility_indicator = 'Facility'\n",
    "#         and billingprovidertaxid in ({tins_list})\n",
    "#         group by 1,2,3,4,5,6,7,8,9,10,11,12,13,14,15\n",
    "#     '''.format(tins_list=tins_list)\n",
    "# \n",
    "#     df_claims = read_from_hive(sSQL)\n",
    "#     df_claims.to_csv(f'Data Sources/Claims_nonev_op.gz', index=False, compression='gzip')\n",
    "\n",
    "        \n",
    "    "
   ],
   "metadata": {
    "collapsed": false,
    "ExecuteTime": {
     "end_time": "2024-06-18T22:52:35.297458700Z",
     "start_time": "2024-06-18T22:52:35.117099Z"
    }
   },
   "id": "338a568d7f81689b"
  },
  {
   "cell_type": "markdown",
   "source": [
    "# Outpatient Facility"
   ],
   "metadata": {
    "collapsed": false
   },
   "id": "79eb074a841a34e7"
  },
  {
   "cell_type": "code",
   "execution_count": 17,
   "outputs": [],
   "source": [
    "df_claims = pd.read_csv('Data Sources/Claims_nonev_op.gz', compression='gzip', low_memory=False, dtype={'billingproviderzip': str,\n",
    "                                     'billingprovidertaxid': str,\n",
    "                                     'billingprovidernpi': str,\n",
    "                                     'locationtype': str,\n",
    "                                     'innetworkflag': str,\n",
    "                                     'tpaclaimid': str,\n",
    "                                     'procedurecode':str})"
   ],
   "metadata": {
    "collapsed": false,
    "ExecuteTime": {
     "end_time": "2024-06-18T22:53:17.870829400Z",
     "start_time": "2024-06-18T22:52:35.136082700Z"
    }
   },
   "id": "2016dd8d839053b2"
  },
  {
   "cell_type": "code",
   "execution_count": 18,
   "outputs": [
    {
     "name": "stderr",
     "output_type": "stream",
     "text": [
      "C:\\Users\\geoff.joe\\AppData\\Local\\Temp\\ipykernel_2512\\1854138433.py:4: SettingWithCopyWarning: \n",
      "A value is trying to be set on a copy of a slice from a DataFrame.\n",
      "Try using .loc[row_indexer,col_indexer] = value instead\n",
      "\n",
      "See the caveats in the documentation: https://pandas.pydata.org/pandas-docs/stable/user_guide/indexing.html#returning-a-view-versus-a-copy\n",
      "  df_claims_op.billingprovidertaxid = df_claims_op.billingprovidertaxid.fillna(0).apply( lambda x : 0 if x == '00000PROV' else x )\n",
      "C:\\Users\\geoff.joe\\AppData\\Local\\Temp\\ipykernel_2512\\1854138433.py:5: SettingWithCopyWarning: \n",
      "A value is trying to be set on a copy of a slice from a DataFrame.\n",
      "Try using .loc[row_indexer,col_indexer] = value instead\n",
      "\n",
      "See the caveats in the documentation: https://pandas.pydata.org/pandas-docs/stable/user_guide/indexing.html#returning-a-view-versus-a-copy\n",
      "  df_claims_op.billingprovidertaxid = df_claims_op.billingprovidertaxid.fillna(0).apply( lambda x : 0 if x == '' else int(x) )\n"
     ]
    },
    {
     "data": {
      "text/plain": "                                      billingprovidername  \\\n0        UNIVERSITY OF TEXAS M. D. ANDERSON CANCER CENTER   \n1        UNIVERSITY OF TEXAS M. D. ANDERSON CANCER CENTER   \n2        UNIVERSITY OF TEXAS M. D. ANDERSON CANCER CENTER   \n3        UNIVERSITY OF TEXAS M. D. ANDERSON CANCER CENTER   \n4       UNIVERSITY OF TEXAS SOUTHWESTERN MEDICAL CENTE...   \n...                                                   ...   \n176192                   TEXAS INSTITUTE FOR SURGERY, LLP   \n176193                              NORTH TEXAS - MCA LLC   \n176194                   TEXAS INSTITUTE FOR SURGERY, LLP   \n176195     COLUMBIA MEDICAL CENTER OF PLANO SUBSIDIARY LP   \n176196                         TEXAS HEALTH HUGULEY, INC.   \n\n       billingprovidertaxid billingprovidernpi locationtype  \\\n0                 746001118         1174582050           22   \n1                 746001118         1174582050           22   \n2                 746001118         1174582050           22   \n3                 746001118         1174582050           22   \n4                 753175630         1285798918           22   \n...                     ...                ...          ...   \n176192            770628004         1245201656           22   \n176193            464027347         1871911016           22   \n176194            770628004         1245201656           22   \n176195            621682203         1699726406           22   \n176196            452694620         1033120423           22   \n\n       facility_indicator                             cbsa_name proceduretype  \\\n0                Facility  Houston-The Woodlands-Sugar Land, TX         HCPCS   \n1                Facility  Houston-The Woodlands-Sugar Land, TX           CPT   \n2                Facility  Houston-The Woodlands-Sugar Land, TX         HCPCS   \n3                Facility  Houston-The Woodlands-Sugar Land, TX           CPT   \n4                Facility       Dallas-Fort Worth-Arlington, TX         HCPCS   \n...                   ...                                   ...           ...   \n176192           Facility       Dallas-Fort Worth-Arlington, TX           CPT   \n176193           Facility       Dallas-Fort Worth-Arlington, TX         HCPCS   \n176194           Facility       Dallas-Fort Worth-Arlington, TX           CPT   \n176195           Facility       Dallas-Fort Worth-Arlington, TX         HCPCS   \n176196           Facility       Dallas-Fort Worth-Arlington, TX         HCPCS   \n\n       procedurecode                 procedurename  claimcount   amtcovered  \\\n0              J9271             INJ PEMBROLIZUMAB        1335  55318322.30   \n1              74177      CT ABD & PELV W/CONTRAST        5781  36428195.00   \n2              J9299          INJECTION, NIVOLUMAB         796  27544533.50   \n3              71260               CT THORAX DX C+        7581  25960669.00   \n4              J9271             INJ PEMBROLIZUMAB         409  22541488.20   \n...              ...                           ...         ...          ...   \n176192         27659     REPAIR OF LEG TENDON EACH           1         0.01   \n176193         G1003                CDSM MEDICALIS           5         0.03   \n176194         22845  INSERT SPINE FIXATION DEVICE           6         0.05   \n176195         G1003                CDSM MEDICALIS          10         0.02   \n176196         A9500               TC99M SESTAMIBI           4         0.04   \n\n         amtallowed  codecount                          IDN  rank  \n0       37911209.13       1327  University of Texas Systems     4  \n1       25555411.49       5651  University of Texas Systems     4  \n2       19179952.37        976  University of Texas Systems     4  \n3       18124793.27       7441  University of Texas Systems     4  \n4       13901223.73        487       Texas Health Resources     3  \n...             ...        ...                          ...   ...  \n176192         0.01          1       Texas Health Resources     3  \n176193         0.01          2               HCA Healthcare     1  \n176194         0.01          5       Texas Health Resources     3  \n176195         0.01          1               HCA Healthcare     1  \n176196         0.01          4       Texas Health Resources     3  \n\n[176197 rows x 15 columns]",
      "text/html": "<div>\n<style scoped>\n    .dataframe tbody tr th:only-of-type {\n        vertical-align: middle;\n    }\n\n    .dataframe tbody tr th {\n        vertical-align: top;\n    }\n\n    .dataframe thead th {\n        text-align: right;\n    }\n</style>\n<table border=\"1\" class=\"dataframe\">\n  <thead>\n    <tr style=\"text-align: right;\">\n      <th></th>\n      <th>billingprovidername</th>\n      <th>billingprovidertaxid</th>\n      <th>billingprovidernpi</th>\n      <th>locationtype</th>\n      <th>facility_indicator</th>\n      <th>cbsa_name</th>\n      <th>proceduretype</th>\n      <th>procedurecode</th>\n      <th>procedurename</th>\n      <th>claimcount</th>\n      <th>amtcovered</th>\n      <th>amtallowed</th>\n      <th>codecount</th>\n      <th>IDN</th>\n      <th>rank</th>\n    </tr>\n  </thead>\n  <tbody>\n    <tr>\n      <th>0</th>\n      <td>UNIVERSITY OF TEXAS M. D. ANDERSON CANCER CENTER</td>\n      <td>746001118</td>\n      <td>1174582050</td>\n      <td>22</td>\n      <td>Facility</td>\n      <td>Houston-The Woodlands-Sugar Land, TX</td>\n      <td>HCPCS</td>\n      <td>J9271</td>\n      <td>INJ PEMBROLIZUMAB</td>\n      <td>1335</td>\n      <td>55318322.30</td>\n      <td>37911209.13</td>\n      <td>1327</td>\n      <td>University of Texas Systems</td>\n      <td>4</td>\n    </tr>\n    <tr>\n      <th>1</th>\n      <td>UNIVERSITY OF TEXAS M. D. ANDERSON CANCER CENTER</td>\n      <td>746001118</td>\n      <td>1174582050</td>\n      <td>22</td>\n      <td>Facility</td>\n      <td>Houston-The Woodlands-Sugar Land, TX</td>\n      <td>CPT</td>\n      <td>74177</td>\n      <td>CT ABD &amp; PELV W/CONTRAST</td>\n      <td>5781</td>\n      <td>36428195.00</td>\n      <td>25555411.49</td>\n      <td>5651</td>\n      <td>University of Texas Systems</td>\n      <td>4</td>\n    </tr>\n    <tr>\n      <th>2</th>\n      <td>UNIVERSITY OF TEXAS M. D. ANDERSON CANCER CENTER</td>\n      <td>746001118</td>\n      <td>1174582050</td>\n      <td>22</td>\n      <td>Facility</td>\n      <td>Houston-The Woodlands-Sugar Land, TX</td>\n      <td>HCPCS</td>\n      <td>J9299</td>\n      <td>INJECTION, NIVOLUMAB</td>\n      <td>796</td>\n      <td>27544533.50</td>\n      <td>19179952.37</td>\n      <td>976</td>\n      <td>University of Texas Systems</td>\n      <td>4</td>\n    </tr>\n    <tr>\n      <th>3</th>\n      <td>UNIVERSITY OF TEXAS M. D. ANDERSON CANCER CENTER</td>\n      <td>746001118</td>\n      <td>1174582050</td>\n      <td>22</td>\n      <td>Facility</td>\n      <td>Houston-The Woodlands-Sugar Land, TX</td>\n      <td>CPT</td>\n      <td>71260</td>\n      <td>CT THORAX DX C+</td>\n      <td>7581</td>\n      <td>25960669.00</td>\n      <td>18124793.27</td>\n      <td>7441</td>\n      <td>University of Texas Systems</td>\n      <td>4</td>\n    </tr>\n    <tr>\n      <th>4</th>\n      <td>UNIVERSITY OF TEXAS SOUTHWESTERN MEDICAL CENTE...</td>\n      <td>753175630</td>\n      <td>1285798918</td>\n      <td>22</td>\n      <td>Facility</td>\n      <td>Dallas-Fort Worth-Arlington, TX</td>\n      <td>HCPCS</td>\n      <td>J9271</td>\n      <td>INJ PEMBROLIZUMAB</td>\n      <td>409</td>\n      <td>22541488.20</td>\n      <td>13901223.73</td>\n      <td>487</td>\n      <td>Texas Health Resources</td>\n      <td>3</td>\n    </tr>\n    <tr>\n      <th>...</th>\n      <td>...</td>\n      <td>...</td>\n      <td>...</td>\n      <td>...</td>\n      <td>...</td>\n      <td>...</td>\n      <td>...</td>\n      <td>...</td>\n      <td>...</td>\n      <td>...</td>\n      <td>...</td>\n      <td>...</td>\n      <td>...</td>\n      <td>...</td>\n      <td>...</td>\n    </tr>\n    <tr>\n      <th>176192</th>\n      <td>TEXAS INSTITUTE FOR SURGERY, LLP</td>\n      <td>770628004</td>\n      <td>1245201656</td>\n      <td>22</td>\n      <td>Facility</td>\n      <td>Dallas-Fort Worth-Arlington, TX</td>\n      <td>CPT</td>\n      <td>27659</td>\n      <td>REPAIR OF LEG TENDON EACH</td>\n      <td>1</td>\n      <td>0.01</td>\n      <td>0.01</td>\n      <td>1</td>\n      <td>Texas Health Resources</td>\n      <td>3</td>\n    </tr>\n    <tr>\n      <th>176193</th>\n      <td>NORTH TEXAS - MCA LLC</td>\n      <td>464027347</td>\n      <td>1871911016</td>\n      <td>22</td>\n      <td>Facility</td>\n      <td>Dallas-Fort Worth-Arlington, TX</td>\n      <td>HCPCS</td>\n      <td>G1003</td>\n      <td>CDSM MEDICALIS</td>\n      <td>5</td>\n      <td>0.03</td>\n      <td>0.01</td>\n      <td>2</td>\n      <td>HCA Healthcare</td>\n      <td>1</td>\n    </tr>\n    <tr>\n      <th>176194</th>\n      <td>TEXAS INSTITUTE FOR SURGERY, LLP</td>\n      <td>770628004</td>\n      <td>1245201656</td>\n      <td>22</td>\n      <td>Facility</td>\n      <td>Dallas-Fort Worth-Arlington, TX</td>\n      <td>CPT</td>\n      <td>22845</td>\n      <td>INSERT SPINE FIXATION DEVICE</td>\n      <td>6</td>\n      <td>0.05</td>\n      <td>0.01</td>\n      <td>5</td>\n      <td>Texas Health Resources</td>\n      <td>3</td>\n    </tr>\n    <tr>\n      <th>176195</th>\n      <td>COLUMBIA MEDICAL CENTER OF PLANO SUBSIDIARY LP</td>\n      <td>621682203</td>\n      <td>1699726406</td>\n      <td>22</td>\n      <td>Facility</td>\n      <td>Dallas-Fort Worth-Arlington, TX</td>\n      <td>HCPCS</td>\n      <td>G1003</td>\n      <td>CDSM MEDICALIS</td>\n      <td>10</td>\n      <td>0.02</td>\n      <td>0.01</td>\n      <td>1</td>\n      <td>HCA Healthcare</td>\n      <td>1</td>\n    </tr>\n    <tr>\n      <th>176196</th>\n      <td>TEXAS HEALTH HUGULEY, INC.</td>\n      <td>452694620</td>\n      <td>1033120423</td>\n      <td>22</td>\n      <td>Facility</td>\n      <td>Dallas-Fort Worth-Arlington, TX</td>\n      <td>HCPCS</td>\n      <td>A9500</td>\n      <td>TC99M SESTAMIBI</td>\n      <td>4</td>\n      <td>0.04</td>\n      <td>0.01</td>\n      <td>4</td>\n      <td>Texas Health Resources</td>\n      <td>3</td>\n    </tr>\n  </tbody>\n</table>\n<p>176197 rows × 15 columns</p>\n</div>"
     },
     "execution_count": 18,
     "metadata": {},
     "output_type": "execute_result"
    }
   ],
   "source": [
    "df_claims = df_claims.merge(ZipMSA[['zipcode', 'state', 'cbsa_name']], left_on='billingproviderzip', right_on='zipcode', how='left')\n",
    "\n",
    "df_claims_op = df_claims[df_claims.state == 'TX']\n",
    "df_claims_op.billingprovidertaxid = df_claims_op.billingprovidertaxid.fillna(0).apply( lambda x : 0 if x == '00000PROV' else x )\n",
    "df_claims_op.billingprovidertaxid = df_claims_op.billingprovidertaxid.fillna(0).apply( lambda x : 0 if x == '' else int(x) )\n",
    "\n",
    "# Filter and convert data type\n",
    "df_claims_op = df_claims_op[(df_claims_op.billingprovidertaxid != 0) & (df_claims_op.billingprovidertaxid != 111111111) & (df_claims_op.billingprovidertaxid != 999999999)]\n",
    "df_claims_op = df_claims_op.astype({'billingprovidertaxid': str})\n",
    "\n",
    "\n",
    "df_covered = df_claims_op.groupby(['tpaclaimid']).agg({'amtcovered': 'sum'})\n",
    "df_covered = df_covered[df_covered.amtcovered > 0]\n",
    "df_claims_op = df_claims_op[df_claims_op.tpaclaimid.isin(df_covered.index)]\n",
    "\n",
    "# Group and aggregate\n",
    "df_claims_op['codecount'] = df_claims_op['poscodecount'] - df_claims_op['negcodecount']\n",
    "df_claims_op = df_claims_op.groupby(['billingprovidername', 'billingprovidertaxid','billingprovidernpi', 'locationtype', 'facility_indicator', 'cbsa_name', 'proceduretype', 'procedurecode', 'procedurename']).agg({'tpaclaimid': 'nunique', 'amtcovered':'sum', 'amtallowed': 'sum', 'codecount':'sum'}).reset_index()\n",
    "df_claims_op = df_claims_op.rename(columns={'tpaclaimid': 'claimcount'})\n",
    "\n",
    "\n",
    "# Sort, merge and query\n",
    "df_claims_op = df_claims_op.sort_values('amtallowed', ascending = False)\n",
    "df_claims_op = df_claims_op.merge(Top20[['IDN', 'rank', 'billingprovidertaxid']].drop_duplicates(), on='billingprovidertaxid', how='left')\n",
    "\n",
    "df_claims_op = df_claims_op[df_claims_op['amtallowed'] > 0]\n",
    "\n",
    "\n",
    "# df_claims_op = df_claims_op[df_claims_op['rank'] == 3]\n",
    "df_claims_op\n"
   ],
   "metadata": {
    "collapsed": false,
    "ExecuteTime": {
     "end_time": "2024-06-18T22:53:57.157054400Z",
     "start_time": "2024-06-18T22:53:17.865893300Z"
    }
   },
   "id": "9595ad5185f9d561"
  },
  {
   "cell_type": "code",
   "execution_count": 19,
   "outputs": [],
   "source": [
    "del df_claims"
   ],
   "metadata": {
    "collapsed": false,
    "ExecuteTime": {
     "end_time": "2024-06-18T22:53:57.398029800Z",
     "start_time": "2024-06-18T22:53:57.154122200Z"
    }
   },
   "id": "d233c362e66dbb64"
  },
  {
   "cell_type": "code",
   "execution_count": 20,
   "outputs": [],
   "source": [
    "tins_list = df_claims_op['billingprovidertaxid'].unique()\n",
    "tins_list = ', '.join(f\"'{tin}'\" for tin in tins_list)\n",
    "\n",
    "npi_list = df_claims_op['billingprovidernpi'].unique()\n",
    "npi_list = ', '.join(f\"'{npi}'\" for npi in npi_list)"
   ],
   "metadata": {
    "collapsed": false,
    "ExecuteTime": {
     "end_time": "2024-06-18T22:53:57.430037300Z",
     "start_time": "2024-06-18T22:53:57.387030200Z"
    }
   },
   "id": "c11f5184a125abcb"
  },
  {
   "cell_type": "markdown",
   "source": [
    "### MRF Search Stage Rates"
   ],
   "metadata": {
    "collapsed": false
   },
   "id": "2360351e702c694e"
  },
  {
   "cell_type": "code",
   "execution_count": 21,
   "outputs": [],
   "source": [
    "# sSQL = '''\n",
    "# SELECT *\n",
    "# FROM \t\t\n",
    "# hive.mrf.mrf_search_stage\t\n",
    "# WHERE \t\t\n",
    "# plan_group_alias in ('bcbs_tx_ppo','uhc_choice_plus', 'aetna_open_access_managed', 'cigna_national_oap')\n",
    "# and taxid in ({tins})\n",
    "# and npi in ({npi})\n",
    "# and billing_code_type = 'CPT'\n",
    "# and billing_class = 'institutional'\n",
    "# '''.format(tins=tins_list, npi=npi_list)\n",
    "# \n",
    "# \n",
    "# mrf_search_stage = read_from_hive(sSQL)\n",
    "# \n",
    "# del sSQL\n",
    "# \n",
    "# mrf_search_stage.to_csv('search_stage_op.gz',index=False, compression='gzip')"
   ],
   "metadata": {
    "collapsed": false,
    "ExecuteTime": {
     "end_time": "2024-06-18T22:53:57.430037300Z",
     "start_time": "2024-06-18T22:53:57.403031400Z"
    }
   },
   "id": "9cbe82c1f5d0a888"
  },
  {
   "cell_type": "markdown",
   "source": [
    "### INN Provider Rates"
   ],
   "metadata": {
    "collapsed": false
   },
   "id": "e9b886f6767dfe5e"
  },
  {
   "cell_type": "code",
   "execution_count": 22,
   "outputs": [],
   "source": [
    "# sSQL = '''\n",
    "# SELECT\n",
    "#     npi,\n",
    "#     tin_value as taxid, \n",
    "#     r.plan_group_alias,\t\n",
    "#     billing_code,\n",
    "#     billing_code_type,\n",
    "#     negotiated_type,\n",
    "# \tnegotiated_rate as negotiated_rate_cal   \t\t\t\t\n",
    "# \n",
    "# FROM \t\t\t\t\n",
    "# \tmrf.mrf_in_network_rates r \t\t\t\n",
    "# JOIN\t\t\t\t\n",
    "# \t(\t\t\t\n",
    "# \t\tSELECT\t\t\n",
    "# \t\t\t tin_value,\n",
    "# \t\t\t npi,\t\n",
    "# \t\t\t group_id,\t\n",
    "# \t\t\t plan_group_alias\t\n",
    "# \t\t FROM \t\t\n",
    "# \t\t\t mrf.mrf_provider_references\t\n",
    "# \t\t WHERE \t\t\n",
    "# \t\t\t plan_group_alias in ('bcbs_tx_ppo', 'uhc_choice_plus','aetna_open_access_managed', 'cigna_national_oap')\t -- uhc_option_ppo\n",
    "# \t\t\t and tin_value in ({tins})\n",
    "# \t\t\t and npi in ({npi})\n",
    "# \t\t GROUP BY\t\t\n",
    "# \t\t\t 1,2,3,4\t\n",
    "# \t) n\t\t\t\n",
    "# ON \t\t\t\t\n",
    "# \tn.group_id = r.provider_reference\t\t\t\n",
    "# \t and n.plan_group_alias = r.plan_group_alias\t\t\t\n",
    "# WHERE\t\t\t\t\n",
    "# \t r.plan_group_alias in ('bcbs_tx_ppo', 'uhc_choice_plus','aetna_open_access_managed', 'cigna_national_oap')\t\t\n",
    "#  --    and negotiated_type in ('percentage','per diem')\n",
    "#      and billing_code_type in ('CPT', 'HCPCS')\n",
    "# \t and negotiated_rate <> 0\n",
    "#      and billing_class = 'institutional'\n",
    "# --Group by 1,2,3,4,5,6\n",
    "# order by 1, 2, 3\n",
    "# '''.format(tins=tins_list, npi=npi_list)\n",
    "# \n",
    "# df_in_network = read_from_hive(sSQL) \n",
    "# del sSQL\n",
    "# \n",
    "# df_in_network.to_csv('in_network_rates_op.gz',index=False, compression='gzip')"
   ],
   "metadata": {
    "collapsed": false,
    "ExecuteTime": {
     "end_time": "2024-06-18T22:53:57.462065400Z",
     "start_time": "2024-06-18T22:53:57.420030400Z"
    }
   },
   "id": "656b5d0b84d449e1"
  },
  {
   "cell_type": "markdown",
   "source": [
    "### CSTM All"
   ],
   "metadata": {
    "collapsed": false
   },
   "id": "aaf7f96209b8e169"
  },
  {
   "cell_type": "code",
   "execution_count": 25,
   "outputs": [],
   "source": [
    "sSQL = '''\n",
    "SELECT\n",
    "    npi,\n",
    "    tin_value as taxid, \n",
    "    r.plan_group_alias,\t\n",
    "    billing_code,\n",
    "    billing_code_type,\n",
    "    negotiated_type,\n",
    "\tnegotiated_rate as negotiated_rate_cal,\n",
    "\tadditional_information\t\t\t\n",
    "\n",
    "FROM \t\t\t\t\n",
    "\tmrf.mrf_in_network_rates r \t\t\t\n",
    "JOIN\t\t\t\t\n",
    "\t(\t\t\t\n",
    "\t\tSELECT\t\t\n",
    "\t\t\t tin_value,\n",
    "\t\t\t npi,\t\n",
    "\t\t\t group_id,\t\n",
    "\t\t\t plan_group_alias\t\n",
    "\t\t FROM \t\t\n",
    "\t\t\t mrf.mrf_provider_references\t\n",
    "\t\t WHERE \t\t\n",
    "\t\t\t plan_group_alias in ('bcbs_tx_ppo', 'uhc_choice_plus','aetna_open_access_managed', 'cigna_national_oap')\t -- uhc_option_ppo\n",
    "\t\t\t and tin_value in ({tins})\n",
    "\t\t\t and npi in ({npi})\n",
    "\t\t GROUP BY\t\t\n",
    "\t\t\t 1,2,3,4\t\n",
    "\t) n\t\t\t\n",
    "ON \t\t\t\t\n",
    "\tn.group_id = r.provider_reference\t\t\t\n",
    "\t and n.plan_group_alias = r.plan_group_alias\t\t\t\n",
    "WHERE\t\t\t\t\n",
    "\t r.plan_group_alias in ('bcbs_tx_ppo', 'uhc_choice_plus','aetna_open_access_managed', 'cigna_national_oap')\t\t\n",
    " --    and negotiated_type in ('percentage','per diem')\n",
    "     and billing_code_type = 'CSTM-ALL'\n",
    "\t and negotiated_rate <> 0\n",
    "     and billing_class = 'institutional'\n",
    "--Group by 1,2,3,4,5,6\n",
    "order by 1, 2, 3\n",
    "'''.format(tins=tins_list, npi=npi_list)\n",
    "\n",
    "df_in_network = read_from_hive(sSQL) \n",
    "del sSQL\n",
    "\n",
    "df_in_network.to_csv('in_network_rates_cstm_op.gz',index=False, compression='gzip')"
   ],
   "metadata": {
    "collapsed": false,
    "ExecuteTime": {
     "end_time": "2024-06-18T22:55:56.416960500Z",
     "start_time": "2024-06-18T22:55:38.223573600Z"
    }
   },
   "id": "400f51aa81a42655"
  },
  {
   "cell_type": "markdown",
   "source": [
    "### Outlier Data"
   ],
   "metadata": {
    "collapsed": false
   },
   "id": "abdf5bd9db71ba77"
  },
  {
   "cell_type": "code",
   "execution_count": 12,
   "outputs": [],
   "source": [
    "# sSQL = '''\n",
    "# SELECT *\n",
    "# FROM \t\t\n",
    "# hive.mrf.outlier_result\n",
    "# WHERE \t\t\n",
    "# providerstate = 'TX'\n",
    "# and billing_class = 'institutional'\n",
    "# \n",
    "# '''\n",
    "# \n",
    "# \n",
    "# outlier_rates = read_from_hive(sSQL)\n",
    "# \n",
    "# del sSQL\n",
    "# \n",
    "# outlier_rates.to_csv('outlier_result.gz',index=False, compression='gzip')"
   ],
   "metadata": {
    "collapsed": false,
    "ExecuteTime": {
     "end_time": "2024-06-18T21:28:32.083757100Z",
     "start_time": "2024-06-18T21:28:32.002314Z"
    }
   },
   "id": "2b0c310855fd7a4c"
  },
  {
   "cell_type": "code",
   "execution_count": 236,
   "outputs": [
    {
     "data": {
      "text/plain": "                npi      taxid    plan_group_alias billing_code  \\\n0        1003344334  813935393         bcbs_tx_ppo        0001U   \n1        1003344334  813935393  cigna_national_oap        0001U   \n2        1003344334  813935393         bcbs_tx_ppo        0003M   \n3        1003344334  813935393  cigna_national_oap        0003M   \n4        1003344334  813935393  cigna_national_oap        0007U   \n...             ...        ...                 ...          ...   \n2407597  1992707228  752559845         bcbs_tx_ppo        99489   \n2407598  1992707228  752559845         bcbs_tx_ppo        99490   \n2407600  1992707228  752559845         bcbs_tx_ppo        99496   \n2407602  1992707228  752559845         bcbs_tx_ppo        99498   \n2407603  1992707228  752559845         bcbs_tx_ppo        99512   \n\n        billing_code_type negotiated_type  negotiated_rate_cal  \\\n0                     CPT      negotiated               698.40   \n1                     CPT    fee schedule               477.36   \n2                     CPT      negotiated               488.30   \n3                     CPT    fee schedule               331.19   \n4                     CPT    fee schedule                76.25   \n...                   ...             ...                  ...   \n2407597               CPT      negotiated               131.22   \n2407598               CPT      negotiated               159.60   \n2407600               CPT      negotiated               570.38   \n2407602               CPT      negotiated               372.35   \n2407603               CPT      negotiated               235.82   \n\n                   source  \n0        mrf_search_stage  \n1        mrf_search_stage  \n2        mrf_search_stage  \n3        mrf_search_stage  \n4        mrf_search_stage  \n...                   ...  \n2407597  mrf_search_stage  \n2407598  mrf_search_stage  \n2407600  mrf_search_stage  \n2407602  mrf_search_stage  \n2407603  mrf_search_stage  \n\n[2309968 rows x 8 columns]",
      "text/html": "<div>\n<style scoped>\n    .dataframe tbody tr th:only-of-type {\n        vertical-align: middle;\n    }\n\n    .dataframe tbody tr th {\n        vertical-align: top;\n    }\n\n    .dataframe thead th {\n        text-align: right;\n    }\n</style>\n<table border=\"1\" class=\"dataframe\">\n  <thead>\n    <tr style=\"text-align: right;\">\n      <th></th>\n      <th>npi</th>\n      <th>taxid</th>\n      <th>plan_group_alias</th>\n      <th>billing_code</th>\n      <th>billing_code_type</th>\n      <th>negotiated_type</th>\n      <th>negotiated_rate_cal</th>\n      <th>source</th>\n    </tr>\n  </thead>\n  <tbody>\n    <tr>\n      <th>0</th>\n      <td>1003344334</td>\n      <td>813935393</td>\n      <td>bcbs_tx_ppo</td>\n      <td>0001U</td>\n      <td>CPT</td>\n      <td>negotiated</td>\n      <td>698.40</td>\n      <td>mrf_search_stage</td>\n    </tr>\n    <tr>\n      <th>1</th>\n      <td>1003344334</td>\n      <td>813935393</td>\n      <td>cigna_national_oap</td>\n      <td>0001U</td>\n      <td>CPT</td>\n      <td>fee schedule</td>\n      <td>477.36</td>\n      <td>mrf_search_stage</td>\n    </tr>\n    <tr>\n      <th>2</th>\n      <td>1003344334</td>\n      <td>813935393</td>\n      <td>bcbs_tx_ppo</td>\n      <td>0003M</td>\n      <td>CPT</td>\n      <td>negotiated</td>\n      <td>488.30</td>\n      <td>mrf_search_stage</td>\n    </tr>\n    <tr>\n      <th>3</th>\n      <td>1003344334</td>\n      <td>813935393</td>\n      <td>cigna_national_oap</td>\n      <td>0003M</td>\n      <td>CPT</td>\n      <td>fee schedule</td>\n      <td>331.19</td>\n      <td>mrf_search_stage</td>\n    </tr>\n    <tr>\n      <th>4</th>\n      <td>1003344334</td>\n      <td>813935393</td>\n      <td>cigna_national_oap</td>\n      <td>0007U</td>\n      <td>CPT</td>\n      <td>fee schedule</td>\n      <td>76.25</td>\n      <td>mrf_search_stage</td>\n    </tr>\n    <tr>\n      <th>...</th>\n      <td>...</td>\n      <td>...</td>\n      <td>...</td>\n      <td>...</td>\n      <td>...</td>\n      <td>...</td>\n      <td>...</td>\n      <td>...</td>\n    </tr>\n    <tr>\n      <th>2407597</th>\n      <td>1992707228</td>\n      <td>752559845</td>\n      <td>bcbs_tx_ppo</td>\n      <td>99489</td>\n      <td>CPT</td>\n      <td>negotiated</td>\n      <td>131.22</td>\n      <td>mrf_search_stage</td>\n    </tr>\n    <tr>\n      <th>2407598</th>\n      <td>1992707228</td>\n      <td>752559845</td>\n      <td>bcbs_tx_ppo</td>\n      <td>99490</td>\n      <td>CPT</td>\n      <td>negotiated</td>\n      <td>159.60</td>\n      <td>mrf_search_stage</td>\n    </tr>\n    <tr>\n      <th>2407600</th>\n      <td>1992707228</td>\n      <td>752559845</td>\n      <td>bcbs_tx_ppo</td>\n      <td>99496</td>\n      <td>CPT</td>\n      <td>negotiated</td>\n      <td>570.38</td>\n      <td>mrf_search_stage</td>\n    </tr>\n    <tr>\n      <th>2407602</th>\n      <td>1992707228</td>\n      <td>752559845</td>\n      <td>bcbs_tx_ppo</td>\n      <td>99498</td>\n      <td>CPT</td>\n      <td>negotiated</td>\n      <td>372.35</td>\n      <td>mrf_search_stage</td>\n    </tr>\n    <tr>\n      <th>2407603</th>\n      <td>1992707228</td>\n      <td>752559845</td>\n      <td>bcbs_tx_ppo</td>\n      <td>99512</td>\n      <td>CPT</td>\n      <td>negotiated</td>\n      <td>235.82</td>\n      <td>mrf_search_stage</td>\n    </tr>\n  </tbody>\n</table>\n<p>2309968 rows × 8 columns</p>\n</div>"
     },
     "execution_count": 236,
     "metadata": {},
     "output_type": "execute_result"
    }
   ],
   "source": [
    "mrf_search_stage = pd.read_csv('search_stage_op.gz', compression='gzip', low_memory=False, dtype={'taxid': str, 'npi': str, 'billing_code': str})\n",
    "mrf_search_stage = mrf_search_stage[['npi','taxid', 'plan_group_alias', 'billing_code', 'billing_code_type','negotiated_type', 'negotiated_rate_cal', 'processing_information']]\n",
    "mrf_search_stage.fillna('None', inplace=True)\n",
    "\n",
    "# Define a custom sort order\n",
    "sort_order = {'None': 1, 'Expanded From CSTM-ALL': 2}\n",
    "\n",
    "# Create a new column 'sort_order' based on the 'negotiated_type' column\n",
    "mrf_search_stage['sort_order'] = mrf_search_stage['processing_information'].map(sort_order)\n",
    "mrf_search_stage.sort_values(by=['npi','taxid','billing_code','billing_code_type', 'plan_group_alias', 'sort_order' ], inplace=True)\n",
    "\n",
    "\n",
    "# Find duplicates\n",
    "duplicates = mrf_search_stage.duplicated(subset=['npi', 'taxid', 'plan_group_alias', 'billing_code', 'billing_code_type'], keep='first')\n",
    "\n",
    "# Keep only non-duplicates\n",
    "mrf_search_stage = mrf_search_stage[~duplicates]\n",
    "\n",
    "# Drop the 'sort_order' column as it's no longer needed\n",
    "mrf_search_stage = mrf_search_stage.drop(columns=['processing_information', 'sort_order'])\n",
    "\n",
    "outlier_rates = pd.read_csv('outlier_result.gz', compression='gzip', low_memory=False, dtype={'billing_code': str})\n",
    "removed_outliers = ['80053','99284', 'J9271']\n",
    "outlier_rates = outlier_rates[~outlier_rates['billing_code'].isin(removed_outliers)]\n",
    "outlier_rates = outlier_rates[['billing_code_type', 'billing_code', 'negotiated_type', 'rec_lb_outlier', 'rec_ub_outlier']].drop_duplicates()\n",
    "mrf_search_stage = mrf_search_stage.merge(outlier_rates, on=['billing_code', 'billing_code_type', 'negotiated_type'], how='left')\n",
    "mrf_search_stage.rename(columns={'negotiated_rate':'negotiated_rate_cal'}, inplace=True)\n",
    "\n",
    "def remove_outliers(row, column):\n",
    "    if row['rec_ub_outlier'] < row[column] and row['negotiated_type'] != 'percentage':\n",
    "        return 0\n",
    "    elif row['rec_lb_outlier'] > row[column] and row['negotiated_type'] != 'percentage':\n",
    "        return 0\n",
    "    else:\n",
    "        return row[column]\n",
    "\n",
    "columns_to_update = ['negotiated_rate_cal']\n",
    "\n",
    "for column in columns_to_update:\n",
    "    mrf_search_stage[column] = mrf_search_stage.apply(remove_outliers, args=(column,), axis=1)\n",
    "\n",
    "mrf_search_stage = mrf_search_stage[mrf_search_stage['negotiated_rate_cal'] != 0]\n",
    "mrf_search_stage.drop(columns=['rec_lb_outlier', 'rec_ub_outlier'], inplace=True)\n",
    "\n",
    "mrf_search_stage['source'] = 'mrf_search_stage'\n",
    "\n",
    "# mrf_search_stage = mrf_search_stage[mrf_search_stage['billing_code'] == '80053']\n",
    "# mrf_search_stage = mrf_search_stage[mrf_search_stage['taxid'] == '742730328']\n",
    "mrf_search_stage\n"
   ],
   "metadata": {
    "collapsed": false,
    "ExecuteTime": {
     "end_time": "2024-06-20T17:12:14.613720100Z",
     "start_time": "2024-06-20T17:11:38.954690900Z"
    }
   },
   "id": "e69e27a316878daf"
  },
  {
   "cell_type": "code",
   "execution_count": 237,
   "outputs": [],
   "source": [
    "inn_rates = pd.read_csv('in_network_rates_op.gz', compression='gzip', low_memory=False, dtype={'taxid': str, 'npi': str, 'billing_code': str})\n",
    "\n",
    "inn_rates = inn_rates.merge(outlier_rates, on=['billing_code', 'billing_code_type', 'negotiated_type'], how='left')\n",
    "\n",
    "\n",
    "for column in columns_to_update:\n",
    "    inn_rates[column] = inn_rates.apply(remove_outliers, args=(column,), axis=1)\n",
    "\n",
    "inn_rates = inn_rates[inn_rates['negotiated_rate_cal'] != 0]\n",
    "inn_rates.drop(columns=['rec_lb_outlier', 'rec_ub_outlier'], inplace=True)\n",
    "\n",
    "inn_rates['source'] = 'mrf_in_network_rates'"
   ],
   "metadata": {
    "collapsed": false,
    "ExecuteTime": {
     "end_time": "2024-06-20T17:15:05.019103900Z",
     "start_time": "2024-06-20T17:12:14.615710400Z"
    }
   },
   "id": "d38dc49472169b12"
  },
  {
   "cell_type": "code",
   "execution_count": 238,
   "outputs": [
    {
     "data": {
      "text/plain": "            npi      taxid negotiated_type_cstm  cigna_national_oap_cstm  \\\n0    1003344334  813935393           percentage                   37.360   \n1    1003883158  432008974           percentage                   65.275   \n2    1003885641  741109836           percentage                   53.720   \n3    1013085083  202850920           percentage                   75.000   \n4    1023065794  621810381           percentage                   28.200   \n..          ...        ...                  ...                      ...   \n208  1972709970  954537720           percentage                   39.625   \n209  1982609558  481260190           percentage                   58.000   \n210  1982666111  741152597           percentage                   52.140   \n211  1992700983  752586857           percentage                   58.000   \n212  1992707228  752559845           percentage                   72.000   \n\n         source  \n0    cstm_rates  \n1    cstm_rates  \n2    cstm_rates  \n3    cstm_rates  \n4    cstm_rates  \n..          ...  \n208  cstm_rates  \n209  cstm_rates  \n210  cstm_rates  \n211  cstm_rates  \n212  cstm_rates  \n\n[213 rows x 5 columns]",
      "text/html": "<div>\n<style scoped>\n    .dataframe tbody tr th:only-of-type {\n        vertical-align: middle;\n    }\n\n    .dataframe tbody tr th {\n        vertical-align: top;\n    }\n\n    .dataframe thead th {\n        text-align: right;\n    }\n</style>\n<table border=\"1\" class=\"dataframe\">\n  <thead>\n    <tr style=\"text-align: right;\">\n      <th></th>\n      <th>npi</th>\n      <th>taxid</th>\n      <th>negotiated_type_cstm</th>\n      <th>cigna_national_oap_cstm</th>\n      <th>source</th>\n    </tr>\n  </thead>\n  <tbody>\n    <tr>\n      <th>0</th>\n      <td>1003344334</td>\n      <td>813935393</td>\n      <td>percentage</td>\n      <td>37.360</td>\n      <td>cstm_rates</td>\n    </tr>\n    <tr>\n      <th>1</th>\n      <td>1003883158</td>\n      <td>432008974</td>\n      <td>percentage</td>\n      <td>65.275</td>\n      <td>cstm_rates</td>\n    </tr>\n    <tr>\n      <th>2</th>\n      <td>1003885641</td>\n      <td>741109836</td>\n      <td>percentage</td>\n      <td>53.720</td>\n      <td>cstm_rates</td>\n    </tr>\n    <tr>\n      <th>3</th>\n      <td>1013085083</td>\n      <td>202850920</td>\n      <td>percentage</td>\n      <td>75.000</td>\n      <td>cstm_rates</td>\n    </tr>\n    <tr>\n      <th>4</th>\n      <td>1023065794</td>\n      <td>621810381</td>\n      <td>percentage</td>\n      <td>28.200</td>\n      <td>cstm_rates</td>\n    </tr>\n    <tr>\n      <th>...</th>\n      <td>...</td>\n      <td>...</td>\n      <td>...</td>\n      <td>...</td>\n      <td>...</td>\n    </tr>\n    <tr>\n      <th>208</th>\n      <td>1972709970</td>\n      <td>954537720</td>\n      <td>percentage</td>\n      <td>39.625</td>\n      <td>cstm_rates</td>\n    </tr>\n    <tr>\n      <th>209</th>\n      <td>1982609558</td>\n      <td>481260190</td>\n      <td>percentage</td>\n      <td>58.000</td>\n      <td>cstm_rates</td>\n    </tr>\n    <tr>\n      <th>210</th>\n      <td>1982666111</td>\n      <td>741152597</td>\n      <td>percentage</td>\n      <td>52.140</td>\n      <td>cstm_rates</td>\n    </tr>\n    <tr>\n      <th>211</th>\n      <td>1992700983</td>\n      <td>752586857</td>\n      <td>percentage</td>\n      <td>58.000</td>\n      <td>cstm_rates</td>\n    </tr>\n    <tr>\n      <th>212</th>\n      <td>1992707228</td>\n      <td>752559845</td>\n      <td>percentage</td>\n      <td>72.000</td>\n      <td>cstm_rates</td>\n    </tr>\n  </tbody>\n</table>\n<p>213 rows × 5 columns</p>\n</div>"
     },
     "execution_count": 238,
     "metadata": {},
     "output_type": "execute_result"
    }
   ],
   "source": [
    "cstm_rates = pd.read_csv('in_network_rates_cstm_op.gz', compression='gzip', low_memory=False, dtype={'taxid': str, 'npi': str, 'billing_code': str})\n",
    "\n",
    "cigna_cstm_rates = cstm_rates[cstm_rates['plan_group_alias'] == 'cigna_national_oap']\n",
    "cigna_cstm_rates = cigna_cstm_rates[cigna_cstm_rates['additional_information'] == 'Outpatient services not otherwise priced']\n",
    "cigna_cstm_rates = cigna_cstm_rates[cigna_cstm_rates['negotiated_type'] == 'percentage']\n",
    "cigna_cstm_rates = cigna_cstm_rates.groupby(['npi','taxid','plan_group_alias','billing_code','billing_code_type','negotiated_type']).agg({'negotiated_rate_cal':'mean'}).reset_index()\n",
    "cigna_cstm_rates['plan_group_alias'] = cigna_cstm_rates['plan_group_alias'].replace('cigna_national_oap', 'cigna_national_oap_cstm')\n",
    "cstm_cigna_0 = cigna_cstm_rates.pivot(index=['npi', 'taxid', 'billing_code', 'billing_code_type', 'negotiated_type'],\n",
    "                columns=['plan_group_alias'],\n",
    "                values=['negotiated_rate_cal']).reset_index()\n",
    "cstm_cigna_0.rename(columns={'negotiated_type':'negotiated_type_cstm'}, inplace=True)\n",
    "\n",
    "cstm_cigna_0.columns =  [item[0] if item[1] == '' else item[1] for item in cstm_cigna_0.columns]\n",
    "cstm_cigna_0.drop(columns=['billing_code', 'billing_code_type'], inplace=True)\n",
    "cstm_cigna_0['source'] = 'cstm_rates'\n",
    "cstm_cigna_0"
   ],
   "metadata": {
    "collapsed": false,
    "ExecuteTime": {
     "end_time": "2024-06-20T17:15:05.080719300Z",
     "start_time": "2024-06-20T17:15:05.021103900Z"
    }
   },
   "id": "8bc6b4e742935a15"
  },
  {
   "cell_type": "code",
   "execution_count": 239,
   "outputs": [],
   "source": [
    "df_rates = pd.concat([mrf_search_stage,inn_rates])\n",
    "df_rates['negotiated_type'] = df_rates['negotiated_type'].replace('fee schedule', 'negotiated')\n",
    "\n",
    "df_rates = df_rates.query(\"not (taxid.isin(['746001118']) and plan_group_alias == 'bcbs_tx_ppo' and negotiated_type == 'negotiated')\")\n",
    "\n",
    "df_rates.sort_values(by=['npi','taxid','plan_group_alias','billing_code','billing_code_type'], inplace=True)\n",
    "df_rates = df_rates.groupby(['npi','taxid','plan_group_alias','billing_code','billing_code_type','negotiated_type']).agg({'negotiated_rate_cal':'mean'}).reset_index()\n"
   ],
   "metadata": {
    "collapsed": false,
    "ExecuteTime": {
     "end_time": "2024-06-20T17:16:41.187266900Z",
     "start_time": "2024-06-20T17:16:22.538572500Z"
    }
   },
   "id": "937d2f5c8e48d0f2"
  },
  {
   "cell_type": "code",
   "execution_count": 240,
   "outputs": [],
   "source": [
    "match_0 = df_rates.pivot(index=['npi', 'taxid', 'billing_code', 'billing_code_type', 'negotiated_type'],\n",
    "                columns=['plan_group_alias'],\n",
    "                values=['negotiated_rate_cal']).reset_index()\n",
    "\n",
    "match_0.columns =  [item[0] if item[1] == '' else item[1] for item in match_0.columns]\n"
   ],
   "metadata": {
    "collapsed": false,
    "ExecuteTime": {
     "end_time": "2024-06-20T17:16:48.467926500Z",
     "start_time": "2024-06-20T17:16:41.162266200Z"
    }
   },
   "id": "6f5d7a044c5c6975"
  },
  {
   "cell_type": "code",
   "execution_count": 241,
   "outputs": [],
   "source": [
    "MDAnderson = pd.read_csv('Data Sources/MDAndersonOP.csv', dtype={'npi': str, 'taxid': str, 'billing_code': str}).drop_duplicates()\n",
    "MDAnderson['source'] = 'ProviderFiles'\n",
    "match_0 = pd.concat([match_0, MDAnderson])"
   ],
   "metadata": {
    "collapsed": false,
    "ExecuteTime": {
     "end_time": "2024-06-20T17:16:48.971752500Z",
     "start_time": "2024-06-20T17:16:48.456924700Z"
    }
   },
   "id": "8f75889f4d6dbfd2"
  },
  {
   "cell_type": "code",
   "execution_count": 242,
   "outputs": [
    {
     "data": {
      "text/plain": "                                      billingprovidername  \\\n0        UNIVERSITY OF TEXAS M. D. ANDERSON CANCER CENTER   \n1        UNIVERSITY OF TEXAS M. D. ANDERSON CANCER CENTER   \n2        UNIVERSITY OF TEXAS M. D. ANDERSON CANCER CENTER   \n3        UNIVERSITY OF TEXAS M. D. ANDERSON CANCER CENTER   \n4       UNIVERSITY OF TEXAS SOUTHWESTERN MEDICAL CENTE...   \n...                                                   ...   \n176192                       HH KILLEEN HEALTH SYSTEM LLC   \n176193                   TEXAS INSTITUTE FOR SURGERY, LLP   \n176194     COLUMBIA MEDICAL CENTER OF PLANO SUBSIDIARY LP   \n176195              CHRISTUS GOOD SHEPHERD MEDICAL CENTER   \n176196                  HEMPHILL COUNTY HOSPITAL DISTRICT   \n\n       billingprovidertaxid billingprovidernpi  \\\n0                 746001118         1174582050   \n1                 746001118         1174582050   \n2                 746001118         1174582050   \n3                 746001118         1174582050   \n4                 753175630         1285798918   \n...                     ...                ...   \n176192            272814378         1841562709   \n176193            770628004         1245201656   \n176194            621682203         1699726406   \n176195            750974351         1124092036   \n176196            756002888         1518411644   \n\n                                   cbsa_name locationtype facility_indicator  \\\n0       Houston-The Woodlands-Sugar Land, TX           22           Facility   \n1       Houston-The Woodlands-Sugar Land, TX           22           Facility   \n2       Houston-The Woodlands-Sugar Land, TX           22           Facility   \n3       Houston-The Woodlands-Sugar Land, TX           22           Facility   \n4            Dallas-Fort Worth-Arlington, TX           22           Facility   \n...                                      ...          ...                ...   \n176192                    Killeen-Temple, TX           22           Facility   \n176193       Dallas-Fort Worth-Arlington, TX           22           Facility   \n176194       Dallas-Fort Worth-Arlington, TX           22           Facility   \n176195                          Longview, TX           22           Facility   \n176196                             Pampa, TX           22           Facility   \n\n       billing_code_type billing_code                 Description  codecount  \\\n0                  HCPCS        J9271           INJ PEMBROLIZUMAB       1327   \n1                    CPT        74177    CT ABD & PELV W/CONTRAST       5651   \n2                  HCPCS        J9299        INJECTION, NIVOLUMAB        976   \n3                    CPT        71260             CT THORAX DX C+       7441   \n4                  HCPCS        J9271           INJ PEMBROLIZUMAB        487   \n...                  ...          ...                         ...        ...   \n176192             HCPCS        G1004                   CDSM NDSC          7   \n176193               CPT        64590  INSRT/REDO PN/GASTR STIMUL          1   \n176194             HCPCS        G1003              CDSM MEDICALIS          1   \n176195             HCPCS        G1010                CDSM STANSON         32   \n176196               CPT        81001     URINALYSIS AUTO W/SCOPE          1   \n\n                                      IDN  rank   amtcovered   amtallowed  \\\n0             University of Texas Systems     4  55318322.30  37911209.13   \n1             University of Texas Systems     4  36428195.00  25555411.49   \n2             University of Texas Systems     4  27544533.50  19179952.37   \n3             University of Texas Systems     4  25960669.00  18124793.27   \n4                  Texas Health Resources     3  22541488.20  13901223.73   \n...                                   ...   ...          ...          ...   \n176192          Seton Family of Hospitals     7         0.10         0.01   \n176193             Texas Health Resources     3         0.01         0.01   \n176194                     HCA Healthcare     1         0.02         0.01   \n176195                    CHRISTUS Health     8         0.34         0.01   \n176196  Baptist St Anthonys Health System    19         0.01         0.01   \n\n         bcbs_tx_ppo  cigna_national_oap  uhc_choice_plus  \\\n0          71.960745           69.914636        70.959503   \n1          72.000000           71.000000       976.500000   \n2          71.969073           69.980686        70.976961   \n3          72.000000           71.000000       976.500000   \n4           0.000000            0.000000         0.000000   \n...              ...                 ...              ...   \n176192      0.000000            0.000000         0.000000   \n176193  46232.050000            0.000000     11475.000000   \n176194      0.000000            0.000000         0.000000   \n176195      0.000000            0.000000         0.000000   \n176196      0.000000            0.000000         0.000000   \n\n        bcbs_tx_ppo_derived  cigna_national_oap_derived  \\\n0              29998.098333                   29145.142   \n1               4641.360000                    4576.890   \n2                  0.000000                       0.000   \n3               2511.990000                    2477.100   \n4                  0.000000                   35747.000   \n...                     ...                         ...   \n176192             0.000000                       0.010   \n176193         46232.050000                       0.000   \n176194             0.000000                       0.010   \n176195             0.000000                       0.010   \n176196             0.000000                       0.000   \n\n        uhc_choice_plus_derived  \n0                     29580.714  \n1                      3261.180  \n2                         0.000  \n3                      2196.495  \n4                         0.000  \n...                         ...  \n176192                    0.000  \n176193                11475.000  \n176194                    0.000  \n176195                    0.000  \n176196                    0.000  \n\n[176197 rows x 20 columns]",
      "text/html": "<div>\n<style scoped>\n    .dataframe tbody tr th:only-of-type {\n        vertical-align: middle;\n    }\n\n    .dataframe tbody tr th {\n        vertical-align: top;\n    }\n\n    .dataframe thead th {\n        text-align: right;\n    }\n</style>\n<table border=\"1\" class=\"dataframe\">\n  <thead>\n    <tr style=\"text-align: right;\">\n      <th></th>\n      <th>billingprovidername</th>\n      <th>billingprovidertaxid</th>\n      <th>billingprovidernpi</th>\n      <th>cbsa_name</th>\n      <th>locationtype</th>\n      <th>facility_indicator</th>\n      <th>billing_code_type</th>\n      <th>billing_code</th>\n      <th>Description</th>\n      <th>codecount</th>\n      <th>IDN</th>\n      <th>rank</th>\n      <th>amtcovered</th>\n      <th>amtallowed</th>\n      <th>bcbs_tx_ppo</th>\n      <th>cigna_national_oap</th>\n      <th>uhc_choice_plus</th>\n      <th>bcbs_tx_ppo_derived</th>\n      <th>cigna_national_oap_derived</th>\n      <th>uhc_choice_plus_derived</th>\n    </tr>\n  </thead>\n  <tbody>\n    <tr>\n      <th>0</th>\n      <td>UNIVERSITY OF TEXAS M. D. ANDERSON CANCER CENTER</td>\n      <td>746001118</td>\n      <td>1174582050</td>\n      <td>Houston-The Woodlands-Sugar Land, TX</td>\n      <td>22</td>\n      <td>Facility</td>\n      <td>HCPCS</td>\n      <td>J9271</td>\n      <td>INJ PEMBROLIZUMAB</td>\n      <td>1327</td>\n      <td>University of Texas Systems</td>\n      <td>4</td>\n      <td>55318322.30</td>\n      <td>37911209.13</td>\n      <td>71.960745</td>\n      <td>69.914636</td>\n      <td>70.959503</td>\n      <td>29998.098333</td>\n      <td>29145.142</td>\n      <td>29580.714</td>\n    </tr>\n    <tr>\n      <th>1</th>\n      <td>UNIVERSITY OF TEXAS M. D. ANDERSON CANCER CENTER</td>\n      <td>746001118</td>\n      <td>1174582050</td>\n      <td>Houston-The Woodlands-Sugar Land, TX</td>\n      <td>22</td>\n      <td>Facility</td>\n      <td>CPT</td>\n      <td>74177</td>\n      <td>CT ABD &amp; PELV W/CONTRAST</td>\n      <td>5651</td>\n      <td>University of Texas Systems</td>\n      <td>4</td>\n      <td>36428195.00</td>\n      <td>25555411.49</td>\n      <td>72.000000</td>\n      <td>71.000000</td>\n      <td>976.500000</td>\n      <td>4641.360000</td>\n      <td>4576.890</td>\n      <td>3261.180</td>\n    </tr>\n    <tr>\n      <th>2</th>\n      <td>UNIVERSITY OF TEXAS M. D. ANDERSON CANCER CENTER</td>\n      <td>746001118</td>\n      <td>1174582050</td>\n      <td>Houston-The Woodlands-Sugar Land, TX</td>\n      <td>22</td>\n      <td>Facility</td>\n      <td>HCPCS</td>\n      <td>J9299</td>\n      <td>INJECTION, NIVOLUMAB</td>\n      <td>976</td>\n      <td>University of Texas Systems</td>\n      <td>4</td>\n      <td>27544533.50</td>\n      <td>19179952.37</td>\n      <td>71.969073</td>\n      <td>69.980686</td>\n      <td>70.976961</td>\n      <td>0.000000</td>\n      <td>0.000</td>\n      <td>0.000</td>\n    </tr>\n    <tr>\n      <th>3</th>\n      <td>UNIVERSITY OF TEXAS M. D. ANDERSON CANCER CENTER</td>\n      <td>746001118</td>\n      <td>1174582050</td>\n      <td>Houston-The Woodlands-Sugar Land, TX</td>\n      <td>22</td>\n      <td>Facility</td>\n      <td>CPT</td>\n      <td>71260</td>\n      <td>CT THORAX DX C+</td>\n      <td>7441</td>\n      <td>University of Texas Systems</td>\n      <td>4</td>\n      <td>25960669.00</td>\n      <td>18124793.27</td>\n      <td>72.000000</td>\n      <td>71.000000</td>\n      <td>976.500000</td>\n      <td>2511.990000</td>\n      <td>2477.100</td>\n      <td>2196.495</td>\n    </tr>\n    <tr>\n      <th>4</th>\n      <td>UNIVERSITY OF TEXAS SOUTHWESTERN MEDICAL CENTE...</td>\n      <td>753175630</td>\n      <td>1285798918</td>\n      <td>Dallas-Fort Worth-Arlington, TX</td>\n      <td>22</td>\n      <td>Facility</td>\n      <td>HCPCS</td>\n      <td>J9271</td>\n      <td>INJ PEMBROLIZUMAB</td>\n      <td>487</td>\n      <td>Texas Health Resources</td>\n      <td>3</td>\n      <td>22541488.20</td>\n      <td>13901223.73</td>\n      <td>0.000000</td>\n      <td>0.000000</td>\n      <td>0.000000</td>\n      <td>0.000000</td>\n      <td>35747.000</td>\n      <td>0.000</td>\n    </tr>\n    <tr>\n      <th>...</th>\n      <td>...</td>\n      <td>...</td>\n      <td>...</td>\n      <td>...</td>\n      <td>...</td>\n      <td>...</td>\n      <td>...</td>\n      <td>...</td>\n      <td>...</td>\n      <td>...</td>\n      <td>...</td>\n      <td>...</td>\n      <td>...</td>\n      <td>...</td>\n      <td>...</td>\n      <td>...</td>\n      <td>...</td>\n      <td>...</td>\n      <td>...</td>\n      <td>...</td>\n    </tr>\n    <tr>\n      <th>176192</th>\n      <td>HH KILLEEN HEALTH SYSTEM LLC</td>\n      <td>272814378</td>\n      <td>1841562709</td>\n      <td>Killeen-Temple, TX</td>\n      <td>22</td>\n      <td>Facility</td>\n      <td>HCPCS</td>\n      <td>G1004</td>\n      <td>CDSM NDSC</td>\n      <td>7</td>\n      <td>Seton Family of Hospitals</td>\n      <td>7</td>\n      <td>0.10</td>\n      <td>0.01</td>\n      <td>0.000000</td>\n      <td>0.000000</td>\n      <td>0.000000</td>\n      <td>0.000000</td>\n      <td>0.010</td>\n      <td>0.000</td>\n    </tr>\n    <tr>\n      <th>176193</th>\n      <td>TEXAS INSTITUTE FOR SURGERY, LLP</td>\n      <td>770628004</td>\n      <td>1245201656</td>\n      <td>Dallas-Fort Worth-Arlington, TX</td>\n      <td>22</td>\n      <td>Facility</td>\n      <td>CPT</td>\n      <td>64590</td>\n      <td>INSRT/REDO PN/GASTR STIMUL</td>\n      <td>1</td>\n      <td>Texas Health Resources</td>\n      <td>3</td>\n      <td>0.01</td>\n      <td>0.01</td>\n      <td>46232.050000</td>\n      <td>0.000000</td>\n      <td>11475.000000</td>\n      <td>46232.050000</td>\n      <td>0.000</td>\n      <td>11475.000</td>\n    </tr>\n    <tr>\n      <th>176194</th>\n      <td>COLUMBIA MEDICAL CENTER OF PLANO SUBSIDIARY LP</td>\n      <td>621682203</td>\n      <td>1699726406</td>\n      <td>Dallas-Fort Worth-Arlington, TX</td>\n      <td>22</td>\n      <td>Facility</td>\n      <td>HCPCS</td>\n      <td>G1003</td>\n      <td>CDSM MEDICALIS</td>\n      <td>1</td>\n      <td>HCA Healthcare</td>\n      <td>1</td>\n      <td>0.02</td>\n      <td>0.01</td>\n      <td>0.000000</td>\n      <td>0.000000</td>\n      <td>0.000000</td>\n      <td>0.000000</td>\n      <td>0.010</td>\n      <td>0.000</td>\n    </tr>\n    <tr>\n      <th>176195</th>\n      <td>CHRISTUS GOOD SHEPHERD MEDICAL CENTER</td>\n      <td>750974351</td>\n      <td>1124092036</td>\n      <td>Longview, TX</td>\n      <td>22</td>\n      <td>Facility</td>\n      <td>HCPCS</td>\n      <td>G1010</td>\n      <td>CDSM STANSON</td>\n      <td>32</td>\n      <td>CHRISTUS Health</td>\n      <td>8</td>\n      <td>0.34</td>\n      <td>0.01</td>\n      <td>0.000000</td>\n      <td>0.000000</td>\n      <td>0.000000</td>\n      <td>0.000000</td>\n      <td>0.010</td>\n      <td>0.000</td>\n    </tr>\n    <tr>\n      <th>176196</th>\n      <td>HEMPHILL COUNTY HOSPITAL DISTRICT</td>\n      <td>756002888</td>\n      <td>1518411644</td>\n      <td>Pampa, TX</td>\n      <td>22</td>\n      <td>Facility</td>\n      <td>CPT</td>\n      <td>81001</td>\n      <td>URINALYSIS AUTO W/SCOPE</td>\n      <td>1</td>\n      <td>Baptist St Anthonys Health System</td>\n      <td>19</td>\n      <td>0.01</td>\n      <td>0.01</td>\n      <td>0.000000</td>\n      <td>0.000000</td>\n      <td>0.000000</td>\n      <td>0.000000</td>\n      <td>0.000</td>\n      <td>0.000</td>\n    </tr>\n  </tbody>\n</table>\n<p>176197 rows × 20 columns</p>\n</div>"
     },
     "execution_count": 242,
     "metadata": {},
     "output_type": "execute_result"
    }
   ],
   "source": [
    "match_1 = pd.merge(df_claims_op, match_0, how='left',\n",
    "                   left_on=[ 'procedurecode','billingprovidertaxid', 'billingprovidernpi'],\n",
    "                   right_on=['billing_code','taxid', 'npi'])\n",
    "\n",
    "\n",
    "def calculate_percentage(row, column):\n",
    "    if row['negotiated_type'] == 'percentage' and row[column] != 0:\n",
    "        return round((row[column] / 100) * (row['amtcovered'] / row['codecount']),2)\n",
    "    else:\n",
    "        return row[column]\n",
    "\n",
    "columns_to_update = [\n",
    "    # 'aetna_open_access_managed', \n",
    "    'bcbs_tx_ppo', \n",
    "    'cigna_national_oap', \n",
    "    'uhc_choice_plus']\n",
    "\n",
    "for column in columns_to_update:\n",
    "    match_1[column + '_derived'] = match_1.apply(calculate_percentage, args=(column,), axis=1)\n",
    "    \n",
    "match_1 = match_1.merge(outlier_rates, on=['billing_code', 'billing_code_type', 'negotiated_type'], how='left')\n",
    "\n",
    "def remove_outliers(row, column):\n",
    "    if row['rec_ub_outlier'] < row[column]:\n",
    "        return 0\n",
    "    elif row['rec_lb_outlier'] > row[column] :\n",
    "        return 0\n",
    "    else:\n",
    "        return row[column]\n",
    "\n",
    "columns_to_update = [\n",
    "    # 'aetna_open_access_managed_derived', \n",
    "    'bcbs_tx_ppo_derived', \n",
    "    'cigna_national_oap_derived', \n",
    "    'uhc_choice_plus_derived']\n",
    "\n",
    "for column in columns_to_update:\n",
    "    match_1[column] = match_1.apply(remove_outliers, args=(column,), axis=1)\n",
    "    \n",
    "    \n",
    "def mean_positive(x):\n",
    "    return x[x > 0].mean()\n",
    "\n",
    "\n",
    "match_1 = match_1.groupby(['billingprovidername', 'billingprovidertaxid','billingprovidernpi', 'cbsa_name', 'locationtype', 'facility_indicator', 'proceduretype' , 'procedurecode', 'procedurename', 'codecount', 'IDN', 'rank']).agg({\n",
    "    'amtcovered': mean_positive,\n",
    "    'amtallowed': mean_positive,\n",
    "    # 'aetna_open_access_managed': mean_positive, \n",
    "    'bcbs_tx_ppo': mean_positive, \n",
    "    'cigna_national_oap': mean_positive, \n",
    "    'uhc_choice_plus': mean_positive, \n",
    "    # 'aetna_open_access_managed_derived': mean_positive, \n",
    "    'bcbs_tx_ppo_derived': mean_positive, \n",
    "    'cigna_national_oap_derived': mean_positive, \n",
    "    'uhc_choice_plus_derived': mean_positive}).reset_index().sort_values('amtallowed', ascending = False)\n",
    "\n",
    "\n",
    "match_1.rename(columns={'procedurecode': 'billing_code', 'proceduretype': 'billing_code_type', 'procedurename': 'Description'}, inplace=True)\n",
    "\n",
    "match_1 = pd.merge(match_1, cstm_cigna_0, how='left',left_on=['billingprovidertaxid', 'billingprovidernpi'], right_on=['taxid', 'npi'])\n",
    "\n",
    "\n",
    "def calculate_percentage_cstm(row, column):\n",
    "    if pd.isna(row[column]) and not pd.isna(row['cigna_national_oap_cstm'] and row['billing_code_type'] == 'CPT'):\n",
    "        return round((row['cigna_national_oap_cstm'] / 100) * (row['amtcovered'] / row['codecount']),2)\n",
    "    else:\n",
    "        return row[column]\n",
    "\n",
    "columns_to_update = ['cigna_national_oap_derived']\n",
    "\n",
    "for column in columns_to_update:\n",
    "    match_1[column] = match_1.apply(calculate_percentage_cstm, args=(column,), axis=1)\n",
    "\n",
    "outlier_rates = outlier_rates[outlier_rates['negotiated_type'] == 'percentage']\n",
    "match_1 = match_1.merge(outlier_rates, on=['billing_code', 'billing_code_type'], how='left')\n",
    "\n",
    "def remove_outliers(row, column):\n",
    "    if row['rec_ub_outlier'] < row[column] :\n",
    "        return 0\n",
    "    elif row['rec_lb_outlier'] > row[column] :\n",
    "        return 0\n",
    "    else:\n",
    "        return row[column]\n",
    "\n",
    "columns_to_update = ['cigna_national_oap_derived']\n",
    "\n",
    "for column in columns_to_update:\n",
    "    match_1[column] = match_1.apply(remove_outliers, args=(column,), axis=1)\n",
    "    \n",
    "match_1 = match_1.fillna(0)\n",
    "match_1.drop(columns=['source', 'taxid', 'npi', 'negotiated_type_cstm', 'cigna_national_oap_cstm', 'rec_lb_outlier', 'rec_ub_outlier', 'negotiated_type'], inplace=True)\n",
    "\n",
    "\n",
    "# match_1 = match_1[match_1['billingprovidertaxid'] == '742730328']\n",
    "# match_1 = match_1[match_1['billing_code'] == '58301']\n",
    "# match_1 = match_1[match_1['billingprovidernpi'] == '1205018439']\n",
    "# match_1 = match_1[match_1['rank'] == 2]\n",
    "match_1 "
   ],
   "metadata": {
    "collapsed": false,
    "ExecuteTime": {
     "end_time": "2024-06-20T17:19:16.500442500Z",
     "start_time": "2024-06-20T17:16:53.825194700Z"
    }
   },
   "id": "4290c2b144e0d2"
  },
  {
   "cell_type": "code",
   "execution_count": 243,
   "outputs": [],
   "source": [
    "# rank = df_claims_op[df_claims_op['rank'] == 11]\n",
    "allowed = df_claims_op['amtallowed'].sum()\n",
    "match_1['share'] = match_1['amtallowed'] / allowed\n",
    "\n",
    "match_1['bcbstx_match'] = match_1['bcbs_tx_ppo_derived'] / match_1['bcbs_tx_ppo_derived'] * match_1['share']\n",
    "match_1['uhc_match'] = match_1['uhc_choice_plus_derived'] / match_1['bcbs_tx_ppo_derived'] * match_1['share']\n",
    "# match_1['aetna_match'] = match_1['aetna_open_access_managed_derived'] / match_1['bcbs_tx_ppo_derived'] * match_1['share']\n",
    "match_1['cigna_match'] = match_1['cigna_national_oap_derived'] / match_1['bcbs_tx_ppo_derived'] * match_1['share']\n",
    "\n",
    "match_1 = match_1.fillna(0).replace([np.inf,-np.inf],0)\n",
    "match_1.to_csv('Data Sources/MatchedRates_op.gz',index=False, compression='gzip')\n",
    "# match_1"
   ],
   "metadata": {
    "collapsed": false,
    "ExecuteTime": {
     "end_time": "2024-06-20T17:19:22.341865400Z",
     "start_time": "2024-06-20T17:19:16.481408300Z"
    }
   },
   "id": "b94767a22d9cdd26"
  },
  {
   "cell_type": "code",
   "execution_count": 244,
   "outputs": [
    {
     "name": "stdout",
     "output_type": "stream",
     "text": [
      "Any data 1.0\n",
      "BCBS/UHC share 0.3070227140725419\n",
      "BCBS/Cigna share 0.5937105031292239\n"
     ]
    }
   ],
   "source": [
    "print('Any data',1-match_1.loc[match_1.billingprovidertaxid == 0,'share'].sum())\n",
    "\n",
    "cond_1 =(match_1.bcbs_tx_ppo_derived != 0) & (match_1.uhc_choice_plus_derived != 0)\n",
    "# cond_2 = (match_1.bcbs_tx_ppo_derived != 0) & (match_1.aetna_open_access_managed_derived != 0)\n",
    "cond_3 = (match_1.bcbs_tx_ppo_derived != 0) & (match_1.cigna_national_oap_derived != 0)\n",
    "print('BCBS/UHC share',match_1.loc[cond_1,'share'].sum())\n",
    "# print('BCBS/Aetna share',match_1.loc[cond_2,'share'].sum())\n",
    "print('BCBS/Cigna share',match_1.loc[cond_3,'share'].sum())\n",
    "\n",
    "del cond_1\n",
    "# del cond_2\n",
    "del cond_3\n"
   ],
   "metadata": {
    "collapsed": false,
    "ExecuteTime": {
     "end_time": "2024-06-20T17:19:22.361445100Z",
     "start_time": "2024-06-20T17:19:22.329786900Z"
    }
   },
   "id": "b816c7e878f9a0ae"
  },
  {
   "cell_type": "code",
   "execution_count": 245,
   "outputs": [
    {
     "name": "stdout",
     "output_type": "stream",
     "text": [
      "0.7870077066997281\n",
      "0.5843199136556738\n"
     ]
    }
   ],
   "source": [
    " cond_uhc = match_1[(match_1.bcbstx_match != 0) & (match_1.uhc_match != 0)]\n",
    " cond_cigna = match_1[(match_1.bcbstx_match != 0) & (match_1.cigna_match != 0)]\n",
    "# columns = ['billingprovidertaxid','share', 'bcbstx_matched', 'uhc_matched']\n",
    "# grouped = ['billingprovidertaxid']\n",
    "\n",
    "# a = match_1.loc[cond,columns].groupby(grouped).sum()\n",
    "# a1 = dict(zip(a.index,a.share))\n",
    "# a2 = dict(zip(a.index,a.uhc_match))\n",
    "# \n",
    "# weights_prov['UHC_share'] = weights_prov['billingprovidertaxid'].map(a1)\n",
    "# weights_prov['UHC_share'] = weights_prov['UHC_share'].fillna(0)\n",
    "# weights_prov['UHC_weigthed'] = weights_prov['billingprovidertaxid'].map(a2)\n",
    "# weights_prov['avail_share'] = weights_prov['UHC_share'] / weights_prov['share']\n",
    "# weights_prov['matched_share'] = weights_prov['avail_share'] * weights_prov['share']\n",
    "# weights_prov['avail_cum_share'] = weights_prov['UHC_share'].cumsum()\n",
    "# weights_prov['UHC_factor'] = weights_prov['UHC_weigthed'] / weights_prov['UHC_share']\n",
    "# weights_prov['UHC_factorX'] = weights_prov['UHC_factor'] * weights_prov['matched_share']\n",
    "# weights_prov['npi'] = weights_prov['billingprovidertaxid'].astype(int)\n",
    "# weights_prov['sharexfctr'] = weights_prov['matched_share'] * weights_prov['UHC_factor']\n",
    "# \n",
    "# final_prov = weights_prov.loc[:,['billingprovidertaxid','allowed', 'share','avail_share','matched_share','UHC_factor', 'sharexfctr']]\n",
    "# del cond, columns, grouped, a, a1, a2\n",
    "# total = final_prov.sharexfctr.sum() / final_prov.matched_share.sum()\n",
    "# print(total)\n",
    "# final_prov\n",
    "total_uhc = cond_uhc.bcbstx_match.sum() / cond_uhc.uhc_match.sum()\n",
    "total_cigna = cond_cigna.bcbstx_match.sum() / cond_cigna.cigna_match.sum()\n",
    "print(total_uhc)\n",
    "print(total_cigna)"
   ],
   "metadata": {
    "collapsed": false,
    "ExecuteTime": {
     "end_time": "2024-06-20T17:19:22.419491800Z",
     "start_time": "2024-06-20T17:19:22.362414600Z"
    }
   },
   "id": "3c91fab632c25feb"
  },
  {
   "cell_type": "code",
   "execution_count": null,
   "outputs": [],
   "source": [],
   "metadata": {
    "collapsed": false
   },
   "id": "1021b96c94e7c799"
  }
 ],
 "metadata": {
  "kernelspec": {
   "display_name": "Python 3",
   "language": "python",
   "name": "python3"
  },
  "language_info": {
   "codemirror_mode": {
    "name": "ipython",
    "version": 2
   },
   "file_extension": ".py",
   "mimetype": "text/x-python",
   "name": "python",
   "nbconvert_exporter": "python",
   "pygments_lexer": "ipython2",
   "version": "2.7.6"
  }
 },
 "nbformat": 4,
 "nbformat_minor": 5
}
