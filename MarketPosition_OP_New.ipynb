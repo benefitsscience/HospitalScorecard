{
 "cells": [
  {
   "cell_type": "code",
   "execution_count": 1,
   "id": "initial_id",
   "metadata": {
    "collapsed": true,
    "ExecuteTime": {
     "end_time": "2024-06-24T17:11:10.435990500Z",
     "start_time": "2024-06-24T17:11:06.994280900Z"
    }
   },
   "outputs": [
    {
     "name": "stderr",
     "output_type": "stream",
     "text": [
      "C:\\Users\\geoff.joe\\AppData\\Local\\Temp\\ipykernel_4832\\2405525532.py:1: DeprecationWarning: \n",
      "Pyarrow will become a required dependency of pandas in the next major release of pandas (pandas 3.0),\n",
      "(to allow more performant data types, such as the Arrow string type, and better interoperability with other libraries)\n",
      "but was not found to be installed on your system.\n",
      "If this would cause problems for you,\n",
      "please provide us feedback at https://github.com/pandas-dev/pandas/issues/54466\n",
      "        \n",
      "  import pandas as pd\n"
     ]
    }
   ],
   "source": [
    "import pandas as pd\n",
    "from trino.dbapi import connect \n",
    "import numpy as np\n",
    "from dateutil.relativedelta import relativedelta\n",
    "from scipy.stats import gmean"
   ]
  },
  {
   "cell_type": "code",
   "execution_count": 2,
   "outputs": [],
   "source": [
    "def read_from_hive(sql_script):\n",
    "    conn = connect(\n",
    "            host='presto.bstis.com',\n",
    "            port=8080,\n",
    "            user='hadoop',\n",
    "            catalog='hive',\n",
    "            #schema='default'\n",
    "            )\n",
    "    cur = conn.cursor()\n",
    "    cur.execute(sql_script)\n",
    "    rows = cur.fetchall()\n",
    "    columns = [desc[0] for desc in cur.description]\n",
    "    df = pd.DataFrame(rows,columns=columns)\n",
    "    return df"
   ],
   "metadata": {
    "collapsed": false,
    "ExecuteTime": {
     "end_time": "2024-06-24T17:11:10.448996900Z",
     "start_time": "2024-06-24T17:11:10.424990600Z"
    }
   },
   "id": "95399699fd778418"
  },
  {
   "cell_type": "code",
   "execution_count": 3,
   "outputs": [
    {
     "name": "stderr",
     "output_type": "stream",
     "text": [
      "C:\\Users\\geoff.joe\\AppData\\Local\\Temp\\ipykernel_4832\\3722874349.py:1: DtypeWarning: Columns (9,11) have mixed types. Specify dtype option on import or set low_memory=False.\n",
      "  Top20 = pd.read_csv('Outputs/Top20Systems.csv', dtype={'billingprovidertaxid': str})\n"
     ]
    }
   ],
   "source": [
    "Top20 = pd.read_csv('Outputs/Top20Systems.csv', dtype={'billingprovidertaxid': str})\n",
    "ZipMSA = pd.read_csv('Data Sources/ZipMSA.txt', sep='\\t', dtype={'zipcode': str})\n",
    "\n",
    "# Top20\n"
   ],
   "metadata": {
    "collapsed": false,
    "ExecuteTime": {
     "end_time": "2024-06-24T17:11:17.601581500Z",
     "start_time": "2024-06-24T17:11:10.438026600Z"
    }
   },
   "id": "a0ce6a977caa1ab2"
  },
  {
   "cell_type": "code",
   "execution_count": 4,
   "outputs": [],
   "source": [
    "tins_list = Top20['billingprovidertaxid'].unique()\n",
    "tins_list = ', '.join(f\"'{tin}'\" for tin in tins_list)\n"
   ],
   "metadata": {
    "collapsed": false,
    "ExecuteTime": {
     "end_time": "2024-06-24T17:11:17.758703100Z",
     "start_time": "2024-06-24T17:11:17.594586900Z"
    }
   },
   "id": "b211307a8141de83"
  },
  {
   "cell_type": "markdown",
   "source": [
    "# Pull Claims Data"
   ],
   "metadata": {
    "collapsed": false
   },
   "id": "5808f96a6b3868bd"
  },
  {
   "cell_type": "code",
   "execution_count": 5,
   "outputs": [],
   "source": [
    "\n",
    "    sSQL = f'''\n",
    "        SELECT billingprovidername,\n",
    "           billingprovidertaxid,\n",
    "           billingprovidernpi,\n",
    "           billingproviderid,\n",
    "           billingproviderzip,\n",
    "--           tenantid,\n",
    "--           personid,\n",
    "           tpaclaimid,\n",
    "           dosstart,\n",
    "           dosend,\n",
    "           innetworkflag,\n",
    "           proceduretype,\n",
    "           procedurecode,\n",
    "           procedurename,\n",
    "           servicecategory_details,\n",
    "           locationtype,\n",
    "           facility_indicator,\n",
    "           er_visitid,\n",
    "           COUNT(CASE WHEN amtcovered > 0 THEN claimid END) as poscodecount,\n",
    "           COUNT(CASE WHEN amtcovered < 0 THEN claimid END) as negcodecount,\n",
    "           sum(amtbilled) as amtbilled,\n",
    "           sum(amtcovered) as amtcovered,\n",
    "           sum(amtallowed) as amtallowed\n",
    "        FROM hive.bcbstx_nonev_prod.claims \n",
    "        WHERE   dosplanyear = '2023'\n",
    "        AND   locationtype = '22'\n",
    "        AND innetworkflag = 1\n",
    "        -- and proceduretype in ('CPT','HCPCS')\n",
    "        and facility_indicator = 'Facility'\n",
    "        and medicareflag = 'N'\n",
    "        and billingprovidertaxid in ({tins_list})\n",
    "        group by 1,2,3,4,5,6,7,8,9,10,11,12,13,14,15,16\n",
    "    '''.format(tins_list=tins_list)\n",
    "\n",
    "    df_claims = read_from_hive(sSQL)\n",
    "    df_claims.to_csv(f'Data Sources/Claims_nonev_op.gz', index=False, compression='gzip')\n",
    "\n",
    "        \n",
    "    "
   ],
   "metadata": {
    "collapsed": false,
    "ExecuteTime": {
     "end_time": "2024-06-24T15:01:36.703601300Z",
     "start_time": "2024-06-24T14:39:57.916063400Z"
    }
   },
   "id": "338a568d7f81689b"
  },
  {
   "cell_type": "markdown",
   "source": [
    " # Outpatient Facility"
   ],
   "metadata": {
    "collapsed": false
   },
   "id": "79eb074a841a34e7"
  },
  {
   "cell_type": "code",
   "execution_count": 55,
   "outputs": [],
   "source": [
    "df_claims = pd.read_csv('Data Sources/Claims_nonev_op.gz', compression='gzip', low_memory=False, dtype={'billingproviderzip': str,\n",
    "                                     'billingprovidertaxid': str,\n",
    "                                     'billingprovidernpi': str,\n",
    "                                     'locationtype': str,\n",
    "                                     'innetworkflag': str,\n",
    "                                     'tpaclaimid': str,\n",
    "                                     'procedurecode':str})\n",
    "\n",
    "df_claims = df_claims.merge(ZipMSA[['zipcode', 'state', 'cbsa_name']], left_on='billingproviderzip', right_on='zipcode', how='left')"
   ],
   "metadata": {
    "collapsed": false,
    "ExecuteTime": {
     "end_time": "2024-06-24T18:14:12.221866500Z",
     "start_time": "2024-06-24T18:13:19.639249500Z"
    }
   },
   "id": "2016dd8d839053b2"
  },
  {
   "cell_type": "code",
   "execution_count": 202,
   "outputs": [
    {
     "name": "stderr",
     "output_type": "stream",
     "text": [
      "C:\\Users\\geoff.joe\\AppData\\Local\\Temp\\ipykernel_4832\\1707301152.py:22: SettingWithCopyWarning: \n",
      "A value is trying to be set on a copy of a slice from a DataFrame.\n",
      "Try using .loc[row_indexer,col_indexer] = value instead\n",
      "\n",
      "See the caveats in the documentation: https://pandas.pydata.org/pandas-docs/stable/user_guide/indexing.html#returning-a-view-versus-a-copy\n",
      "  df_er_temp_1['procedurecode'] = '99281'\n",
      "C:\\Users\\geoff.joe\\AppData\\Local\\Temp\\ipykernel_4832\\1707301152.py:28: SettingWithCopyWarning: \n",
      "A value is trying to be set on a copy of a slice from a DataFrame.\n",
      "Try using .loc[row_indexer,col_indexer] = value instead\n",
      "\n",
      "See the caveats in the documentation: https://pandas.pydata.org/pandas-docs/stable/user_guide/indexing.html#returning-a-view-versus-a-copy\n",
      "  df_er_temp_2['procedurecode'] = '99282'\n",
      "C:\\Users\\geoff.joe\\AppData\\Local\\Temp\\ipykernel_4832\\1707301152.py:33: SettingWithCopyWarning: \n",
      "A value is trying to be set on a copy of a slice from a DataFrame.\n",
      "Try using .loc[row_indexer,col_indexer] = value instead\n",
      "\n",
      "See the caveats in the documentation: https://pandas.pydata.org/pandas-docs/stable/user_guide/indexing.html#returning-a-view-versus-a-copy\n",
      "  df_er_temp_3['procedurecode'] = '99283'\n",
      "C:\\Users\\geoff.joe\\AppData\\Local\\Temp\\ipykernel_4832\\1707301152.py:38: SettingWithCopyWarning: \n",
      "A value is trying to be set on a copy of a slice from a DataFrame.\n",
      "Try using .loc[row_indexer,col_indexer] = value instead\n",
      "\n",
      "See the caveats in the documentation: https://pandas.pydata.org/pandas-docs/stable/user_guide/indexing.html#returning-a-view-versus-a-copy\n",
      "  df_er_temp_4['procedurecode'] = '99284'\n",
      "C:\\Users\\geoff.joe\\AppData\\Local\\Temp\\ipykernel_4832\\1707301152.py:43: SettingWithCopyWarning: \n",
      "A value is trying to be set on a copy of a slice from a DataFrame.\n",
      "Try using .loc[row_indexer,col_indexer] = value instead\n",
      "\n",
      "See the caveats in the documentation: https://pandas.pydata.org/pandas-docs/stable/user_guide/indexing.html#returning-a-view-versus-a-copy\n",
      "  df_er_temp_5['procedurecode'] = '99285'\n"
     ]
    },
    {
     "data": {
      "text/plain": "                                      billingprovidername  \\\n0        UNIVERSITY OF TEXAS M. D. ANDERSON CANCER CENTER   \n1        UNIVERSITY OF TEXAS M. D. ANDERSON CANCER CENTER   \n2        UNIVERSITY OF TEXAS M. D. ANDERSON CANCER CENTER   \n3        UNIVERSITY OF TEXAS M. D. ANDERSON CANCER CENTER   \n4                          MEMORIAL HERMANN HEALTH SYSTEM   \n...                                                   ...   \n145714  BAYLOR SCOTT & WHITE MEDICAL CENTERS - CAPITOL...   \n145715               ST. LUKE'S COMMUNITY HEALTH SERVICES   \n145716                   SCOTT & WHITE HOSPITAL - BRENHAM   \n145717                   TEXAS INSTITUTE FOR SURGERY, LLP   \n145718  UNIVERSITY OF TEXAS SOUTHWESTERN MEDICAL CENTE...   \n\n       billingprovidertaxid billingprovidernpi locationtype  \\\n0                 746001118         1174582050           22   \n1                 746001118         1174582050           22   \n2                 746001118         1174582050           22   \n3                 746001118         1174582050           22   \n4                 741152597         1730132234           22   \n...                     ...                ...          ...   \n145714            813040663         1902366305           22   \n145715            760536234         1942208616           22   \n145716            742519752         1154315307           22   \n145717            770628004         1245201656           22   \n145718            753175630         1285798918           22   \n\n       facility_indicator                             cbsa_name proceduretype  \\\n0                Facility  Houston-The Woodlands-Sugar Land, TX         HCPCS   \n1                Facility  Houston-The Woodlands-Sugar Land, TX           CPT   \n2                Facility  Houston-The Woodlands-Sugar Land, TX         HCPCS   \n3                Facility  Houston-The Woodlands-Sugar Land, TX           CPT   \n4                Facility  Houston-The Woodlands-Sugar Land, TX           CPT   \n...                   ...                                   ...           ...   \n145714           Facility      Austin-Round Rock-Georgetown, TX         HCPCS   \n145715           Facility  Houston-The Woodlands-Sugar Land, TX         HCPCS   \n145716           Facility                           Brenham, TX         HCPCS   \n145717           Facility       Dallas-Fort Worth-Arlington, TX           CPT   \n145718           Facility       Dallas-Fort Worth-Arlington, TX         HCPCS   \n\n       procedurecode                 procedurename  claimcount   amtcovered  \\\n0              J9271             INJ PEMBROLIZUMAB        1279  52482414.95   \n1              74177      CT ABD & PELV W/CONTRAST        5291  34044367.00   \n2              J9299          INJECTION, NIVOLUMAB         767  26778069.30   \n3              71260               CT THORAX DX C+        7139  24869128.00   \n4              99284          EMERGENCY DEPT VISIT        5223  56794476.00   \n...              ...                           ...         ...          ...   \n145714         G1004                     CDSM NDSC         218         2.28   \n145715         J7512  PREDNISONE IR OR DR ORAL 1MG           1         0.25   \n145716         G1004                     CDSM NDSC         200         2.17   \n145717         27659     REPAIR OF LEG TENDON EACH           1         0.01   \n145718         C1819  TISSUE LOCALIZATION-EXCISION           1         0.01   \n\n         amtallowed  codecount                               IDN  rank  \n0       37752425.84       1271       University of Texas Systems     4  \n1       24386949.15       5281       University of Texas Systems     4  \n2       19083682.08        944       University of Texas Systems     4  \n3       17845607.03       7128       University of Texas Systems     4  \n4       16745749.27       5223  Memorial Hermann Hospital System     6  \n...             ...        ...                               ...   ...  \n145714         0.01        219     Baylor Scott and White Health     2  \n145715         0.01          1               CHI St Lukes Health    14  \n145716         0.01        201     Baylor Scott and White Health     2  \n145717         0.01          1            Texas Health Resources     3  \n145718         0.01          1            Texas Health Resources     3  \n\n[145719 rows x 15 columns]",
      "text/html": "<div>\n<style scoped>\n    .dataframe tbody tr th:only-of-type {\n        vertical-align: middle;\n    }\n\n    .dataframe tbody tr th {\n        vertical-align: top;\n    }\n\n    .dataframe thead th {\n        text-align: right;\n    }\n</style>\n<table border=\"1\" class=\"dataframe\">\n  <thead>\n    <tr style=\"text-align: right;\">\n      <th></th>\n      <th>billingprovidername</th>\n      <th>billingprovidertaxid</th>\n      <th>billingprovidernpi</th>\n      <th>locationtype</th>\n      <th>facility_indicator</th>\n      <th>cbsa_name</th>\n      <th>proceduretype</th>\n      <th>procedurecode</th>\n      <th>procedurename</th>\n      <th>claimcount</th>\n      <th>amtcovered</th>\n      <th>amtallowed</th>\n      <th>codecount</th>\n      <th>IDN</th>\n      <th>rank</th>\n    </tr>\n  </thead>\n  <tbody>\n    <tr>\n      <th>0</th>\n      <td>UNIVERSITY OF TEXAS M. D. ANDERSON CANCER CENTER</td>\n      <td>746001118</td>\n      <td>1174582050</td>\n      <td>22</td>\n      <td>Facility</td>\n      <td>Houston-The Woodlands-Sugar Land, TX</td>\n      <td>HCPCS</td>\n      <td>J9271</td>\n      <td>INJ PEMBROLIZUMAB</td>\n      <td>1279</td>\n      <td>52482414.95</td>\n      <td>37752425.84</td>\n      <td>1271</td>\n      <td>University of Texas Systems</td>\n      <td>4</td>\n    </tr>\n    <tr>\n      <th>1</th>\n      <td>UNIVERSITY OF TEXAS M. D. ANDERSON CANCER CENTER</td>\n      <td>746001118</td>\n      <td>1174582050</td>\n      <td>22</td>\n      <td>Facility</td>\n      <td>Houston-The Woodlands-Sugar Land, TX</td>\n      <td>CPT</td>\n      <td>74177</td>\n      <td>CT ABD &amp; PELV W/CONTRAST</td>\n      <td>5291</td>\n      <td>34044367.00</td>\n      <td>24386949.15</td>\n      <td>5281</td>\n      <td>University of Texas Systems</td>\n      <td>4</td>\n    </tr>\n    <tr>\n      <th>2</th>\n      <td>UNIVERSITY OF TEXAS M. D. ANDERSON CANCER CENTER</td>\n      <td>746001118</td>\n      <td>1174582050</td>\n      <td>22</td>\n      <td>Facility</td>\n      <td>Houston-The Woodlands-Sugar Land, TX</td>\n      <td>HCPCS</td>\n      <td>J9299</td>\n      <td>INJECTION, NIVOLUMAB</td>\n      <td>767</td>\n      <td>26778069.30</td>\n      <td>19083682.08</td>\n      <td>944</td>\n      <td>University of Texas Systems</td>\n      <td>4</td>\n    </tr>\n    <tr>\n      <th>3</th>\n      <td>UNIVERSITY OF TEXAS M. D. ANDERSON CANCER CENTER</td>\n      <td>746001118</td>\n      <td>1174582050</td>\n      <td>22</td>\n      <td>Facility</td>\n      <td>Houston-The Woodlands-Sugar Land, TX</td>\n      <td>CPT</td>\n      <td>71260</td>\n      <td>CT THORAX DX C+</td>\n      <td>7139</td>\n      <td>24869128.00</td>\n      <td>17845607.03</td>\n      <td>7128</td>\n      <td>University of Texas Systems</td>\n      <td>4</td>\n    </tr>\n    <tr>\n      <th>4</th>\n      <td>MEMORIAL HERMANN HEALTH SYSTEM</td>\n      <td>741152597</td>\n      <td>1730132234</td>\n      <td>22</td>\n      <td>Facility</td>\n      <td>Houston-The Woodlands-Sugar Land, TX</td>\n      <td>CPT</td>\n      <td>99284</td>\n      <td>EMERGENCY DEPT VISIT</td>\n      <td>5223</td>\n      <td>56794476.00</td>\n      <td>16745749.27</td>\n      <td>5223</td>\n      <td>Memorial Hermann Hospital System</td>\n      <td>6</td>\n    </tr>\n    <tr>\n      <th>...</th>\n      <td>...</td>\n      <td>...</td>\n      <td>...</td>\n      <td>...</td>\n      <td>...</td>\n      <td>...</td>\n      <td>...</td>\n      <td>...</td>\n      <td>...</td>\n      <td>...</td>\n      <td>...</td>\n      <td>...</td>\n      <td>...</td>\n      <td>...</td>\n      <td>...</td>\n    </tr>\n    <tr>\n      <th>145714</th>\n      <td>BAYLOR SCOTT &amp; WHITE MEDICAL CENTERS - CAPITOL...</td>\n      <td>813040663</td>\n      <td>1902366305</td>\n      <td>22</td>\n      <td>Facility</td>\n      <td>Austin-Round Rock-Georgetown, TX</td>\n      <td>HCPCS</td>\n      <td>G1004</td>\n      <td>CDSM NDSC</td>\n      <td>218</td>\n      <td>2.28</td>\n      <td>0.01</td>\n      <td>219</td>\n      <td>Baylor Scott and White Health</td>\n      <td>2</td>\n    </tr>\n    <tr>\n      <th>145715</th>\n      <td>ST. LUKE'S COMMUNITY HEALTH SERVICES</td>\n      <td>760536234</td>\n      <td>1942208616</td>\n      <td>22</td>\n      <td>Facility</td>\n      <td>Houston-The Woodlands-Sugar Land, TX</td>\n      <td>HCPCS</td>\n      <td>J7512</td>\n      <td>PREDNISONE IR OR DR ORAL 1MG</td>\n      <td>1</td>\n      <td>0.25</td>\n      <td>0.01</td>\n      <td>1</td>\n      <td>CHI St Lukes Health</td>\n      <td>14</td>\n    </tr>\n    <tr>\n      <th>145716</th>\n      <td>SCOTT &amp; WHITE HOSPITAL - BRENHAM</td>\n      <td>742519752</td>\n      <td>1154315307</td>\n      <td>22</td>\n      <td>Facility</td>\n      <td>Brenham, TX</td>\n      <td>HCPCS</td>\n      <td>G1004</td>\n      <td>CDSM NDSC</td>\n      <td>200</td>\n      <td>2.17</td>\n      <td>0.01</td>\n      <td>201</td>\n      <td>Baylor Scott and White Health</td>\n      <td>2</td>\n    </tr>\n    <tr>\n      <th>145717</th>\n      <td>TEXAS INSTITUTE FOR SURGERY, LLP</td>\n      <td>770628004</td>\n      <td>1245201656</td>\n      <td>22</td>\n      <td>Facility</td>\n      <td>Dallas-Fort Worth-Arlington, TX</td>\n      <td>CPT</td>\n      <td>27659</td>\n      <td>REPAIR OF LEG TENDON EACH</td>\n      <td>1</td>\n      <td>0.01</td>\n      <td>0.01</td>\n      <td>1</td>\n      <td>Texas Health Resources</td>\n      <td>3</td>\n    </tr>\n    <tr>\n      <th>145718</th>\n      <td>UNIVERSITY OF TEXAS SOUTHWESTERN MEDICAL CENTE...</td>\n      <td>753175630</td>\n      <td>1285798918</td>\n      <td>22</td>\n      <td>Facility</td>\n      <td>Dallas-Fort Worth-Arlington, TX</td>\n      <td>HCPCS</td>\n      <td>C1819</td>\n      <td>TISSUE LOCALIZATION-EXCISION</td>\n      <td>1</td>\n      <td>0.01</td>\n      <td>0.01</td>\n      <td>1</td>\n      <td>Texas Health Resources</td>\n      <td>3</td>\n    </tr>\n  </tbody>\n</table>\n<p>145719 rows × 15 columns</p>\n</div>"
     },
     "execution_count": 202,
     "metadata": {},
     "output_type": "execute_result"
    }
   ],
   "source": [
    "\n",
    "df_claims_op = df_claims.copy()\n",
    "df_claims_op = df_claims_op[df_claims_op.state == 'TX']\n",
    "df_claims_op = df_claims_op[df_claims_op['proceduretype'] != 'DRG']\n",
    "df_claims_op = df_claims_op[df_claims_op['proceduretype'] != 'Revenue']\n",
    "df_claims_op.billingprovidertaxid = df_claims_op.billingprovidertaxid.fillna(0).apply( lambda x : 0 if x == '00000PROV' else x )\n",
    "df_claims_op.billingprovidertaxid = df_claims_op.billingprovidertaxid.fillna(0).apply( lambda x : 0 if x == '' else int(x) )\n",
    "\n",
    "# Filter and convert data type\n",
    "df_claims_op = df_claims_op[(df_claims_op.billingprovidertaxid != 0) & (df_claims_op.billingprovidertaxid != 111111111) & (df_claims_op.billingprovidertaxid != 999999999)]\n",
    "df_claims_op = df_claims_op.astype({'billingprovidertaxid': str})\n",
    "\n",
    "\n",
    "df_covered = df_claims_op.groupby(['tpaclaimid']).agg({'amtcovered': 'sum'})\n",
    "df_covered = df_covered[df_covered.amtcovered > 0]\n",
    "df_claims_op = df_claims_op[df_claims_op.tpaclaimid.isin(df_covered.index)]\n",
    "\n",
    "df_claims_op_er = df_claims_op[df_claims_op['er_visitid'].notnull()]\n",
    "df_claims_op = df_claims_op[df_claims_op['er_visitid'].isnull()]\n",
    "\n",
    "df_er_99281 = df_claims_op_er[df_claims_op_er['procedurecode'] == '99281']\n",
    "df_er_99281 = df_er_99281.groupby(['tpaclaimid']).agg({'amtcovered': 'sum'})\n",
    "df_er_temp_1 = df_claims_op_er[df_claims_op_er.tpaclaimid.isin(df_er_99281.index)]\n",
    "df_er_temp_1['procedurecode'] = '99281'\n",
    "\n",
    "\n",
    "df_er_99282 = df_claims_op_er[df_claims_op_er['procedurecode'] == '99282']\n",
    "df_er_99282 = df_er_99282.groupby(['tpaclaimid']).agg({'amtcovered': 'sum'})\n",
    "df_er_temp_2 = df_claims_op_er[df_claims_op_er.tpaclaimid.isin(df_er_99282.index)]\n",
    "df_er_temp_2['procedurecode'] = '99282'\n",
    "\n",
    "df_er_99283 = df_claims_op_er[df_claims_op_er['procedurecode'] == '99283']\n",
    "df_er_99283 = df_er_99283.groupby(['tpaclaimid']).agg({'amtcovered': 'sum'})\n",
    "df_er_temp_3 = df_claims_op_er[df_claims_op_er.tpaclaimid.isin(df_er_99283.index)]\n",
    "df_er_temp_3['procedurecode'] = '99283'\n",
    "\n",
    "df_er_99284 = df_claims_op_er[df_claims_op_er['procedurecode'] == '99284']\n",
    "df_er_99284 = df_er_99284.groupby(['tpaclaimid']).agg({'amtcovered': 'sum'})\n",
    "df_er_temp_4 = df_claims_op_er[df_claims_op_er.tpaclaimid.isin(df_er_99284.index)]\n",
    "df_er_temp_4['procedurecode'] = '99284'\n",
    "\n",
    "df_er_99285 = df_claims_op_er[df_claims_op_er['procedurecode'] == '99285']\n",
    "df_er_99285 = df_er_99285.groupby(['tpaclaimid']).agg({'amtcovered': 'sum'})\n",
    "df_er_temp_5 = df_claims_op_er[df_claims_op_er.tpaclaimid.isin(df_er_99285.index)]\n",
    "df_er_temp_5['procedurecode'] = '99285'\n",
    "\n",
    "df_er_temp = pd.concat([df_er_temp_1, df_er_temp_2, df_er_temp_3, df_er_temp_4, df_er_temp_5])\n",
    "df_er_temp['procedurename'] = 'EMERGENCY DEPT VISIT'\n",
    "df_er_temp['proceduretype'] = 'CPT'\n",
    "\n",
    "# Group and aggregate\n",
    "df_claims_op['codecount'] = df_claims_op['poscodecount'] - df_claims_op['negcodecount']\n",
    "df_claims_op = df_claims_op.groupby(['billingprovidername', 'billingprovidertaxid','billingprovidernpi', 'locationtype', 'facility_indicator', 'cbsa_name', 'proceduretype', 'procedurecode', 'procedurename']).agg({'tpaclaimid': 'nunique', 'amtcovered':'sum', 'amtallowed': 'sum', 'codecount':'sum'}).reset_index()\n",
    "df_claims_op = df_claims_op.rename(columns={'tpaclaimid': 'claimcount'})\n",
    "\n",
    "# Group and aggregate\n",
    "df_er_temp['codecount'] = df_er_temp['poscodecount'] - df_er_temp['negcodecount']\n",
    "df_er_temp = df_er_temp.groupby(['billingprovidername', 'billingprovidertaxid','billingprovidernpi', 'locationtype', 'facility_indicator', 'cbsa_name', 'proceduretype', 'procedurecode', 'procedurename']).agg({'tpaclaimid': 'nunique', 'amtcovered':'sum', 'amtallowed': 'sum', 'codecount':'sum'}).reset_index()\n",
    "df_er_temp = df_er_temp.rename(columns={'tpaclaimid': 'claimcount'})\n",
    "df_er_temp['codecount'] = df_er_temp['claimcount']\n",
    "\n",
    "df_claims_op = pd.concat([df_claims_op, df_er_temp])\n",
    "\n",
    "df_claims_op = df_claims_op.groupby(['billingprovidername', 'billingprovidertaxid','billingprovidernpi', 'locationtype', 'facility_indicator', 'cbsa_name', 'proceduretype', 'procedurecode', 'procedurename']).agg({'claimcount': 'sum', 'amtcovered':'sum', 'amtallowed': 'sum', 'codecount':'sum'}).reset_index()\n",
    "\n",
    "# Sort, merge and query\n",
    "df_claims_op = df_claims_op.sort_values('amtallowed', ascending = False)\n",
    "df_claims_op = df_claims_op.merge(Top20[['IDN', 'rank', 'billingprovidertaxid']].drop_duplicates(), on='billingprovidertaxid', how='left')\n",
    "\n",
    "df_claims_op = df_claims_op[df_claims_op['amtallowed'] > 0]\n",
    "\n",
    "# df_claims_op = df_claims_op[df_claims_op['billingprovidertaxid'] == '741152597']\n",
    "# df_claims_op = df_claims_op[df_claims_op['billingprovidernpi'] == '1730132234']\n",
    "# df_claims_op = df_claims_op[df_claims_op['procedurecode'] == '99284']\n",
    "\n",
    "df_claims_op"
   ],
   "metadata": {
    "collapsed": false,
    "ExecuteTime": {
     "end_time": "2024-06-24T21:27:52.409253900Z",
     "start_time": "2024-06-24T21:26:49.123330800Z"
    }
   },
   "id": "9595ad5185f9d561"
  },
  {
   "cell_type": "code",
   "execution_count": 203,
   "outputs": [],
   "source": [
    "del df_claims"
   ],
   "metadata": {
    "collapsed": false,
    "ExecuteTime": {
     "end_time": "2024-06-24T21:27:52.441254300Z",
     "start_time": "2024-06-24T21:27:52.416254100Z"
    }
   },
   "id": "d233c362e66dbb64"
  },
  {
   "cell_type": "code",
   "execution_count": 204,
   "outputs": [],
   "source": [
    "tins_list = df_claims_op['billingprovidertaxid'].unique()\n",
    "tins_list = ', '.join(f\"'{tin}'\" for tin in tins_list)\n",
    "\n",
    "npi_list = df_claims_op['billingprovidernpi'].unique()\n",
    "npi_list = ', '.join(f\"'{npi}'\" for npi in npi_list)"
   ],
   "metadata": {
    "collapsed": false,
    "ExecuteTime": {
     "end_time": "2024-06-24T21:27:52.519258600Z",
     "start_time": "2024-06-24T21:27:52.428253800Z"
    }
   },
   "id": "c11f5184a125abcb"
  },
  {
   "cell_type": "markdown",
   "source": [
    "### MRF Search Stage Rates"
   ],
   "metadata": {
    "collapsed": false
   },
   "id": "2360351e702c694e"
  },
  {
   "cell_type": "code",
   "execution_count": 205,
   "outputs": [],
   "source": [
    "# sSQL = '''\n",
    "# SELECT *\n",
    "# FROM \t\t\n",
    "# hive.mrf.mrf_search_stage\t\n",
    "# WHERE \t\t\n",
    "# plan_group_alias in ('bcbs_tx_ppo','uhc_choice_plus', 'aetna_open_access_managed', 'cigna_national_oap')\n",
    "# and taxid in ({tins})\n",
    "# and npi in ({npi})\n",
    "# and billing_code_type = 'CPT'\n",
    "# and billing_class = 'institutional'\n",
    "# '''.format(tins=tins_list, npi=npi_list)\n",
    "# \n",
    "# \n",
    "# mrf_search_stage = read_from_hive(sSQL)\n",
    "# \n",
    "# del sSQL\n",
    "# \n",
    "# mrf_search_stage.to_csv('search_stage_op.gz',index=False, compression='gzip')"
   ],
   "metadata": {
    "collapsed": false,
    "ExecuteTime": {
     "end_time": "2024-06-24T21:27:52.551259600Z",
     "start_time": "2024-06-24T21:27:52.459255600Z"
    }
   },
   "id": "9cbe82c1f5d0a888"
  },
  {
   "cell_type": "markdown",
   "source": [
    "### INN Provider Rates"
   ],
   "metadata": {
    "collapsed": false
   },
   "id": "e9b886f6767dfe5e"
  },
  {
   "cell_type": "code",
   "execution_count": 206,
   "outputs": [],
   "source": [
    "# sSQL = '''\n",
    "# SELECT\n",
    "#     npi,\n",
    "#     tin_value as taxid, \n",
    "#     r.plan_group_alias,\t\n",
    "#     billing_code,\n",
    "#     billing_code_type,\n",
    "#     negotiated_type,\n",
    "# \tnegotiated_rate as negotiated_rate_cal   \t\t\t\t\n",
    "# \n",
    "# FROM \t\t\t\t\n",
    "# \tmrf.mrf_in_network_rates r \t\t\t\n",
    "# JOIN\t\t\t\t\n",
    "# \t(\t\t\t\n",
    "# \t\tSELECT\t\t\n",
    "# \t\t\t tin_value,\n",
    "# \t\t\t npi,\t\n",
    "# \t\t\t group_id,\t\n",
    "# \t\t\t plan_group_alias\t\n",
    "# \t\t FROM \t\t\n",
    "# \t\t\t mrf.mrf_provider_references\t\n",
    "# \t\t WHERE \t\t\n",
    "# \t\t\t plan_group_alias in ('bcbs_tx_ppo', 'uhc_choice_plus','aetna_open_access_managed', 'cigna_national_oap')\t -- uhc_option_ppo\n",
    "# \t\t\t and tin_value in ({tins})\n",
    "# \t\t\t and npi in ({npi})\n",
    "# \t\t GROUP BY\t\t\n",
    "# \t\t\t 1,2,3,4\t\n",
    "# \t) n\t\t\t\n",
    "# ON \t\t\t\t\n",
    "# \tn.group_id = r.provider_reference\t\t\t\n",
    "# \t and n.plan_group_alias = r.plan_group_alias\t\t\t\n",
    "# WHERE\t\t\t\t\n",
    "# \t r.plan_group_alias in ('bcbs_tx_ppo', 'uhc_choice_plus','aetna_open_access_managed', 'cigna_national_oap')\t\t\n",
    "#  --    and negotiated_type in ('percentage','per diem')\n",
    "#      and billing_code_type in ('CPT', 'HCPCS')\n",
    "# \t and negotiated_rate <> 0\n",
    "#      and billing_class = 'institutional'\n",
    "# --Group by 1,2,3,4,5,6\n",
    "# order by 1, 2, 3\n",
    "# '''.format(tins=tins_list, npi=npi_list)\n",
    "# \n",
    "# df_in_network = read_from_hive(sSQL) \n",
    "# del sSQL\n",
    "# \n",
    "# df_in_network.to_csv('in_network_rates_op.gz',index=False, compression='gzip')"
   ],
   "metadata": {
    "collapsed": false,
    "ExecuteTime": {
     "end_time": "2024-06-24T21:27:52.568261700Z",
     "start_time": "2024-06-24T21:27:52.475255800Z"
    }
   },
   "id": "656b5d0b84d449e1"
  },
  {
   "cell_type": "markdown",
   "source": [
    "### CSTM All"
   ],
   "metadata": {
    "collapsed": false
   },
   "id": "aaf7f96209b8e169"
  },
  {
   "cell_type": "code",
   "execution_count": 207,
   "outputs": [],
   "source": [
    "# sSQL = '''\n",
    "# SELECT\n",
    "#     npi,\n",
    "#     tin_value as taxid, \n",
    "#     r.plan_group_alias,\t\n",
    "#     billing_code,\n",
    "#     billing_code_type,\n",
    "#     negotiated_type,\n",
    "# \tnegotiated_rate as negotiated_rate_cal,\n",
    "# \tadditional_information\t\t\t\n",
    "# \n",
    "# FROM \t\t\t\t\n",
    "# \tmrf.mrf_in_network_rates r \t\t\t\n",
    "# JOIN\t\t\t\t\n",
    "# \t(\t\t\t\n",
    "# \t\tSELECT\t\t\n",
    "# \t\t\t tin_value,\n",
    "# \t\t\t npi,\t\n",
    "# \t\t\t group_id,\t\n",
    "# \t\t\t plan_group_alias\t\n",
    "# \t\t FROM \t\t\n",
    "# \t\t\t mrf.mrf_provider_references\t\n",
    "# \t\t WHERE \t\t\n",
    "# \t\t\t plan_group_alias in ('bcbs_tx_ppo', 'uhc_choice_plus','aetna_open_access_managed', 'cigna_national_oap')\t -- uhc_option_ppo\n",
    "# \t\t\t and tin_value in ({tins})\n",
    "# \t\t\t and npi in ({npi})\n",
    "# \t\t GROUP BY\t\t\n",
    "# \t\t\t 1,2,3,4\t\n",
    "# \t) n\t\t\t\n",
    "# ON \t\t\t\t\n",
    "# \tn.group_id = r.provider_reference\t\t\t\n",
    "# \t and n.plan_group_alias = r.plan_group_alias\t\t\t\n",
    "# WHERE\t\t\t\t\n",
    "# \t r.plan_group_alias in ('bcbs_tx_ppo', 'uhc_choice_plus','aetna_open_access_managed', 'cigna_national_oap')\t\t\n",
    "#  --    and negotiated_type in ('percentage','per diem')\n",
    "#      and billing_code_type = 'CSTM-ALL'\n",
    "# \t and negotiated_rate <> 0\n",
    "#      and billing_class = 'institutional'\n",
    "# --Group by 1,2,3,4,5,6\n",
    "# order by 1, 2, 3\n",
    "# '''.format(tins=tins_list, npi=npi_list)\n",
    "# \n",
    "# df_in_network = read_from_hive(sSQL) \n",
    "# del sSQL\n",
    "# \n",
    "# df_in_network.to_csv('in_network_rates_cstm_op.gz',index=False, compression='gzip')"
   ],
   "metadata": {
    "collapsed": false,
    "ExecuteTime": {
     "end_time": "2024-06-24T21:27:52.569262500Z",
     "start_time": "2024-06-24T21:27:52.492256900Z"
    }
   },
   "id": "400f51aa81a42655"
  },
  {
   "cell_type": "markdown",
   "source": [
    "### Outlier Data"
   ],
   "metadata": {
    "collapsed": false
   },
   "id": "abdf5bd9db71ba77"
  },
  {
   "cell_type": "code",
   "execution_count": 208,
   "outputs": [],
   "source": [
    "# sSQL = '''\n",
    "# SELECT *\n",
    "# FROM \t\t\n",
    "# hive.mrf.outlier_result\n",
    "# WHERE \t\t\n",
    "# providerstate = 'TX'\n",
    "# and billing_class = 'institutional'\n",
    "# \n",
    "# '''\n",
    "# \n",
    "# \n",
    "# outlier_rates = read_from_hive(sSQL)\n",
    "# \n",
    "# del sSQL\n",
    "# \n",
    "# outlier_rates.to_csv('outlier_result.gz',index=False, compression='gzip')"
   ],
   "metadata": {
    "collapsed": false,
    "ExecuteTime": {
     "end_time": "2024-06-24T21:27:52.570261600Z",
     "start_time": "2024-06-24T21:27:52.508258500Z"
    }
   },
   "id": "2b0c310855fd7a4c"
  },
  {
   "cell_type": "code",
   "execution_count": 396,
   "outputs": [
    {
     "data": {
      "text/plain": "                npi      taxid    plan_group_alias billing_code  \\\n0        1003344334  813935393         bcbs_tx_ppo        0001U   \n1        1003344334  813935393  cigna_national_oap        0001U   \n2        1003344334  813935393         bcbs_tx_ppo        0003M   \n3        1003344334  813935393  cigna_national_oap        0003M   \n4        1003344334  813935393  cigna_national_oap        0007U   \n...             ...        ...                 ...          ...   \n2407597  1992707228  752559845         bcbs_tx_ppo        99489   \n2407598  1992707228  752559845         bcbs_tx_ppo        99490   \n2407600  1992707228  752559845         bcbs_tx_ppo        99496   \n2407602  1992707228  752559845         bcbs_tx_ppo        99498   \n2407603  1992707228  752559845         bcbs_tx_ppo        99512   \n\n        billing_code_type negotiated_type  negotiated_rate_cal  \\\n0                     CPT      negotiated               698.40   \n1                     CPT    fee schedule               477.36   \n2                     CPT      negotiated               488.30   \n3                     CPT    fee schedule               331.19   \n4                     CPT    fee schedule                76.25   \n...                   ...             ...                  ...   \n2407597               CPT      negotiated               131.22   \n2407598               CPT      negotiated               159.60   \n2407600               CPT      negotiated               570.38   \n2407602               CPT      negotiated               372.35   \n2407603               CPT      negotiated               235.82   \n\n                   source  \n0        mrf_search_stage  \n1        mrf_search_stage  \n2        mrf_search_stage  \n3        mrf_search_stage  \n4        mrf_search_stage  \n...                   ...  \n2407597  mrf_search_stage  \n2407598  mrf_search_stage  \n2407600  mrf_search_stage  \n2407602  mrf_search_stage  \n2407603  mrf_search_stage  \n\n[2310645 rows x 8 columns]",
      "text/html": "<div>\n<style scoped>\n    .dataframe tbody tr th:only-of-type {\n        vertical-align: middle;\n    }\n\n    .dataframe tbody tr th {\n        vertical-align: top;\n    }\n\n    .dataframe thead th {\n        text-align: right;\n    }\n</style>\n<table border=\"1\" class=\"dataframe\">\n  <thead>\n    <tr style=\"text-align: right;\">\n      <th></th>\n      <th>npi</th>\n      <th>taxid</th>\n      <th>plan_group_alias</th>\n      <th>billing_code</th>\n      <th>billing_code_type</th>\n      <th>negotiated_type</th>\n      <th>negotiated_rate_cal</th>\n      <th>source</th>\n    </tr>\n  </thead>\n  <tbody>\n    <tr>\n      <th>0</th>\n      <td>1003344334</td>\n      <td>813935393</td>\n      <td>bcbs_tx_ppo</td>\n      <td>0001U</td>\n      <td>CPT</td>\n      <td>negotiated</td>\n      <td>698.40</td>\n      <td>mrf_search_stage</td>\n    </tr>\n    <tr>\n      <th>1</th>\n      <td>1003344334</td>\n      <td>813935393</td>\n      <td>cigna_national_oap</td>\n      <td>0001U</td>\n      <td>CPT</td>\n      <td>fee schedule</td>\n      <td>477.36</td>\n      <td>mrf_search_stage</td>\n    </tr>\n    <tr>\n      <th>2</th>\n      <td>1003344334</td>\n      <td>813935393</td>\n      <td>bcbs_tx_ppo</td>\n      <td>0003M</td>\n      <td>CPT</td>\n      <td>negotiated</td>\n      <td>488.30</td>\n      <td>mrf_search_stage</td>\n    </tr>\n    <tr>\n      <th>3</th>\n      <td>1003344334</td>\n      <td>813935393</td>\n      <td>cigna_national_oap</td>\n      <td>0003M</td>\n      <td>CPT</td>\n      <td>fee schedule</td>\n      <td>331.19</td>\n      <td>mrf_search_stage</td>\n    </tr>\n    <tr>\n      <th>4</th>\n      <td>1003344334</td>\n      <td>813935393</td>\n      <td>cigna_national_oap</td>\n      <td>0007U</td>\n      <td>CPT</td>\n      <td>fee schedule</td>\n      <td>76.25</td>\n      <td>mrf_search_stage</td>\n    </tr>\n    <tr>\n      <th>...</th>\n      <td>...</td>\n      <td>...</td>\n      <td>...</td>\n      <td>...</td>\n      <td>...</td>\n      <td>...</td>\n      <td>...</td>\n      <td>...</td>\n    </tr>\n    <tr>\n      <th>2407597</th>\n      <td>1992707228</td>\n      <td>752559845</td>\n      <td>bcbs_tx_ppo</td>\n      <td>99489</td>\n      <td>CPT</td>\n      <td>negotiated</td>\n      <td>131.22</td>\n      <td>mrf_search_stage</td>\n    </tr>\n    <tr>\n      <th>2407598</th>\n      <td>1992707228</td>\n      <td>752559845</td>\n      <td>bcbs_tx_ppo</td>\n      <td>99490</td>\n      <td>CPT</td>\n      <td>negotiated</td>\n      <td>159.60</td>\n      <td>mrf_search_stage</td>\n    </tr>\n    <tr>\n      <th>2407600</th>\n      <td>1992707228</td>\n      <td>752559845</td>\n      <td>bcbs_tx_ppo</td>\n      <td>99496</td>\n      <td>CPT</td>\n      <td>negotiated</td>\n      <td>570.38</td>\n      <td>mrf_search_stage</td>\n    </tr>\n    <tr>\n      <th>2407602</th>\n      <td>1992707228</td>\n      <td>752559845</td>\n      <td>bcbs_tx_ppo</td>\n      <td>99498</td>\n      <td>CPT</td>\n      <td>negotiated</td>\n      <td>372.35</td>\n      <td>mrf_search_stage</td>\n    </tr>\n    <tr>\n      <th>2407603</th>\n      <td>1992707228</td>\n      <td>752559845</td>\n      <td>bcbs_tx_ppo</td>\n      <td>99512</td>\n      <td>CPT</td>\n      <td>negotiated</td>\n      <td>235.82</td>\n      <td>mrf_search_stage</td>\n    </tr>\n  </tbody>\n</table>\n<p>2310645 rows × 8 columns</p>\n</div>"
     },
     "execution_count": 396,
     "metadata": {},
     "output_type": "execute_result"
    }
   ],
   "source": [
    "mrf_search_stage = pd.read_csv('search_stage_op.gz', compression='gzip', low_memory=False, dtype={'taxid': str, 'npi': str, 'billing_code': str})\n",
    "mrf_search_stage = mrf_search_stage[['npi','taxid', 'plan_group_alias', 'billing_code', 'billing_code_type','negotiated_type', 'negotiated_rate_cal', 'processing_information']]\n",
    "mrf_search_stage.fillna('None', inplace=True)\n",
    "\n",
    "# Define a custom sort order\n",
    "sort_order = {'None': 1, 'Expanded From CSTM-ALL': 2}\n",
    "\n",
    "# Create a new column 'sort_order' based on the 'negotiated_type' column\n",
    "mrf_search_stage['sort_order'] = mrf_search_stage['processing_information'].map(sort_order)\n",
    "mrf_search_stage.sort_values(by=['npi','taxid','billing_code','billing_code_type', 'plan_group_alias', 'sort_order' ], inplace=True)\n",
    "\n",
    "\n",
    "# Find duplicates\n",
    "duplicates = mrf_search_stage.duplicated(subset=['npi', 'taxid', 'plan_group_alias', 'billing_code', 'billing_code_type'], keep='first')\n",
    "\n",
    "# Keep only non-duplicates\n",
    "mrf_search_stage = mrf_search_stage[~duplicates]\n",
    "\n",
    "# Drop the 'sort_order' column as it's no longer needed\n",
    "mrf_search_stage = mrf_search_stage.drop(columns=['processing_information', 'sort_order'])\n",
    "\n",
    "outlier_rates = pd.read_csv('outlier_result.gz', compression='gzip', low_memory=False, dtype={'billing_code': str})\n",
    "outlier_rates = outlier_rates[outlier_rates['billing_code_type'] != 'HCPCS']\n",
    "removed_outliers = ['80053','99284', 'J9271', '97110', '77067', 'J9299', '99283', '99285', '99281', '99282', '77300']\n",
    "outlier_rates = outlier_rates[~outlier_rates['billing_code'].isin(removed_outliers)]\n",
    "outlier_rates = outlier_rates[['billing_code_type', 'billing_code', 'negotiated_type', 'rec_lb_outlier', 'rec_ub_outlier']].drop_duplicates()\n",
    "mrf_search_stage = mrf_search_stage.merge(outlier_rates, on=['billing_code', 'billing_code_type', 'negotiated_type'], how='left')\n",
    "mrf_search_stage.rename(columns={'negotiated_rate':'negotiated_rate_cal'}, inplace=True)\n",
    "\n",
    "def remove_outliers(row, column):\n",
    "    if row['rec_ub_outlier'] < row[column] and row['negotiated_type'] != 'percentage':\n",
    "        return 0\n",
    "    elif row['rec_lb_outlier'] > row[column] and row['negotiated_type'] != 'percentage':\n",
    "        return 0\n",
    "    else:\n",
    "        return row[column]\n",
    "\n",
    "columns_to_update = ['negotiated_rate_cal']\n",
    "\n",
    "for column in columns_to_update:\n",
    "    mrf_search_stage[column] = mrf_search_stage.apply(remove_outliers, args=(column,), axis=1)\n",
    "\n",
    "mrf_search_stage = mrf_search_stage[mrf_search_stage['negotiated_rate_cal'] != 0]\n",
    "mrf_search_stage.drop(columns=['rec_lb_outlier', 'rec_ub_outlier'], inplace=True)\n",
    "\n",
    "mrf_search_stage['source'] = 'mrf_search_stage'\n",
    "\n",
    "# mrf_search_stage = mrf_search_stage[mrf_search_stage['billing_code'] == '97799']\n",
    "# mrf_search_stage = mrf_search_stage[mrf_search_stage['taxid'] == '274586141']\n",
    "mrf_search_stage\n"
   ],
   "metadata": {
    "collapsed": false,
    "ExecuteTime": {
     "end_time": "2024-06-25T13:54:03.722642100Z",
     "start_time": "2024-06-25T13:53:17.446134700Z"
    }
   },
   "id": "e69e27a316878daf"
  },
  {
   "cell_type": "code",
   "execution_count": 397,
   "outputs": [],
   "source": [
    "inn_rates = pd.read_csv('in_network_rates_op.gz', compression='gzip', low_memory=False, dtype={'taxid': str, 'npi': str, 'billing_code': str})\n",
    "\n",
    "# inn_rates = inn_rates[inn_rates['billing_code'] == '97799']\n",
    "# inn_rates = inn_rates[inn_rates['taxid'] == '274586141']\n",
    "# inn_rates\n",
    "inn_rates = inn_rates.merge(outlier_rates, on=['billing_code', 'billing_code_type', 'negotiated_type'], how='left')\n",
    "\n",
    "\n",
    "for column in columns_to_update:\n",
    "    inn_rates[column] = inn_rates.apply(remove_outliers, args=(column,), axis=1)\n",
    "\n",
    "inn_rates = inn_rates[inn_rates['negotiated_rate_cal'] != 0]\n",
    "inn_rates.drop(columns=['rec_lb_outlier', 'rec_ub_outlier'], inplace=True)\n",
    "\n",
    "inn_rates['source'] = 'mrf_in_network_rates'"
   ],
   "metadata": {
    "collapsed": false,
    "ExecuteTime": {
     "end_time": "2024-06-25T13:55:18.759999300Z",
     "start_time": "2024-06-25T13:54:03.725643700Z"
    }
   },
   "id": "d38dc49472169b12"
  },
  {
   "cell_type": "code",
   "execution_count": 408,
   "outputs": [
    {
     "data": {
      "text/plain": "            npi      taxid negotiated_type_cstm  cigna_national_oap_cstm  \\\n0    1003344334  813935393           percentage                   37.360   \n1    1003883158  432008974           percentage                   65.275   \n2    1003885641  741109836           percentage                   53.720   \n3    1013085083  202850920           percentage                   75.000   \n4    1023065794  621810381           percentage                   28.200   \n..          ...        ...                  ...                      ...   \n208  1972709970  954537720           percentage                   39.625   \n209  1982609558  481260190           percentage                   58.000   \n210  1982666111  741152597           percentage                   52.140   \n211  1992700983  752586857           percentage                   58.000   \n212  1992707228  752559845           percentage                   72.000   \n\n         source  \n0    cstm_rates  \n1    cstm_rates  \n2    cstm_rates  \n3    cstm_rates  \n4    cstm_rates  \n..          ...  \n208  cstm_rates  \n209  cstm_rates  \n210  cstm_rates  \n211  cstm_rates  \n212  cstm_rates  \n\n[213 rows x 5 columns]",
      "text/html": "<div>\n<style scoped>\n    .dataframe tbody tr th:only-of-type {\n        vertical-align: middle;\n    }\n\n    .dataframe tbody tr th {\n        vertical-align: top;\n    }\n\n    .dataframe thead th {\n        text-align: right;\n    }\n</style>\n<table border=\"1\" class=\"dataframe\">\n  <thead>\n    <tr style=\"text-align: right;\">\n      <th></th>\n      <th>npi</th>\n      <th>taxid</th>\n      <th>negotiated_type_cstm</th>\n      <th>cigna_national_oap_cstm</th>\n      <th>source</th>\n    </tr>\n  </thead>\n  <tbody>\n    <tr>\n      <th>0</th>\n      <td>1003344334</td>\n      <td>813935393</td>\n      <td>percentage</td>\n      <td>37.360</td>\n      <td>cstm_rates</td>\n    </tr>\n    <tr>\n      <th>1</th>\n      <td>1003883158</td>\n      <td>432008974</td>\n      <td>percentage</td>\n      <td>65.275</td>\n      <td>cstm_rates</td>\n    </tr>\n    <tr>\n      <th>2</th>\n      <td>1003885641</td>\n      <td>741109836</td>\n      <td>percentage</td>\n      <td>53.720</td>\n      <td>cstm_rates</td>\n    </tr>\n    <tr>\n      <th>3</th>\n      <td>1013085083</td>\n      <td>202850920</td>\n      <td>percentage</td>\n      <td>75.000</td>\n      <td>cstm_rates</td>\n    </tr>\n    <tr>\n      <th>4</th>\n      <td>1023065794</td>\n      <td>621810381</td>\n      <td>percentage</td>\n      <td>28.200</td>\n      <td>cstm_rates</td>\n    </tr>\n    <tr>\n      <th>...</th>\n      <td>...</td>\n      <td>...</td>\n      <td>...</td>\n      <td>...</td>\n      <td>...</td>\n    </tr>\n    <tr>\n      <th>208</th>\n      <td>1972709970</td>\n      <td>954537720</td>\n      <td>percentage</td>\n      <td>39.625</td>\n      <td>cstm_rates</td>\n    </tr>\n    <tr>\n      <th>209</th>\n      <td>1982609558</td>\n      <td>481260190</td>\n      <td>percentage</td>\n      <td>58.000</td>\n      <td>cstm_rates</td>\n    </tr>\n    <tr>\n      <th>210</th>\n      <td>1982666111</td>\n      <td>741152597</td>\n      <td>percentage</td>\n      <td>52.140</td>\n      <td>cstm_rates</td>\n    </tr>\n    <tr>\n      <th>211</th>\n      <td>1992700983</td>\n      <td>752586857</td>\n      <td>percentage</td>\n      <td>58.000</td>\n      <td>cstm_rates</td>\n    </tr>\n    <tr>\n      <th>212</th>\n      <td>1992707228</td>\n      <td>752559845</td>\n      <td>percentage</td>\n      <td>72.000</td>\n      <td>cstm_rates</td>\n    </tr>\n  </tbody>\n</table>\n<p>213 rows × 5 columns</p>\n</div>"
     },
     "execution_count": 408,
     "metadata": {},
     "output_type": "execute_result"
    }
   ],
   "source": [
    "cstm_rates = pd.read_csv('in_network_rates_cstm_op.gz', compression='gzip', low_memory=False, dtype={'taxid': str, 'npi': str, 'billing_code': str})\n",
    "\n",
    "cigna_cstm_rates = cstm_rates[cstm_rates['plan_group_alias'] == 'cigna_national_oap']\n",
    "cigna_cstm_rates = cigna_cstm_rates[cigna_cstm_rates['additional_information'] == 'Outpatient services not otherwise priced']\n",
    "cigna_cstm_rates = cigna_cstm_rates[cigna_cstm_rates['negotiated_type'] == 'percentage']\n",
    "cigna_cstm_rates = cigna_cstm_rates.groupby(['npi','taxid','plan_group_alias','billing_code','billing_code_type','negotiated_type']).agg({'negotiated_rate_cal':'mean'}).reset_index()\n",
    "cigna_cstm_rates['plan_group_alias'] = cigna_cstm_rates['plan_group_alias'].replace('cigna_national_oap', 'cigna_national_oap_cstm')\n",
    "cstm_cigna_0 = cigna_cstm_rates.pivot(index=['npi', 'taxid', 'billing_code', 'billing_code_type', 'negotiated_type'],\n",
    "                columns=['plan_group_alias'],\n",
    "                values=['negotiated_rate_cal']).reset_index()\n",
    "cstm_cigna_0.rename(columns={'negotiated_type':'negotiated_type_cstm'}, inplace=True)\n",
    "\n",
    "cstm_cigna_0.columns =  [item[0] if item[1] == '' else item[1] for item in cstm_cigna_0.columns]\n",
    "cstm_cigna_0.drop(columns=['billing_code', 'billing_code_type'], inplace=True)\n",
    "cstm_cigna_0['source'] = 'cstm_rates'\n",
    "cstm_cigna_0"
   ],
   "metadata": {
    "collapsed": false,
    "ExecuteTime": {
     "end_time": "2024-06-25T15:20:08.910654100Z",
     "start_time": "2024-06-25T15:20:08.846561500Z"
    }
   },
   "id": "8bc6b4e742935a15"
  },
  {
   "cell_type": "code",
   "execution_count": 399,
   "outputs": [
    {
     "data": {
      "text/plain": "              npi      taxid plan_group_alias billing_code billing_code_type  \\\n1      1003344334  813935393  uhc_choice_plus        93005               CPT   \n3      1003344334  813935393  uhc_choice_plus        99282               CPT   \n6      1003344334  813935393  uhc_choice_plus        99285               CPT   \n10     1003344334  813935393  uhc_choice_plus        77386               CPT   \n11     1003344334  813935393  uhc_choice_plus        77412               CPT   \n...           ...        ...              ...          ...               ...   \n37022  1992700983  752586857  uhc_choice_plus        74178               CPT   \n37023  1992700983  752586857  uhc_choice_plus        70496               CPT   \n37024  1992700983  752586857  uhc_choice_plus        70486               CPT   \n37025  1992700983  752586857  uhc_choice_plus        70491               CPT   \n37026  1992700983  752586857  uhc_choice_plus        70498               CPT   \n\n      negotiated_type  negotiated_rate_cal  \n1          negotiated                561.0  \n3          negotiated                761.0  \n6          negotiated               9086.0  \n10         negotiated               2067.0  \n11         negotiated               2067.0  \n...               ...                  ...  \n37022      negotiated               2114.0  \n37023      negotiated               2114.0  \n37024      negotiated               2114.0  \n37025      negotiated               2114.0  \n37026      negotiated               2114.0  \n\n[22984 rows x 7 columns]",
      "text/html": "<div>\n<style scoped>\n    .dataframe tbody tr th:only-of-type {\n        vertical-align: middle;\n    }\n\n    .dataframe tbody tr th {\n        vertical-align: top;\n    }\n\n    .dataframe thead th {\n        text-align: right;\n    }\n</style>\n<table border=\"1\" class=\"dataframe\">\n  <thead>\n    <tr style=\"text-align: right;\">\n      <th></th>\n      <th>npi</th>\n      <th>taxid</th>\n      <th>plan_group_alias</th>\n      <th>billing_code</th>\n      <th>billing_code_type</th>\n      <th>negotiated_type</th>\n      <th>negotiated_rate_cal</th>\n    </tr>\n  </thead>\n  <tbody>\n    <tr>\n      <th>1</th>\n      <td>1003344334</td>\n      <td>813935393</td>\n      <td>uhc_choice_plus</td>\n      <td>93005</td>\n      <td>CPT</td>\n      <td>negotiated</td>\n      <td>561.0</td>\n    </tr>\n    <tr>\n      <th>3</th>\n      <td>1003344334</td>\n      <td>813935393</td>\n      <td>uhc_choice_plus</td>\n      <td>99282</td>\n      <td>CPT</td>\n      <td>negotiated</td>\n      <td>761.0</td>\n    </tr>\n    <tr>\n      <th>6</th>\n      <td>1003344334</td>\n      <td>813935393</td>\n      <td>uhc_choice_plus</td>\n      <td>99285</td>\n      <td>CPT</td>\n      <td>negotiated</td>\n      <td>9086.0</td>\n    </tr>\n    <tr>\n      <th>10</th>\n      <td>1003344334</td>\n      <td>813935393</td>\n      <td>uhc_choice_plus</td>\n      <td>77386</td>\n      <td>CPT</td>\n      <td>negotiated</td>\n      <td>2067.0</td>\n    </tr>\n    <tr>\n      <th>11</th>\n      <td>1003344334</td>\n      <td>813935393</td>\n      <td>uhc_choice_plus</td>\n      <td>77412</td>\n      <td>CPT</td>\n      <td>negotiated</td>\n      <td>2067.0</td>\n    </tr>\n    <tr>\n      <th>...</th>\n      <td>...</td>\n      <td>...</td>\n      <td>...</td>\n      <td>...</td>\n      <td>...</td>\n      <td>...</td>\n      <td>...</td>\n    </tr>\n    <tr>\n      <th>37022</th>\n      <td>1992700983</td>\n      <td>752586857</td>\n      <td>uhc_choice_plus</td>\n      <td>74178</td>\n      <td>CPT</td>\n      <td>negotiated</td>\n      <td>2114.0</td>\n    </tr>\n    <tr>\n      <th>37023</th>\n      <td>1992700983</td>\n      <td>752586857</td>\n      <td>uhc_choice_plus</td>\n      <td>70496</td>\n      <td>CPT</td>\n      <td>negotiated</td>\n      <td>2114.0</td>\n    </tr>\n    <tr>\n      <th>37024</th>\n      <td>1992700983</td>\n      <td>752586857</td>\n      <td>uhc_choice_plus</td>\n      <td>70486</td>\n      <td>CPT</td>\n      <td>negotiated</td>\n      <td>2114.0</td>\n    </tr>\n    <tr>\n      <th>37025</th>\n      <td>1992700983</td>\n      <td>752586857</td>\n      <td>uhc_choice_plus</td>\n      <td>70491</td>\n      <td>CPT</td>\n      <td>negotiated</td>\n      <td>2114.0</td>\n    </tr>\n    <tr>\n      <th>37026</th>\n      <td>1992700983</td>\n      <td>752586857</td>\n      <td>uhc_choice_plus</td>\n      <td>70498</td>\n      <td>CPT</td>\n      <td>negotiated</td>\n      <td>2114.0</td>\n    </tr>\n  </tbody>\n</table>\n<p>22984 rows × 7 columns</p>\n</div>"
     },
     "execution_count": 399,
     "metadata": {},
     "output_type": "execute_result"
    }
   ],
   "source": [
    "uhc_cstm_rates = cstm_rates[cstm_rates['plan_group_alias'] == 'uhc_choice_plus']\n",
    "uhc_code_map = pd.read_csv('Data Sources/uhc_code_map.csv', dtype={'CPT': str})\n",
    "uhc_cstm_rates = uhc_cstm_rates.merge(uhc_code_map, on=['billing_code', 'billing_code_type'], how='left')\n",
    "uhc_cstm_rates.drop(columns=['billing_code', 'billing_code_type', 'additional_information', 'description'], inplace=True)\n",
    "uhc_cstm_rates.rename(columns={'CPT':'billing_code', 'Updated_billing_code_type':'billing_code_type'}, inplace=True)\n",
    "uhc_cstm_rates = uhc_cstm_rates[uhc_cstm_rates['billing_code'].notna()]\n",
    "uhc_cstm_rates['negotiated_type'] = uhc_cstm_rates['negotiated_type'].replace('per diem', 'negotiated')\n",
    "uhc_cstm_rates = uhc_cstm_rates[['npi','taxid', 'plan_group_alias', 'billing_code', 'billing_code_type','negotiated_type', 'negotiated_rate_cal']]\n",
    "uhc_cstm_rates"
   ],
   "metadata": {
    "collapsed": false,
    "ExecuteTime": {
     "end_time": "2024-06-25T13:55:18.884001Z",
     "start_time": "2024-06-25T13:55:18.814999900Z"
    }
   },
   "id": "fa95632aed2eaacc"
  },
  {
   "cell_type": "code",
   "execution_count": 400,
   "outputs": [
    {
     "data": {
      "text/plain": "                npi      taxid plan_group_alias billing_code  \\\n0        1003344334  813935393      bcbs_tx_ppo        0001U   \n1        1003344334  813935393      bcbs_tx_ppo        0003M   \n2        1003344334  813935393      bcbs_tx_ppo        00100   \n3        1003344334  813935393      bcbs_tx_ppo        00103   \n4        1003344334  813935393      bcbs_tx_ppo        00120   \n...             ...        ...              ...          ...   \n4512487  1992707228  752559845  uhc_choice_plus        G0516   \n4512488  1992707228  752559845  uhc_choice_plus        G0517   \n4512489  1992707228  752559845  uhc_choice_plus        G0518   \n4512490  1992707228  752559845  uhc_choice_plus        S2117   \n4512491  1992707228  752559845  uhc_choice_plus        S2325   \n\n        billing_code_type negotiated_type  negotiated_rate_cal  \n0                     CPT      negotiated                698.4  \n1                     CPT      negotiated                488.3  \n2                     CPT      percentage                 33.6  \n3                     CPT      percentage                 33.6  \n4                     CPT      percentage                 33.6  \n...                   ...             ...                  ...  \n4512487             HCPCS      negotiated               2500.0  \n4512488             HCPCS      negotiated               2500.0  \n4512489             HCPCS      negotiated               2500.0  \n4512490             HCPCS      negotiated               2500.0  \n4512491             HCPCS      negotiated               2500.0  \n\n[4512492 rows x 7 columns]",
      "text/html": "<div>\n<style scoped>\n    .dataframe tbody tr th:only-of-type {\n        vertical-align: middle;\n    }\n\n    .dataframe tbody tr th {\n        vertical-align: top;\n    }\n\n    .dataframe thead th {\n        text-align: right;\n    }\n</style>\n<table border=\"1\" class=\"dataframe\">\n  <thead>\n    <tr style=\"text-align: right;\">\n      <th></th>\n      <th>npi</th>\n      <th>taxid</th>\n      <th>plan_group_alias</th>\n      <th>billing_code</th>\n      <th>billing_code_type</th>\n      <th>negotiated_type</th>\n      <th>negotiated_rate_cal</th>\n    </tr>\n  </thead>\n  <tbody>\n    <tr>\n      <th>0</th>\n      <td>1003344334</td>\n      <td>813935393</td>\n      <td>bcbs_tx_ppo</td>\n      <td>0001U</td>\n      <td>CPT</td>\n      <td>negotiated</td>\n      <td>698.4</td>\n    </tr>\n    <tr>\n      <th>1</th>\n      <td>1003344334</td>\n      <td>813935393</td>\n      <td>bcbs_tx_ppo</td>\n      <td>0003M</td>\n      <td>CPT</td>\n      <td>negotiated</td>\n      <td>488.3</td>\n    </tr>\n    <tr>\n      <th>2</th>\n      <td>1003344334</td>\n      <td>813935393</td>\n      <td>bcbs_tx_ppo</td>\n      <td>00100</td>\n      <td>CPT</td>\n      <td>percentage</td>\n      <td>33.6</td>\n    </tr>\n    <tr>\n      <th>3</th>\n      <td>1003344334</td>\n      <td>813935393</td>\n      <td>bcbs_tx_ppo</td>\n      <td>00103</td>\n      <td>CPT</td>\n      <td>percentage</td>\n      <td>33.6</td>\n    </tr>\n    <tr>\n      <th>4</th>\n      <td>1003344334</td>\n      <td>813935393</td>\n      <td>bcbs_tx_ppo</td>\n      <td>00120</td>\n      <td>CPT</td>\n      <td>percentage</td>\n      <td>33.6</td>\n    </tr>\n    <tr>\n      <th>...</th>\n      <td>...</td>\n      <td>...</td>\n      <td>...</td>\n      <td>...</td>\n      <td>...</td>\n      <td>...</td>\n      <td>...</td>\n    </tr>\n    <tr>\n      <th>4512487</th>\n      <td>1992707228</td>\n      <td>752559845</td>\n      <td>uhc_choice_plus</td>\n      <td>G0516</td>\n      <td>HCPCS</td>\n      <td>negotiated</td>\n      <td>2500.0</td>\n    </tr>\n    <tr>\n      <th>4512488</th>\n      <td>1992707228</td>\n      <td>752559845</td>\n      <td>uhc_choice_plus</td>\n      <td>G0517</td>\n      <td>HCPCS</td>\n      <td>negotiated</td>\n      <td>2500.0</td>\n    </tr>\n    <tr>\n      <th>4512489</th>\n      <td>1992707228</td>\n      <td>752559845</td>\n      <td>uhc_choice_plus</td>\n      <td>G0518</td>\n      <td>HCPCS</td>\n      <td>negotiated</td>\n      <td>2500.0</td>\n    </tr>\n    <tr>\n      <th>4512490</th>\n      <td>1992707228</td>\n      <td>752559845</td>\n      <td>uhc_choice_plus</td>\n      <td>S2117</td>\n      <td>HCPCS</td>\n      <td>negotiated</td>\n      <td>2500.0</td>\n    </tr>\n    <tr>\n      <th>4512491</th>\n      <td>1992707228</td>\n      <td>752559845</td>\n      <td>uhc_choice_plus</td>\n      <td>S2325</td>\n      <td>HCPCS</td>\n      <td>negotiated</td>\n      <td>2500.0</td>\n    </tr>\n  </tbody>\n</table>\n<p>4512492 rows × 7 columns</p>\n</div>"
     },
     "execution_count": 400,
     "metadata": {},
     "output_type": "execute_result"
    }
   ],
   "source": [
    "df_rates = pd.concat([mrf_search_stage,inn_rates,uhc_cstm_rates])\n",
    "UTSW = pd.read_csv('ProviderFiles/utsw_op.csv', dtype={'npi': str, 'taxid': str, 'billing_code': str}).drop_duplicates()\n",
    "df_rates = df_rates.query(\"not (taxid.isin(['746001118']) and plan_group_alias == 'bcbs_tx_ppo' and negotiated_type == 'negotiated')\")\n",
    "df_rates = df_rates.query(\"not (taxid.isin(['741152597']) and npi.isin(['1730132234']))\")\n",
    "df_rates = df_rates.query(\"not (taxid.isin(['753175630']) and npi.isin(['1285798918']) and billing_code.isin(['77300']))\")\n",
    "df_rates = pd.concat([df_rates, UTSW])\n",
    "df_rates['negotiated_type'] = df_rates['negotiated_type'].replace('fee schedule', 'negotiated')\n",
    "\n",
    "\n",
    "\n",
    "\n",
    "df_rates.sort_values(by=['npi','taxid','plan_group_alias','billing_code','billing_code_type'], inplace=True)\n",
    "df_rates = df_rates.groupby(['npi','taxid','plan_group_alias','billing_code','billing_code_type','negotiated_type']).agg({'negotiated_rate_cal':'mean'}).reset_index()\n",
    "\n",
    "# df_rates = df_rates[df_rates['billing_code'] == 'Q5115']\n",
    "# df_rates = df_rates[df_rates['taxid'] == '753175630']\n",
    "df_rates\n"
   ],
   "metadata": {
    "collapsed": false,
    "ExecuteTime": {
     "end_time": "2024-06-25T13:55:30.880000400Z",
     "start_time": "2024-06-25T13:55:18.860001600Z"
    }
   },
   "id": "937d2f5c8e48d0f2"
  },
  {
   "cell_type": "code",
   "execution_count": 401,
   "outputs": [],
   "source": [
    "match_0 = df_rates.pivot(index=['npi', 'taxid', 'billing_code', 'billing_code_type', 'negotiated_type'],\n",
    "                columns=['plan_group_alias'],\n",
    "                values=['negotiated_rate_cal']).reset_index()\n",
    "\n",
    "match_0.columns =  [item[0] if item[1] == '' else item[1] for item in match_0.columns]\n",
    "\n",
    "\n"
   ],
   "metadata": {
    "collapsed": false,
    "ExecuteTime": {
     "end_time": "2024-06-25T13:55:34.788931800Z",
     "start_time": "2024-06-25T13:55:30.882000900Z"
    }
   },
   "id": "6f5d7a044c5c6975"
  },
  {
   "cell_type": "code",
   "execution_count": 402,
   "outputs": [
    {
     "data": {
      "text/plain": "             npi      taxid billing_code billing_code_type negotiated_type  \\\n0     1174582050  746001118        10004               CPT      percentage   \n1     1174582050  746001118        10005               CPT      percentage   \n2     1174582050  746001118        10006               CPT      percentage   \n3     1174582050  746001118        10007               CPT      percentage   \n4     1174582050  746001118        10008               CPT      percentage   \n...          ...        ...          ...               ...             ...   \n6977  1992707228  752559845        83520               CPT      percentage   \n6978  1992707228  752559845        82140               CPT      percentage   \n6979  1992707228  752559845        J0133             HCPCS      percentage   \n6980  1992707228  752559845        86735               CPT      percentage   \n6981  1992707228  752559845        84432               CPT      percentage   \n\n      aetna_open_access_managed  bcbs_tx_ppo  cigna_national_oap  \\\n0                          73.0         72.0                70.0   \n1                          73.0         72.0                70.0   \n2                          73.0         72.0                70.0   \n3                          73.0         72.0                70.0   \n4                          75.0         72.0                71.0   \n...                         ...          ...                 ...   \n6977                        0.0          0.0                75.0   \n6978                        0.0          0.0                75.0   \n6979                        0.0          0.0                75.0   \n6980                        0.0          0.0                75.0   \n6981                        0.0          0.0                75.0   \n\n      uhc_choice_plus         source  \n0                71.0  ProviderFiles  \n1                71.0  ProviderFiles  \n2                71.0  ProviderFiles  \n3                71.0  ProviderFiles  \n4                72.0  ProviderFiles  \n...               ...            ...  \n6977             78.0  ProviderFiles  \n6978             78.0  ProviderFiles  \n6979             78.0  ProviderFiles  \n6980             78.0  ProviderFiles  \n6981             78.0  ProviderFiles  \n\n[36576 rows x 10 columns]",
      "text/html": "<div>\n<style scoped>\n    .dataframe tbody tr th:only-of-type {\n        vertical-align: middle;\n    }\n\n    .dataframe tbody tr th {\n        vertical-align: top;\n    }\n\n    .dataframe thead th {\n        text-align: right;\n    }\n</style>\n<table border=\"1\" class=\"dataframe\">\n  <thead>\n    <tr style=\"text-align: right;\">\n      <th></th>\n      <th>npi</th>\n      <th>taxid</th>\n      <th>billing_code</th>\n      <th>billing_code_type</th>\n      <th>negotiated_type</th>\n      <th>aetna_open_access_managed</th>\n      <th>bcbs_tx_ppo</th>\n      <th>cigna_national_oap</th>\n      <th>uhc_choice_plus</th>\n      <th>source</th>\n    </tr>\n  </thead>\n  <tbody>\n    <tr>\n      <th>0</th>\n      <td>1174582050</td>\n      <td>746001118</td>\n      <td>10004</td>\n      <td>CPT</td>\n      <td>percentage</td>\n      <td>73.0</td>\n      <td>72.0</td>\n      <td>70.0</td>\n      <td>71.0</td>\n      <td>ProviderFiles</td>\n    </tr>\n    <tr>\n      <th>1</th>\n      <td>1174582050</td>\n      <td>746001118</td>\n      <td>10005</td>\n      <td>CPT</td>\n      <td>percentage</td>\n      <td>73.0</td>\n      <td>72.0</td>\n      <td>70.0</td>\n      <td>71.0</td>\n      <td>ProviderFiles</td>\n    </tr>\n    <tr>\n      <th>2</th>\n      <td>1174582050</td>\n      <td>746001118</td>\n      <td>10006</td>\n      <td>CPT</td>\n      <td>percentage</td>\n      <td>73.0</td>\n      <td>72.0</td>\n      <td>70.0</td>\n      <td>71.0</td>\n      <td>ProviderFiles</td>\n    </tr>\n    <tr>\n      <th>3</th>\n      <td>1174582050</td>\n      <td>746001118</td>\n      <td>10007</td>\n      <td>CPT</td>\n      <td>percentage</td>\n      <td>73.0</td>\n      <td>72.0</td>\n      <td>70.0</td>\n      <td>71.0</td>\n      <td>ProviderFiles</td>\n    </tr>\n    <tr>\n      <th>4</th>\n      <td>1174582050</td>\n      <td>746001118</td>\n      <td>10008</td>\n      <td>CPT</td>\n      <td>percentage</td>\n      <td>75.0</td>\n      <td>72.0</td>\n      <td>71.0</td>\n      <td>72.0</td>\n      <td>ProviderFiles</td>\n    </tr>\n    <tr>\n      <th>...</th>\n      <td>...</td>\n      <td>...</td>\n      <td>...</td>\n      <td>...</td>\n      <td>...</td>\n      <td>...</td>\n      <td>...</td>\n      <td>...</td>\n      <td>...</td>\n      <td>...</td>\n    </tr>\n    <tr>\n      <th>6977</th>\n      <td>1992707228</td>\n      <td>752559845</td>\n      <td>83520</td>\n      <td>CPT</td>\n      <td>percentage</td>\n      <td>0.0</td>\n      <td>0.0</td>\n      <td>75.0</td>\n      <td>78.0</td>\n      <td>ProviderFiles</td>\n    </tr>\n    <tr>\n      <th>6978</th>\n      <td>1992707228</td>\n      <td>752559845</td>\n      <td>82140</td>\n      <td>CPT</td>\n      <td>percentage</td>\n      <td>0.0</td>\n      <td>0.0</td>\n      <td>75.0</td>\n      <td>78.0</td>\n      <td>ProviderFiles</td>\n    </tr>\n    <tr>\n      <th>6979</th>\n      <td>1992707228</td>\n      <td>752559845</td>\n      <td>J0133</td>\n      <td>HCPCS</td>\n      <td>percentage</td>\n      <td>0.0</td>\n      <td>0.0</td>\n      <td>75.0</td>\n      <td>78.0</td>\n      <td>ProviderFiles</td>\n    </tr>\n    <tr>\n      <th>6980</th>\n      <td>1992707228</td>\n      <td>752559845</td>\n      <td>86735</td>\n      <td>CPT</td>\n      <td>percentage</td>\n      <td>0.0</td>\n      <td>0.0</td>\n      <td>75.0</td>\n      <td>78.0</td>\n      <td>ProviderFiles</td>\n    </tr>\n    <tr>\n      <th>6981</th>\n      <td>1992707228</td>\n      <td>752559845</td>\n      <td>84432</td>\n      <td>CPT</td>\n      <td>percentage</td>\n      <td>0.0</td>\n      <td>0.0</td>\n      <td>75.0</td>\n      <td>78.0</td>\n      <td>ProviderFiles</td>\n    </tr>\n  </tbody>\n</table>\n<p>36576 rows × 10 columns</p>\n</div>"
     },
     "execution_count": 402,
     "metadata": {},
     "output_type": "execute_result"
    }
   ],
   "source": [
    "MDAnderson = pd.read_csv('Data Sources/MDAndersonOP.csv', dtype={'npi': str, 'taxid': str, 'billing_code': str,'aetna_open_access_managed': float, 'bcbs_tx_ppo': float, 'cigna_national_oap': float, 'uhc_choice_plus': float}).drop_duplicates()\n",
    "MemorialHermann = pd.read_csv('ProviderFiles/MemorialHermann_OP.csv', dtype={'npi': str, 'taxid': str, 'billing_code': str,'aetna_open_access_managed': float, 'bcbs_tx_ppo': float, 'cigna_national_oap': float, 'uhc_choice_plus': float}).drop_duplicates()\n",
    "BSW = pd.read_csv('ProviderFiles/bsw_OP.csv', dtype={'npi': str, 'taxid': str, 'billing_code': str,'aetna_open_access_managed': float, 'bcbs_tx_ppo': float, 'cigna_national_oap': float, 'uhc_choice_plus': float}).drop_duplicates()\n",
    "MiscRates = pd.read_csv('ProviderFiles/MiscRates.csv', dtype={'npi': str, 'taxid': str, 'billing_code': str,'aetna_open_access_managed': float, 'bcbs_tx_ppo': float, 'cigna_national_oap': float, 'uhc_choice_plus': float}).drop_duplicates()\n",
    "ProviderFiles = pd.concat([MDAnderson, MemorialHermann, BSW, MiscRates])\n",
    "ProviderFiles['source'] = 'ProviderFiles'\n",
    "ProviderFiles.fillna(0, inplace=True)\n",
    "\n",
    "match_0 = pd.concat([match_0, ProviderFiles])\n",
    "\n",
    "# ProviderFiles = ProviderFiles[ProviderFiles['taxid'] == '741166904']\n",
    "# ProviderFiles = ProviderFiles[ProviderFiles['billing_code'] == 'C1776']\n",
    "# ProviderFiles = ProviderFiles[ProviderFiles['npi'] == '1477516466']\n",
    "ProviderFiles"
   ],
   "metadata": {
    "collapsed": false,
    "ExecuteTime": {
     "end_time": "2024-06-25T13:55:35.069937700Z",
     "start_time": "2024-06-25T13:55:34.777932Z"
    }
   },
   "id": "8f75889f4d6dbfd2"
  },
  {
   "cell_type": "code",
   "execution_count": 413,
   "outputs": [
    {
     "data": {
      "text/plain": "                                      billingprovidername  \\\n135612   UNIVERSITY OF TEXAS M. D. ANDERSON CANCER CENTER   \n134353   UNIVERSITY OF TEXAS M. D. ANDERSON CANCER CENTER   \n135614   UNIVERSITY OF TEXAS M. D. ANDERSON CANCER CENTER   \n134268   UNIVERSITY OF TEXAS M. D. ANDERSON CANCER CENTER   \n56790                      MEMORIAL HERMANN HEALTH SYSTEM   \n...                                                   ...   \n8962    BAYLOR SCOTT & WHITE MEDICAL CENTERS - CAPITOL...   \n125993                   TEXAS INSTITUTE FOR SURGERY, LLP   \n121682                         TEXAS HEALTH HUGULEY, INC.   \n126160                   TEXAS INSTITUTE FOR SURGERY, LLP   \n109140               ST. LUKE'S COMMUNITY HEALTH SERVICES   \n\n       billingprovidertaxid billingprovidernpi  \\\n135612            746001118         1174582050   \n134353            746001118         1174582050   \n135614            746001118         1174582050   \n134268            746001118         1174582050   \n56790             741152597         1730132234   \n...                     ...                ...   \n8962              813040663         1902366305   \n125993            770628004         1245201656   \n121682            452694620         1033120423   \n126160            770628004         1245201656   \n109140            760536234         1942208616   \n\n                                   cbsa_name locationtype facility_indicator  \\\n135612  Houston-The Woodlands-Sugar Land, TX           22           Facility   \n134353  Houston-The Woodlands-Sugar Land, TX           22           Facility   \n135614  Houston-The Woodlands-Sugar Land, TX           22           Facility   \n134268  Houston-The Woodlands-Sugar Land, TX           22           Facility   \n56790   Houston-The Woodlands-Sugar Land, TX           22           Facility   \n...                                      ...          ...                ...   \n8962        Austin-Round Rock-Georgetown, TX           22           Facility   \n125993       Dallas-Fort Worth-Arlington, TX           22           Facility   \n121682       Dallas-Fort Worth-Arlington, TX           22           Facility   \n126160       Dallas-Fort Worth-Arlington, TX           22           Facility   \n109140  Houston-The Woodlands-Sugar Land, TX           22           Facility   \n\n       billing_code_type billing_code                   Description  \\\n135612             HCPCS        J9271             INJ PEMBROLIZUMAB   \n134353               CPT        74177      CT ABD & PELV W/CONTRAST   \n135614             HCPCS        J9299          INJECTION, NIVOLUMAB   \n134268               CPT        71260               CT THORAX DX C+   \n56790                CPT        99284          EMERGENCY DEPT VISIT   \n...                  ...          ...                           ...   \n8962               HCPCS        G1004                     CDSM NDSC   \n125993               CPT        27659     REPAIR OF LEG TENDON EACH   \n121682             HCPCS        A9500               TC99M SESTAMIBI   \n126160               CPT        64590    INSRT/REDO PN/GASTR STIMUL   \n109140             HCPCS        J7512  PREDNISONE IR OR DR ORAL 1MG   \n\n        codecount                               IDN  rank   amtcovered  \\\n135612       1271       University of Texas Systems     4  52482414.95   \n134353       5281       University of Texas Systems     4  34044367.00   \n135614        944       University of Texas Systems     4  26778069.30   \n134268       7128       University of Texas Systems     4  24869128.00   \n56790        5223  Memorial Hermann Hospital System     6  56794476.00   \n...           ...                               ...   ...          ...   \n8962          219     Baylor Scott and White Health     2         2.28   \n125993          1            Texas Health Resources     3         0.01   \n121682          4            Texas Health Resources     3         0.04   \n126160          1            Texas Health Resources     3         0.01   \n109140          1               CHI St Lukes Health    14         0.25   \n\n         amtallowed   bcbs_tx_ppo  cigna_national_oap  uhc_choice_plus  \\\n135612  37752425.84     71.960745           69.914636        70.959503   \n134353  24386949.15     72.000000           71.000000       976.500000   \n135614  19083682.08     71.969073           69.980686        70.976961   \n134268  17845607.03     72.000000           71.000000       976.500000   \n56790   16745749.27   2103.700000         2092.840000      3746.000000   \n...             ...           ...                 ...              ...   \n8962           0.01      0.000000            0.000000         0.000000   \n125993         0.01     51.300000            0.000000      5263.000000   \n121682         0.01    306.290000            0.000000         0.000000   \n126160         0.01  23141.675000            0.000000     10639.333333   \n109140         0.01      0.030000            0.000000         0.000000   \n\n        bcbs_tx_ppo_derived  cigna_national_oap_derived  \\\n135612         29714.191667                  28869.3080   \n134353          4641.530000                   4577.0700   \n135614         20415.178077                  19851.1412   \n134268          2512.030000                   2477.1400   \n56790           2103.700000                   2092.8400   \n...                     ...                         ...   \n8962               0.000000                      0.0000   \n125993             0.000000                      0.0100   \n121682             0.000000                      0.0000   \n126160             0.000000                      0.0100   \n109140             0.000000                      0.0000   \n\n        uhc_choice_plus_derived  \n135612               29300.7560  \n134353                4641.5300  \n135614               20133.7496  \n134268                2196.5150  \n56790                 3746.0000  \n...                         ...  \n8962                     0.0000  \n125993                   0.0000  \n121682                   0.0000  \n126160                   0.0000  \n109140                   0.0000  \n\n[145718 rows x 20 columns]",
      "text/html": "<div>\n<style scoped>\n    .dataframe tbody tr th:only-of-type {\n        vertical-align: middle;\n    }\n\n    .dataframe tbody tr th {\n        vertical-align: top;\n    }\n\n    .dataframe thead th {\n        text-align: right;\n    }\n</style>\n<table border=\"1\" class=\"dataframe\">\n  <thead>\n    <tr style=\"text-align: right;\">\n      <th></th>\n      <th>billingprovidername</th>\n      <th>billingprovidertaxid</th>\n      <th>billingprovidernpi</th>\n      <th>cbsa_name</th>\n      <th>locationtype</th>\n      <th>facility_indicator</th>\n      <th>billing_code_type</th>\n      <th>billing_code</th>\n      <th>Description</th>\n      <th>codecount</th>\n      <th>IDN</th>\n      <th>rank</th>\n      <th>amtcovered</th>\n      <th>amtallowed</th>\n      <th>bcbs_tx_ppo</th>\n      <th>cigna_national_oap</th>\n      <th>uhc_choice_plus</th>\n      <th>bcbs_tx_ppo_derived</th>\n      <th>cigna_national_oap_derived</th>\n      <th>uhc_choice_plus_derived</th>\n    </tr>\n  </thead>\n  <tbody>\n    <tr>\n      <th>135612</th>\n      <td>UNIVERSITY OF TEXAS M. D. ANDERSON CANCER CENTER</td>\n      <td>746001118</td>\n      <td>1174582050</td>\n      <td>Houston-The Woodlands-Sugar Land, TX</td>\n      <td>22</td>\n      <td>Facility</td>\n      <td>HCPCS</td>\n      <td>J9271</td>\n      <td>INJ PEMBROLIZUMAB</td>\n      <td>1271</td>\n      <td>University of Texas Systems</td>\n      <td>4</td>\n      <td>52482414.95</td>\n      <td>37752425.84</td>\n      <td>71.960745</td>\n      <td>69.914636</td>\n      <td>70.959503</td>\n      <td>29714.191667</td>\n      <td>28869.3080</td>\n      <td>29300.7560</td>\n    </tr>\n    <tr>\n      <th>134353</th>\n      <td>UNIVERSITY OF TEXAS M. D. ANDERSON CANCER CENTER</td>\n      <td>746001118</td>\n      <td>1174582050</td>\n      <td>Houston-The Woodlands-Sugar Land, TX</td>\n      <td>22</td>\n      <td>Facility</td>\n      <td>CPT</td>\n      <td>74177</td>\n      <td>CT ABD &amp; PELV W/CONTRAST</td>\n      <td>5281</td>\n      <td>University of Texas Systems</td>\n      <td>4</td>\n      <td>34044367.00</td>\n      <td>24386949.15</td>\n      <td>72.000000</td>\n      <td>71.000000</td>\n      <td>976.500000</td>\n      <td>4641.530000</td>\n      <td>4577.0700</td>\n      <td>4641.5300</td>\n    </tr>\n    <tr>\n      <th>135614</th>\n      <td>UNIVERSITY OF TEXAS M. D. ANDERSON CANCER CENTER</td>\n      <td>746001118</td>\n      <td>1174582050</td>\n      <td>Houston-The Woodlands-Sugar Land, TX</td>\n      <td>22</td>\n      <td>Facility</td>\n      <td>HCPCS</td>\n      <td>J9299</td>\n      <td>INJECTION, NIVOLUMAB</td>\n      <td>944</td>\n      <td>University of Texas Systems</td>\n      <td>4</td>\n      <td>26778069.30</td>\n      <td>19083682.08</td>\n      <td>71.969073</td>\n      <td>69.980686</td>\n      <td>70.976961</td>\n      <td>20415.178077</td>\n      <td>19851.1412</td>\n      <td>20133.7496</td>\n    </tr>\n    <tr>\n      <th>134268</th>\n      <td>UNIVERSITY OF TEXAS M. D. ANDERSON CANCER CENTER</td>\n      <td>746001118</td>\n      <td>1174582050</td>\n      <td>Houston-The Woodlands-Sugar Land, TX</td>\n      <td>22</td>\n      <td>Facility</td>\n      <td>CPT</td>\n      <td>71260</td>\n      <td>CT THORAX DX C+</td>\n      <td>7128</td>\n      <td>University of Texas Systems</td>\n      <td>4</td>\n      <td>24869128.00</td>\n      <td>17845607.03</td>\n      <td>72.000000</td>\n      <td>71.000000</td>\n      <td>976.500000</td>\n      <td>2512.030000</td>\n      <td>2477.1400</td>\n      <td>2196.5150</td>\n    </tr>\n    <tr>\n      <th>56790</th>\n      <td>MEMORIAL HERMANN HEALTH SYSTEM</td>\n      <td>741152597</td>\n      <td>1730132234</td>\n      <td>Houston-The Woodlands-Sugar Land, TX</td>\n      <td>22</td>\n      <td>Facility</td>\n      <td>CPT</td>\n      <td>99284</td>\n      <td>EMERGENCY DEPT VISIT</td>\n      <td>5223</td>\n      <td>Memorial Hermann Hospital System</td>\n      <td>6</td>\n      <td>56794476.00</td>\n      <td>16745749.27</td>\n      <td>2103.700000</td>\n      <td>2092.840000</td>\n      <td>3746.000000</td>\n      <td>2103.700000</td>\n      <td>2092.8400</td>\n      <td>3746.0000</td>\n    </tr>\n    <tr>\n      <th>...</th>\n      <td>...</td>\n      <td>...</td>\n      <td>...</td>\n      <td>...</td>\n      <td>...</td>\n      <td>...</td>\n      <td>...</td>\n      <td>...</td>\n      <td>...</td>\n      <td>...</td>\n      <td>...</td>\n      <td>...</td>\n      <td>...</td>\n      <td>...</td>\n      <td>...</td>\n      <td>...</td>\n      <td>...</td>\n      <td>...</td>\n      <td>...</td>\n      <td>...</td>\n    </tr>\n    <tr>\n      <th>8962</th>\n      <td>BAYLOR SCOTT &amp; WHITE MEDICAL CENTERS - CAPITOL...</td>\n      <td>813040663</td>\n      <td>1902366305</td>\n      <td>Austin-Round Rock-Georgetown, TX</td>\n      <td>22</td>\n      <td>Facility</td>\n      <td>HCPCS</td>\n      <td>G1004</td>\n      <td>CDSM NDSC</td>\n      <td>219</td>\n      <td>Baylor Scott and White Health</td>\n      <td>2</td>\n      <td>2.28</td>\n      <td>0.01</td>\n      <td>0.000000</td>\n      <td>0.000000</td>\n      <td>0.000000</td>\n      <td>0.000000</td>\n      <td>0.0000</td>\n      <td>0.0000</td>\n    </tr>\n    <tr>\n      <th>125993</th>\n      <td>TEXAS INSTITUTE FOR SURGERY, LLP</td>\n      <td>770628004</td>\n      <td>1245201656</td>\n      <td>Dallas-Fort Worth-Arlington, TX</td>\n      <td>22</td>\n      <td>Facility</td>\n      <td>CPT</td>\n      <td>27659</td>\n      <td>REPAIR OF LEG TENDON EACH</td>\n      <td>1</td>\n      <td>Texas Health Resources</td>\n      <td>3</td>\n      <td>0.01</td>\n      <td>0.01</td>\n      <td>51.300000</td>\n      <td>0.000000</td>\n      <td>5263.000000</td>\n      <td>0.000000</td>\n      <td>0.0100</td>\n      <td>0.0000</td>\n    </tr>\n    <tr>\n      <th>121682</th>\n      <td>TEXAS HEALTH HUGULEY, INC.</td>\n      <td>452694620</td>\n      <td>1033120423</td>\n      <td>Dallas-Fort Worth-Arlington, TX</td>\n      <td>22</td>\n      <td>Facility</td>\n      <td>HCPCS</td>\n      <td>A9500</td>\n      <td>TC99M SESTAMIBI</td>\n      <td>4</td>\n      <td>Texas Health Resources</td>\n      <td>3</td>\n      <td>0.04</td>\n      <td>0.01</td>\n      <td>306.290000</td>\n      <td>0.000000</td>\n      <td>0.000000</td>\n      <td>0.000000</td>\n      <td>0.0000</td>\n      <td>0.0000</td>\n    </tr>\n    <tr>\n      <th>126160</th>\n      <td>TEXAS INSTITUTE FOR SURGERY, LLP</td>\n      <td>770628004</td>\n      <td>1245201656</td>\n      <td>Dallas-Fort Worth-Arlington, TX</td>\n      <td>22</td>\n      <td>Facility</td>\n      <td>CPT</td>\n      <td>64590</td>\n      <td>INSRT/REDO PN/GASTR STIMUL</td>\n      <td>1</td>\n      <td>Texas Health Resources</td>\n      <td>3</td>\n      <td>0.01</td>\n      <td>0.01</td>\n      <td>23141.675000</td>\n      <td>0.000000</td>\n      <td>10639.333333</td>\n      <td>0.000000</td>\n      <td>0.0100</td>\n      <td>0.0000</td>\n    </tr>\n    <tr>\n      <th>109140</th>\n      <td>ST. LUKE'S COMMUNITY HEALTH SERVICES</td>\n      <td>760536234</td>\n      <td>1942208616</td>\n      <td>Houston-The Woodlands-Sugar Land, TX</td>\n      <td>22</td>\n      <td>Facility</td>\n      <td>HCPCS</td>\n      <td>J7512</td>\n      <td>PREDNISONE IR OR DR ORAL 1MG</td>\n      <td>1</td>\n      <td>CHI St Lukes Health</td>\n      <td>14</td>\n      <td>0.25</td>\n      <td>0.01</td>\n      <td>0.030000</td>\n      <td>0.000000</td>\n      <td>0.000000</td>\n      <td>0.000000</td>\n      <td>0.0000</td>\n      <td>0.0000</td>\n    </tr>\n  </tbody>\n</table>\n<p>145718 rows × 20 columns</p>\n</div>"
     },
     "execution_count": 413,
     "metadata": {},
     "output_type": "execute_result"
    }
   ],
   "source": [
    "match_1 = pd.merge(df_claims_op, match_0, how='left',\n",
    "                   left_on=[ 'procedurecode','billingprovidertaxid', 'billingprovidernpi'],\n",
    "                   right_on=['billing_code','taxid', 'npi'])\n",
    "\n",
    "match_1 = match_1[match_1['codecount'] > 0]\n",
    "\n",
    "HCPCSAvgUnits = pd.read_csv('Data Sources/HCPCS_AvgUnits.txt',sep='\\t', dtype={'HCPCS': str})\n",
    "match_1 = match_1.merge(HCPCSAvgUnits[['billing_code','billing_code_type','avg_units']], on=['billing_code', 'billing_code_type'], how='left')\n",
    "\n",
    "\n",
    "def calculate_percentage(row, column):\n",
    "    if row['negotiated_type'] == 'percentage' and row[column] != 0:\n",
    "        return round((row[column] / 100) * (row['amtcovered'] / row['codecount']),2)\n",
    "    else:\n",
    "        return row[column]\n",
    "\n",
    "columns_to_update = [\n",
    "    # 'aetna_open_access_managed', \n",
    "    'bcbs_tx_ppo', \n",
    "    'cigna_national_oap', \n",
    "    'uhc_choice_plus']\n",
    "\n",
    "for column in columns_to_update:\n",
    "    match_1[column + '_derived'] = match_1.apply(calculate_percentage, args=(column,), axis=1)\n",
    "\n",
    "\n",
    "def convertunits(row,column):\n",
    "    if row['billing_code_type'] == 'HCPCS' and row['negotiated_type'] == 'negotiated' and row[column] != '':\n",
    "        return float(row[column]) * row['avg_units']\n",
    "    else:\n",
    "        return row[column]\n",
    "\n",
    "derived_columns = ['bcbs_tx_ppo_derived', 'cigna_national_oap_derived', 'uhc_choice_plus_derived']\n",
    "\n",
    "for column in derived_columns:\n",
    "    match_1[column] = match_1.apply(convertunits, args=(column,), axis=1)\n",
    "    \n",
    "    \n",
    "match_1 = pd.merge(match_1, cstm_cigna_0, how='left',left_on=['billingprovidertaxid', 'billingprovidernpi'], right_on=['taxid', 'npi'], suffixes=('', '_cstm'))\n",
    "\n",
    "\n",
    "def calculate_percentage_cstm(row, column):\n",
    "    if pd.isna(row[column]) and not pd.isna(row['cigna_national_oap_cstm']):\n",
    "        return round((row['cigna_national_oap_cstm'] / 100) * (row['amtcovered'] / row['codecount']),2)\n",
    "    else:\n",
    "        return row[column]\n",
    "\n",
    "columns_to_update = ['cigna_national_oap_derived']\n",
    "\n",
    "for column in columns_to_update:\n",
    "    match_1[column] = match_1.apply(calculate_percentage_cstm, args=(column,), axis=1)\n",
    "\n",
    "match_1['bcbstx_test'] = match_1['bcbs_tx_ppo_derived'] / (match_1['amtallowed'] / match_1['codecount'])\n",
    "match_1['cigna_test'] = match_1['cigna_national_oap_derived'] / (match_1['amtallowed'] / match_1['codecount'])\n",
    "match_1['uhc_test'] = match_1['uhc_choice_plus_derived'] / (match_1['amtallowed'] / match_1['codecount'])\n",
    "\n",
    "test_columns = ['bcbstx_test', 'cigna_test', 'uhc_test']\n",
    "update_columns = ['bcbs_tx_ppo_derived', 'cigna_national_oap_derived', 'uhc_choice_plus_derived']\n",
    "\n",
    "def allowed_test(row, column, column2):\n",
    "    if row[column] > 1.5 or row[column] < 0.5:\n",
    "        return 0\n",
    "    else:\n",
    "        return row[column2]\n",
    "\n",
    "for index, row in match_1.iterrows():\n",
    "    for i in range(len(test_columns)):\n",
    "        if allowed_test(row, test_columns[i], update_columns[i]) == 0:\n",
    "            match_1.at[index, update_columns[i]] = 0\n",
    "\n",
    "match_1 = match_1.merge(outlier_rates, on=['billing_code', 'billing_code_type', 'negotiated_type'], how='left')\n",
    "\n",
    "def remove_outliers(row, column):\n",
    "    if row['rec_ub_outlier'] < row[column]:\n",
    "        return 0\n",
    "    elif row['rec_lb_outlier'] > row[column] :\n",
    "        return 0\n",
    "    else:\n",
    "        return row[column]\n",
    "\n",
    "columns_to_update = [\n",
    "    # 'aetna_open_access_managed_derived', \n",
    "    'bcbs_tx_ppo_derived', \n",
    "    'cigna_national_oap_derived', \n",
    "    'uhc_choice_plus_derived']\n",
    "\n",
    "for column in columns_to_update:\n",
    "    match_1[column] = match_1.apply(remove_outliers, args=(column,), axis=1)\n",
    "\n",
    "\n",
    "def mean_positive(x):\n",
    "    return x[x > 0].mean()\n",
    "\n",
    "\n",
    "match_1 = match_1.groupby(['billingprovidername', 'billingprovidertaxid','billingprovidernpi', 'cbsa_name', 'locationtype', 'facility_indicator', 'proceduretype' , 'procedurecode', 'procedurename', 'codecount', 'IDN', 'rank']).agg({\n",
    "    'amtcovered': mean_positive,\n",
    "    'amtallowed': mean_positive,\n",
    "    # 'aetna_open_access_managed': mean_positive, \n",
    "    'bcbs_tx_ppo': mean_positive, \n",
    "    'cigna_national_oap': mean_positive, \n",
    "    'uhc_choice_plus': mean_positive, \n",
    "    # 'aetna_open_access_managed_derived': mean_positive, \n",
    "    'bcbs_tx_ppo_derived': mean_positive, \n",
    "    'cigna_national_oap_derived': mean_positive, \n",
    "    'uhc_choice_plus_derived': mean_positive}).reset_index().sort_values('amtallowed', ascending = False)\n",
    "\n",
    "\n",
    "match_1.rename(columns={'procedurecode': 'billing_code', 'proceduretype': 'billing_code_type', 'procedurename': 'Description'}, inplace=True)\n",
    "\n",
    "match_1 = match_1.fillna(0)\n",
    "# match_1.drop(columns=['source', 'taxid', 'npi', 'negotiated_type_cstm', 'cigna_national_oap_cstm', 'rec_lb_outlier', 'rec_ub_outlier', 'negotiated_type'], inplace=True)\n",
    "\n",
    "\n",
    "\n",
    "# match_1 = match_1[match_1['billingprovidertaxid'] == '753175630']\n",
    "# match_1 = match_1[match_1['billing_code'] == '77300']\n",
    "# match_1 = match_1[match_1['billingprovidernpi'] == '1285798918']\n",
    "# match_1 = match_1[match_1['rank'] == 2]\n",
    "match_1 "
   ],
   "metadata": {
    "collapsed": false,
    "ExecuteTime": {
     "end_time": "2024-06-25T15:29:23.252164500Z",
     "start_time": "2024-06-25T15:26:49.908959Z"
    }
   },
   "id": "4290c2b144e0d2"
  },
  {
   "cell_type": "code",
   "execution_count": 414,
   "outputs": [],
   "source": [
    "# rank = df_claims_op[df_claims_op['rank'] == 2]\n",
    "allowed = df_claims_op['amtallowed'].sum()\n",
    "match_1['share'] = match_1['amtallowed'] / allowed\n",
    "\n",
    "match_1['bcbstx_match'] = match_1['bcbs_tx_ppo_derived'] / match_1['bcbs_tx_ppo_derived'] * match_1['share']\n",
    "match_1['uhc_match'] = match_1['uhc_choice_plus_derived'] / match_1['bcbs_tx_ppo_derived'] * match_1['share']\n",
    "# match_1['aetna_match'] = match_1['aetna_open_access_managed_derived'] / match_1['bcbs_tx_ppo_derived'] * match_1['share']\n",
    "match_1['cigna_match'] = match_1['cigna_national_oap_derived'] / match_1['bcbs_tx_ppo_derived'] * match_1['share']\n",
    "\n",
    "match_1 = match_1.fillna(0).replace([np.inf,-np.inf],0)\n",
    "match_1.to_csv('Data Sources/MatchedRates_op.gz',index=False, compression='gzip')\n",
    "# match_1"
   ],
   "metadata": {
    "collapsed": false,
    "ExecuteTime": {
     "end_time": "2024-06-25T15:29:28.730787400Z",
     "start_time": "2024-06-25T15:29:23.255164400Z"
    }
   },
   "id": "b94767a22d9cdd26"
  },
  {
   "cell_type": "code",
   "execution_count": 415,
   "outputs": [
    {
     "name": "stdout",
     "output_type": "stream",
     "text": [
      "Any data 1.0\n",
      "BCBS/UHC share 0.4715883975121695\n",
      "BCBS/Cigna share 0.6158940949551167\n"
     ]
    }
   ],
   "source": [
    "print('Any data',1-match_1.loc[match_1.billingprovidertaxid == 0,'share'].sum())\n",
    "\n",
    "cond_1 =(match_1.bcbs_tx_ppo_derived != 0) & (match_1.uhc_choice_plus_derived != 0)\n",
    "# cond_2 = (match_1.bcbs_tx_ppo_derived != 0) & (match_1.aetna_open_access_managed_derived != 0)\n",
    "cond_3 = (match_1.bcbs_tx_ppo_derived != 0) & (match_1.cigna_national_oap_derived != 0)\n",
    "print('BCBS/UHC share',match_1.loc[cond_1,'share'].sum())\n",
    "# print('BCBS/Aetna share',match_1.loc[cond_2,'share'].sum())\n",
    "print('BCBS/Cigna share',match_1.loc[cond_3,'share'].sum())\n",
    "\n",
    "del cond_1\n",
    "# del cond_2\n",
    "del cond_3\n"
   ],
   "metadata": {
    "collapsed": false,
    "ExecuteTime": {
     "end_time": "2024-06-25T15:29:28.733794400Z",
     "start_time": "2024-06-25T15:29:28.718744900Z"
    }
   },
   "id": "b816c7e878f9a0ae"
  },
  {
   "cell_type": "code",
   "execution_count": 416,
   "outputs": [
    {
     "name": "stdout",
     "output_type": "stream",
     "text": [
      "1.011226696563595\n",
      "0.981540589108417\n"
     ]
    }
   ],
   "source": [
    " cond_uhc = match_1[(match_1.bcbstx_match != 0) & (match_1.uhc_match != 0)]\n",
    " cond_cigna = match_1[(match_1.bcbstx_match != 0) & (match_1.cigna_match != 0)]\n",
    "# columns = ['billingprovidertaxid','share', 'bcbstx_matched', 'uhc_matched']\n",
    "# grouped = ['billingprovidertaxid']\n",
    "\n",
    "# a = match_1.loc[cond,columns].groupby(grouped).sum()\n",
    "# a1 = dict(zip(a.index,a.share))\n",
    "# a2 = dict(zip(a.index,a.uhc_match))\n",
    "# \n",
    "# weights_prov['UHC_share'] = weights_prov['billingprovidertaxid'].map(a1)\n",
    "# weights_prov['UHC_share'] = weights_prov['UHC_share'].fillna(0)\n",
    "# weights_prov['UHC_weigthed'] = weights_prov['billingprovidertaxid'].map(a2)\n",
    "# weights_prov['avail_share'] = weights_prov['UHC_share'] / weights_prov['share']\n",
    "# weights_prov['matched_share'] = weights_prov['avail_share'] * weights_prov['share']\n",
    "# weights_prov['avail_cum_share'] = weights_prov['UHC_share'].cumsum()\n",
    "# weights_prov['UHC_factor'] = weights_prov['UHC_weigthed'] / weights_prov['UHC_share']\n",
    "# weights_prov['UHC_factorX'] = weights_prov['UHC_factor'] * weights_prov['matched_share']\n",
    "# weights_prov['npi'] = weights_prov['billingprovidertaxid'].astype(int)\n",
    "# weights_prov['sharexfctr'] = weights_prov['matched_share'] * weights_prov['UHC_factor']\n",
    "# \n",
    "# final_prov = weights_prov.loc[:,['billingprovidertaxid','allowed', 'share','avail_share','matched_share','UHC_factor', 'sharexfctr']]\n",
    "# del cond, columns, grouped, a, a1, a2\n",
    "# total = final_prov.sharexfctr.sum() / final_prov.matched_share.sum()\n",
    "# print(total)\n",
    "# final_prov\n",
    "total_uhc = cond_uhc.bcbstx_match.sum() / cond_uhc.uhc_match.sum()\n",
    "total_cigna = cond_cigna.bcbstx_match.sum() / cond_cigna.cigna_match.sum()\n",
    "print(total_uhc)\n",
    "print(total_cigna)"
   ],
   "metadata": {
    "collapsed": false,
    "ExecuteTime": {
     "end_time": "2024-06-25T15:29:28.794755200Z",
     "start_time": "2024-06-25T15:29:28.735721700Z"
    }
   },
   "id": "3c91fab632c25feb"
  },
  {
   "cell_type": "code",
   "execution_count": null,
   "outputs": [],
   "source": [],
   "metadata": {
    "collapsed": false
   },
   "id": "1021b96c94e7c799"
  }
 ],
 "metadata": {
  "kernelspec": {
   "display_name": "Python 3",
   "language": "python",
   "name": "python3"
  },
  "language_info": {
   "codemirror_mode": {
    "name": "ipython",
    "version": 2
   },
   "file_extension": ".py",
   "mimetype": "text/x-python",
   "name": "python",
   "nbconvert_exporter": "python",
   "pygments_lexer": "ipython2",
   "version": "2.7.6"
  }
 },
 "nbformat": 4,
 "nbformat_minor": 5
}
